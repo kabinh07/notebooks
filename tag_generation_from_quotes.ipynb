{
  "nbformat": 4,
  "nbformat_minor": 0,
  "metadata": {
    "colab": {
      "provenance": []
    },
    "kernelspec": {
      "name": "python3",
      "display_name": "Python 3"
    },
    "language_info": {
      "name": "python"
    },
    "widgets": {
      "application/vnd.jupyter.widget-state+json": {
        "76dc1bf548544606a98a76f1fd58fb90": {
          "model_module": "@jupyter-widgets/controls",
          "model_name": "HBoxModel",
          "model_module_version": "1.5.0",
          "state": {
            "_dom_classes": [],
            "_model_module": "@jupyter-widgets/controls",
            "_model_module_version": "1.5.0",
            "_model_name": "HBoxModel",
            "_view_count": null,
            "_view_module": "@jupyter-widgets/controls",
            "_view_module_version": "1.5.0",
            "_view_name": "HBoxView",
            "box_style": "",
            "children": [
              "IPY_MODEL_de93c6ebb0074a57a72e3da5e37feb4a",
              "IPY_MODEL_aac4365f1bd141d6b6e52cbde0a34ec3",
              "IPY_MODEL_64c03b505c154413a4d4852cdf29dc23"
            ],
            "layout": "IPY_MODEL_f6b9a5823a9b4e5d84401f3e01a7468d"
          }
        },
        "de93c6ebb0074a57a72e3da5e37feb4a": {
          "model_module": "@jupyter-widgets/controls",
          "model_name": "HTMLModel",
          "model_module_version": "1.5.0",
          "state": {
            "_dom_classes": [],
            "_model_module": "@jupyter-widgets/controls",
            "_model_module_version": "1.5.0",
            "_model_name": "HTMLModel",
            "_view_count": null,
            "_view_module": "@jupyter-widgets/controls",
            "_view_module_version": "1.5.0",
            "_view_name": "HTMLView",
            "description": "",
            "description_tooltip": null,
            "layout": "IPY_MODEL_67dc351d8b6f44e08e514711a302786f",
            "placeholder": "​",
            "style": "IPY_MODEL_be643efdf4654118a44b61f13dc17b50",
            "value": "config.json: 100%"
          }
        },
        "aac4365f1bd141d6b6e52cbde0a34ec3": {
          "model_module": "@jupyter-widgets/controls",
          "model_name": "FloatProgressModel",
          "model_module_version": "1.5.0",
          "state": {
            "_dom_classes": [],
            "_model_module": "@jupyter-widgets/controls",
            "_model_module_version": "1.5.0",
            "_model_name": "FloatProgressModel",
            "_view_count": null,
            "_view_module": "@jupyter-widgets/controls",
            "_view_module_version": "1.5.0",
            "_view_name": "ProgressView",
            "bar_style": "success",
            "description": "",
            "description_tooltip": null,
            "layout": "IPY_MODEL_13b121b7dec74746888a23cde16d2863",
            "max": 480,
            "min": 0,
            "orientation": "horizontal",
            "style": "IPY_MODEL_91a1d7f5e7bf4752989c389ed3589738",
            "value": 480
          }
        },
        "64c03b505c154413a4d4852cdf29dc23": {
          "model_module": "@jupyter-widgets/controls",
          "model_name": "HTMLModel",
          "model_module_version": "1.5.0",
          "state": {
            "_dom_classes": [],
            "_model_module": "@jupyter-widgets/controls",
            "_model_module_version": "1.5.0",
            "_model_name": "HTMLModel",
            "_view_count": null,
            "_view_module": "@jupyter-widgets/controls",
            "_view_module_version": "1.5.0",
            "_view_name": "HTMLView",
            "description": "",
            "description_tooltip": null,
            "layout": "IPY_MODEL_9b78fc6f49ab4bc99050bcdc5fbe8aa0",
            "placeholder": "​",
            "style": "IPY_MODEL_c71882039a274732a8b34e2214a911d2",
            "value": " 480/480 [00:00&lt;00:00, 22.1kB/s]"
          }
        },
        "f6b9a5823a9b4e5d84401f3e01a7468d": {
          "model_module": "@jupyter-widgets/base",
          "model_name": "LayoutModel",
          "model_module_version": "1.2.0",
          "state": {
            "_model_module": "@jupyter-widgets/base",
            "_model_module_version": "1.2.0",
            "_model_name": "LayoutModel",
            "_view_count": null,
            "_view_module": "@jupyter-widgets/base",
            "_view_module_version": "1.2.0",
            "_view_name": "LayoutView",
            "align_content": null,
            "align_items": null,
            "align_self": null,
            "border": null,
            "bottom": null,
            "display": null,
            "flex": null,
            "flex_flow": null,
            "grid_area": null,
            "grid_auto_columns": null,
            "grid_auto_flow": null,
            "grid_auto_rows": null,
            "grid_column": null,
            "grid_gap": null,
            "grid_row": null,
            "grid_template_areas": null,
            "grid_template_columns": null,
            "grid_template_rows": null,
            "height": null,
            "justify_content": null,
            "justify_items": null,
            "left": null,
            "margin": null,
            "max_height": null,
            "max_width": null,
            "min_height": null,
            "min_width": null,
            "object_fit": null,
            "object_position": null,
            "order": null,
            "overflow": null,
            "overflow_x": null,
            "overflow_y": null,
            "padding": null,
            "right": null,
            "top": null,
            "visibility": null,
            "width": null
          }
        },
        "67dc351d8b6f44e08e514711a302786f": {
          "model_module": "@jupyter-widgets/base",
          "model_name": "LayoutModel",
          "model_module_version": "1.2.0",
          "state": {
            "_model_module": "@jupyter-widgets/base",
            "_model_module_version": "1.2.0",
            "_model_name": "LayoutModel",
            "_view_count": null,
            "_view_module": "@jupyter-widgets/base",
            "_view_module_version": "1.2.0",
            "_view_name": "LayoutView",
            "align_content": null,
            "align_items": null,
            "align_self": null,
            "border": null,
            "bottom": null,
            "display": null,
            "flex": null,
            "flex_flow": null,
            "grid_area": null,
            "grid_auto_columns": null,
            "grid_auto_flow": null,
            "grid_auto_rows": null,
            "grid_column": null,
            "grid_gap": null,
            "grid_row": null,
            "grid_template_areas": null,
            "grid_template_columns": null,
            "grid_template_rows": null,
            "height": null,
            "justify_content": null,
            "justify_items": null,
            "left": null,
            "margin": null,
            "max_height": null,
            "max_width": null,
            "min_height": null,
            "min_width": null,
            "object_fit": null,
            "object_position": null,
            "order": null,
            "overflow": null,
            "overflow_x": null,
            "overflow_y": null,
            "padding": null,
            "right": null,
            "top": null,
            "visibility": null,
            "width": null
          }
        },
        "be643efdf4654118a44b61f13dc17b50": {
          "model_module": "@jupyter-widgets/controls",
          "model_name": "DescriptionStyleModel",
          "model_module_version": "1.5.0",
          "state": {
            "_model_module": "@jupyter-widgets/controls",
            "_model_module_version": "1.5.0",
            "_model_name": "DescriptionStyleModel",
            "_view_count": null,
            "_view_module": "@jupyter-widgets/base",
            "_view_module_version": "1.2.0",
            "_view_name": "StyleView",
            "description_width": ""
          }
        },
        "13b121b7dec74746888a23cde16d2863": {
          "model_module": "@jupyter-widgets/base",
          "model_name": "LayoutModel",
          "model_module_version": "1.2.0",
          "state": {
            "_model_module": "@jupyter-widgets/base",
            "_model_module_version": "1.2.0",
            "_model_name": "LayoutModel",
            "_view_count": null,
            "_view_module": "@jupyter-widgets/base",
            "_view_module_version": "1.2.0",
            "_view_name": "LayoutView",
            "align_content": null,
            "align_items": null,
            "align_self": null,
            "border": null,
            "bottom": null,
            "display": null,
            "flex": null,
            "flex_flow": null,
            "grid_area": null,
            "grid_auto_columns": null,
            "grid_auto_flow": null,
            "grid_auto_rows": null,
            "grid_column": null,
            "grid_gap": null,
            "grid_row": null,
            "grid_template_areas": null,
            "grid_template_columns": null,
            "grid_template_rows": null,
            "height": null,
            "justify_content": null,
            "justify_items": null,
            "left": null,
            "margin": null,
            "max_height": null,
            "max_width": null,
            "min_height": null,
            "min_width": null,
            "object_fit": null,
            "object_position": null,
            "order": null,
            "overflow": null,
            "overflow_x": null,
            "overflow_y": null,
            "padding": null,
            "right": null,
            "top": null,
            "visibility": null,
            "width": null
          }
        },
        "91a1d7f5e7bf4752989c389ed3589738": {
          "model_module": "@jupyter-widgets/controls",
          "model_name": "ProgressStyleModel",
          "model_module_version": "1.5.0",
          "state": {
            "_model_module": "@jupyter-widgets/controls",
            "_model_module_version": "1.5.0",
            "_model_name": "ProgressStyleModel",
            "_view_count": null,
            "_view_module": "@jupyter-widgets/base",
            "_view_module_version": "1.2.0",
            "_view_name": "StyleView",
            "bar_color": null,
            "description_width": ""
          }
        },
        "9b78fc6f49ab4bc99050bcdc5fbe8aa0": {
          "model_module": "@jupyter-widgets/base",
          "model_name": "LayoutModel",
          "model_module_version": "1.2.0",
          "state": {
            "_model_module": "@jupyter-widgets/base",
            "_model_module_version": "1.2.0",
            "_model_name": "LayoutModel",
            "_view_count": null,
            "_view_module": "@jupyter-widgets/base",
            "_view_module_version": "1.2.0",
            "_view_name": "LayoutView",
            "align_content": null,
            "align_items": null,
            "align_self": null,
            "border": null,
            "bottom": null,
            "display": null,
            "flex": null,
            "flex_flow": null,
            "grid_area": null,
            "grid_auto_columns": null,
            "grid_auto_flow": null,
            "grid_auto_rows": null,
            "grid_column": null,
            "grid_gap": null,
            "grid_row": null,
            "grid_template_areas": null,
            "grid_template_columns": null,
            "grid_template_rows": null,
            "height": null,
            "justify_content": null,
            "justify_items": null,
            "left": null,
            "margin": null,
            "max_height": null,
            "max_width": null,
            "min_height": null,
            "min_width": null,
            "object_fit": null,
            "object_position": null,
            "order": null,
            "overflow": null,
            "overflow_x": null,
            "overflow_y": null,
            "padding": null,
            "right": null,
            "top": null,
            "visibility": null,
            "width": null
          }
        },
        "c71882039a274732a8b34e2214a911d2": {
          "model_module": "@jupyter-widgets/controls",
          "model_name": "DescriptionStyleModel",
          "model_module_version": "1.5.0",
          "state": {
            "_model_module": "@jupyter-widgets/controls",
            "_model_module_version": "1.5.0",
            "_model_name": "DescriptionStyleModel",
            "_view_count": null,
            "_view_module": "@jupyter-widgets/base",
            "_view_module_version": "1.2.0",
            "_view_name": "StyleView",
            "description_width": ""
          }
        },
        "dd0f3ecec600474d9280fbb89df12c3b": {
          "model_module": "@jupyter-widgets/controls",
          "model_name": "HBoxModel",
          "model_module_version": "1.5.0",
          "state": {
            "_dom_classes": [],
            "_model_module": "@jupyter-widgets/controls",
            "_model_module_version": "1.5.0",
            "_model_name": "HBoxModel",
            "_view_count": null,
            "_view_module": "@jupyter-widgets/controls",
            "_view_module_version": "1.5.0",
            "_view_name": "HBoxView",
            "box_style": "",
            "children": [
              "IPY_MODEL_92e4ef182d8a455daa95e1f010bb58c2",
              "IPY_MODEL_7e95ec0c03a541da9c87bbb4cc2b207d",
              "IPY_MODEL_5d463f5941364efc89821fcdc7a54e71"
            ],
            "layout": "IPY_MODEL_8d8a30b8cebb41468c29b290d2fca7dd"
          }
        },
        "92e4ef182d8a455daa95e1f010bb58c2": {
          "model_module": "@jupyter-widgets/controls",
          "model_name": "HTMLModel",
          "model_module_version": "1.5.0",
          "state": {
            "_dom_classes": [],
            "_model_module": "@jupyter-widgets/controls",
            "_model_module_version": "1.5.0",
            "_model_name": "HTMLModel",
            "_view_count": null,
            "_view_module": "@jupyter-widgets/controls",
            "_view_module_version": "1.5.0",
            "_view_name": "HTMLView",
            "description": "",
            "description_tooltip": null,
            "layout": "IPY_MODEL_16b7913c62984486afa6caf23fa470e8",
            "placeholder": "​",
            "style": "IPY_MODEL_ed781b6e24e14905bf988e93dc79b7a2",
            "value": "vocab.json: 100%"
          }
        },
        "7e95ec0c03a541da9c87bbb4cc2b207d": {
          "model_module": "@jupyter-widgets/controls",
          "model_name": "FloatProgressModel",
          "model_module_version": "1.5.0",
          "state": {
            "_dom_classes": [],
            "_model_module": "@jupyter-widgets/controls",
            "_model_module_version": "1.5.0",
            "_model_name": "FloatProgressModel",
            "_view_count": null,
            "_view_module": "@jupyter-widgets/controls",
            "_view_module_version": "1.5.0",
            "_view_name": "ProgressView",
            "bar_style": "success",
            "description": "",
            "description_tooltip": null,
            "layout": "IPY_MODEL_4d2ceb67fd2d45cba93bff84c54293e9",
            "max": 898823,
            "min": 0,
            "orientation": "horizontal",
            "style": "IPY_MODEL_211516c1df1043a29cc26648056e10af",
            "value": 898823
          }
        },
        "5d463f5941364efc89821fcdc7a54e71": {
          "model_module": "@jupyter-widgets/controls",
          "model_name": "HTMLModel",
          "model_module_version": "1.5.0",
          "state": {
            "_dom_classes": [],
            "_model_module": "@jupyter-widgets/controls",
            "_model_module_version": "1.5.0",
            "_model_name": "HTMLModel",
            "_view_count": null,
            "_view_module": "@jupyter-widgets/controls",
            "_view_module_version": "1.5.0",
            "_view_name": "HTMLView",
            "description": "",
            "description_tooltip": null,
            "layout": "IPY_MODEL_d43c42f86a52446ea3d74a2ac71ee586",
            "placeholder": "​",
            "style": "IPY_MODEL_9386c98090864f0d89d2afb0e075f8de",
            "value": " 899k/899k [00:00&lt;00:00, 13.1MB/s]"
          }
        },
        "8d8a30b8cebb41468c29b290d2fca7dd": {
          "model_module": "@jupyter-widgets/base",
          "model_name": "LayoutModel",
          "model_module_version": "1.2.0",
          "state": {
            "_model_module": "@jupyter-widgets/base",
            "_model_module_version": "1.2.0",
            "_model_name": "LayoutModel",
            "_view_count": null,
            "_view_module": "@jupyter-widgets/base",
            "_view_module_version": "1.2.0",
            "_view_name": "LayoutView",
            "align_content": null,
            "align_items": null,
            "align_self": null,
            "border": null,
            "bottom": null,
            "display": null,
            "flex": null,
            "flex_flow": null,
            "grid_area": null,
            "grid_auto_columns": null,
            "grid_auto_flow": null,
            "grid_auto_rows": null,
            "grid_column": null,
            "grid_gap": null,
            "grid_row": null,
            "grid_template_areas": null,
            "grid_template_columns": null,
            "grid_template_rows": null,
            "height": null,
            "justify_content": null,
            "justify_items": null,
            "left": null,
            "margin": null,
            "max_height": null,
            "max_width": null,
            "min_height": null,
            "min_width": null,
            "object_fit": null,
            "object_position": null,
            "order": null,
            "overflow": null,
            "overflow_x": null,
            "overflow_y": null,
            "padding": null,
            "right": null,
            "top": null,
            "visibility": null,
            "width": null
          }
        },
        "16b7913c62984486afa6caf23fa470e8": {
          "model_module": "@jupyter-widgets/base",
          "model_name": "LayoutModel",
          "model_module_version": "1.2.0",
          "state": {
            "_model_module": "@jupyter-widgets/base",
            "_model_module_version": "1.2.0",
            "_model_name": "LayoutModel",
            "_view_count": null,
            "_view_module": "@jupyter-widgets/base",
            "_view_module_version": "1.2.0",
            "_view_name": "LayoutView",
            "align_content": null,
            "align_items": null,
            "align_self": null,
            "border": null,
            "bottom": null,
            "display": null,
            "flex": null,
            "flex_flow": null,
            "grid_area": null,
            "grid_auto_columns": null,
            "grid_auto_flow": null,
            "grid_auto_rows": null,
            "grid_column": null,
            "grid_gap": null,
            "grid_row": null,
            "grid_template_areas": null,
            "grid_template_columns": null,
            "grid_template_rows": null,
            "height": null,
            "justify_content": null,
            "justify_items": null,
            "left": null,
            "margin": null,
            "max_height": null,
            "max_width": null,
            "min_height": null,
            "min_width": null,
            "object_fit": null,
            "object_position": null,
            "order": null,
            "overflow": null,
            "overflow_x": null,
            "overflow_y": null,
            "padding": null,
            "right": null,
            "top": null,
            "visibility": null,
            "width": null
          }
        },
        "ed781b6e24e14905bf988e93dc79b7a2": {
          "model_module": "@jupyter-widgets/controls",
          "model_name": "DescriptionStyleModel",
          "model_module_version": "1.5.0",
          "state": {
            "_model_module": "@jupyter-widgets/controls",
            "_model_module_version": "1.5.0",
            "_model_name": "DescriptionStyleModel",
            "_view_count": null,
            "_view_module": "@jupyter-widgets/base",
            "_view_module_version": "1.2.0",
            "_view_name": "StyleView",
            "description_width": ""
          }
        },
        "4d2ceb67fd2d45cba93bff84c54293e9": {
          "model_module": "@jupyter-widgets/base",
          "model_name": "LayoutModel",
          "model_module_version": "1.2.0",
          "state": {
            "_model_module": "@jupyter-widgets/base",
            "_model_module_version": "1.2.0",
            "_model_name": "LayoutModel",
            "_view_count": null,
            "_view_module": "@jupyter-widgets/base",
            "_view_module_version": "1.2.0",
            "_view_name": "LayoutView",
            "align_content": null,
            "align_items": null,
            "align_self": null,
            "border": null,
            "bottom": null,
            "display": null,
            "flex": null,
            "flex_flow": null,
            "grid_area": null,
            "grid_auto_columns": null,
            "grid_auto_flow": null,
            "grid_auto_rows": null,
            "grid_column": null,
            "grid_gap": null,
            "grid_row": null,
            "grid_template_areas": null,
            "grid_template_columns": null,
            "grid_template_rows": null,
            "height": null,
            "justify_content": null,
            "justify_items": null,
            "left": null,
            "margin": null,
            "max_height": null,
            "max_width": null,
            "min_height": null,
            "min_width": null,
            "object_fit": null,
            "object_position": null,
            "order": null,
            "overflow": null,
            "overflow_x": null,
            "overflow_y": null,
            "padding": null,
            "right": null,
            "top": null,
            "visibility": null,
            "width": null
          }
        },
        "211516c1df1043a29cc26648056e10af": {
          "model_module": "@jupyter-widgets/controls",
          "model_name": "ProgressStyleModel",
          "model_module_version": "1.5.0",
          "state": {
            "_model_module": "@jupyter-widgets/controls",
            "_model_module_version": "1.5.0",
            "_model_name": "ProgressStyleModel",
            "_view_count": null,
            "_view_module": "@jupyter-widgets/base",
            "_view_module_version": "1.2.0",
            "_view_name": "StyleView",
            "bar_color": null,
            "description_width": ""
          }
        },
        "d43c42f86a52446ea3d74a2ac71ee586": {
          "model_module": "@jupyter-widgets/base",
          "model_name": "LayoutModel",
          "model_module_version": "1.2.0",
          "state": {
            "_model_module": "@jupyter-widgets/base",
            "_model_module_version": "1.2.0",
            "_model_name": "LayoutModel",
            "_view_count": null,
            "_view_module": "@jupyter-widgets/base",
            "_view_module_version": "1.2.0",
            "_view_name": "LayoutView",
            "align_content": null,
            "align_items": null,
            "align_self": null,
            "border": null,
            "bottom": null,
            "display": null,
            "flex": null,
            "flex_flow": null,
            "grid_area": null,
            "grid_auto_columns": null,
            "grid_auto_flow": null,
            "grid_auto_rows": null,
            "grid_column": null,
            "grid_gap": null,
            "grid_row": null,
            "grid_template_areas": null,
            "grid_template_columns": null,
            "grid_template_rows": null,
            "height": null,
            "justify_content": null,
            "justify_items": null,
            "left": null,
            "margin": null,
            "max_height": null,
            "max_width": null,
            "min_height": null,
            "min_width": null,
            "object_fit": null,
            "object_position": null,
            "order": null,
            "overflow": null,
            "overflow_x": null,
            "overflow_y": null,
            "padding": null,
            "right": null,
            "top": null,
            "visibility": null,
            "width": null
          }
        },
        "9386c98090864f0d89d2afb0e075f8de": {
          "model_module": "@jupyter-widgets/controls",
          "model_name": "DescriptionStyleModel",
          "model_module_version": "1.5.0",
          "state": {
            "_model_module": "@jupyter-widgets/controls",
            "_model_module_version": "1.5.0",
            "_model_name": "DescriptionStyleModel",
            "_view_count": null,
            "_view_module": "@jupyter-widgets/base",
            "_view_module_version": "1.2.0",
            "_view_name": "StyleView",
            "description_width": ""
          }
        },
        "7b9c68d9fa724088ba9c83b4f3d84e4c": {
          "model_module": "@jupyter-widgets/controls",
          "model_name": "HBoxModel",
          "model_module_version": "1.5.0",
          "state": {
            "_dom_classes": [],
            "_model_module": "@jupyter-widgets/controls",
            "_model_module_version": "1.5.0",
            "_model_name": "HBoxModel",
            "_view_count": null,
            "_view_module": "@jupyter-widgets/controls",
            "_view_module_version": "1.5.0",
            "_view_name": "HBoxView",
            "box_style": "",
            "children": [
              "IPY_MODEL_f60cc4a890044d2f911d80ed47d2ab67",
              "IPY_MODEL_02a8bd3f68634a7aa5b48cd1175c5874",
              "IPY_MODEL_72e06b289913460eb29e11e8e434ff73"
            ],
            "layout": "IPY_MODEL_101a681d18b240f5a83e9cf18bb4c0f5"
          }
        },
        "f60cc4a890044d2f911d80ed47d2ab67": {
          "model_module": "@jupyter-widgets/controls",
          "model_name": "HTMLModel",
          "model_module_version": "1.5.0",
          "state": {
            "_dom_classes": [],
            "_model_module": "@jupyter-widgets/controls",
            "_model_module_version": "1.5.0",
            "_model_name": "HTMLModel",
            "_view_count": null,
            "_view_module": "@jupyter-widgets/controls",
            "_view_module_version": "1.5.0",
            "_view_name": "HTMLView",
            "description": "",
            "description_tooltip": null,
            "layout": "IPY_MODEL_69f60e88d703460e9d31b85aae65b8af",
            "placeholder": "​",
            "style": "IPY_MODEL_0a55feb57bd845a29fcbfd35463339f9",
            "value": "merges.txt: 100%"
          }
        },
        "02a8bd3f68634a7aa5b48cd1175c5874": {
          "model_module": "@jupyter-widgets/controls",
          "model_name": "FloatProgressModel",
          "model_module_version": "1.5.0",
          "state": {
            "_dom_classes": [],
            "_model_module": "@jupyter-widgets/controls",
            "_model_module_version": "1.5.0",
            "_model_name": "FloatProgressModel",
            "_view_count": null,
            "_view_module": "@jupyter-widgets/controls",
            "_view_module_version": "1.5.0",
            "_view_name": "ProgressView",
            "bar_style": "success",
            "description": "",
            "description_tooltip": null,
            "layout": "IPY_MODEL_7b7438ef45f044609df5da4e2539267b",
            "max": 456318,
            "min": 0,
            "orientation": "horizontal",
            "style": "IPY_MODEL_ec03cafe863f4c31b6fd67b32e6cc1d3",
            "value": 456318
          }
        },
        "72e06b289913460eb29e11e8e434ff73": {
          "model_module": "@jupyter-widgets/controls",
          "model_name": "HTMLModel",
          "model_module_version": "1.5.0",
          "state": {
            "_dom_classes": [],
            "_model_module": "@jupyter-widgets/controls",
            "_model_module_version": "1.5.0",
            "_model_name": "HTMLModel",
            "_view_count": null,
            "_view_module": "@jupyter-widgets/controls",
            "_view_module_version": "1.5.0",
            "_view_name": "HTMLView",
            "description": "",
            "description_tooltip": null,
            "layout": "IPY_MODEL_f8d1ede7b3f441bf8ecca770122cf424",
            "placeholder": "​",
            "style": "IPY_MODEL_3cbcb1e1bdeb46259f21642019c88b37",
            "value": " 456k/456k [00:00&lt;00:00, 2.42MB/s]"
          }
        },
        "101a681d18b240f5a83e9cf18bb4c0f5": {
          "model_module": "@jupyter-widgets/base",
          "model_name": "LayoutModel",
          "model_module_version": "1.2.0",
          "state": {
            "_model_module": "@jupyter-widgets/base",
            "_model_module_version": "1.2.0",
            "_model_name": "LayoutModel",
            "_view_count": null,
            "_view_module": "@jupyter-widgets/base",
            "_view_module_version": "1.2.0",
            "_view_name": "LayoutView",
            "align_content": null,
            "align_items": null,
            "align_self": null,
            "border": null,
            "bottom": null,
            "display": null,
            "flex": null,
            "flex_flow": null,
            "grid_area": null,
            "grid_auto_columns": null,
            "grid_auto_flow": null,
            "grid_auto_rows": null,
            "grid_column": null,
            "grid_gap": null,
            "grid_row": null,
            "grid_template_areas": null,
            "grid_template_columns": null,
            "grid_template_rows": null,
            "height": null,
            "justify_content": null,
            "justify_items": null,
            "left": null,
            "margin": null,
            "max_height": null,
            "max_width": null,
            "min_height": null,
            "min_width": null,
            "object_fit": null,
            "object_position": null,
            "order": null,
            "overflow": null,
            "overflow_x": null,
            "overflow_y": null,
            "padding": null,
            "right": null,
            "top": null,
            "visibility": null,
            "width": null
          }
        },
        "69f60e88d703460e9d31b85aae65b8af": {
          "model_module": "@jupyter-widgets/base",
          "model_name": "LayoutModel",
          "model_module_version": "1.2.0",
          "state": {
            "_model_module": "@jupyter-widgets/base",
            "_model_module_version": "1.2.0",
            "_model_name": "LayoutModel",
            "_view_count": null,
            "_view_module": "@jupyter-widgets/base",
            "_view_module_version": "1.2.0",
            "_view_name": "LayoutView",
            "align_content": null,
            "align_items": null,
            "align_self": null,
            "border": null,
            "bottom": null,
            "display": null,
            "flex": null,
            "flex_flow": null,
            "grid_area": null,
            "grid_auto_columns": null,
            "grid_auto_flow": null,
            "grid_auto_rows": null,
            "grid_column": null,
            "grid_gap": null,
            "grid_row": null,
            "grid_template_areas": null,
            "grid_template_columns": null,
            "grid_template_rows": null,
            "height": null,
            "justify_content": null,
            "justify_items": null,
            "left": null,
            "margin": null,
            "max_height": null,
            "max_width": null,
            "min_height": null,
            "min_width": null,
            "object_fit": null,
            "object_position": null,
            "order": null,
            "overflow": null,
            "overflow_x": null,
            "overflow_y": null,
            "padding": null,
            "right": null,
            "top": null,
            "visibility": null,
            "width": null
          }
        },
        "0a55feb57bd845a29fcbfd35463339f9": {
          "model_module": "@jupyter-widgets/controls",
          "model_name": "DescriptionStyleModel",
          "model_module_version": "1.5.0",
          "state": {
            "_model_module": "@jupyter-widgets/controls",
            "_model_module_version": "1.5.0",
            "_model_name": "DescriptionStyleModel",
            "_view_count": null,
            "_view_module": "@jupyter-widgets/base",
            "_view_module_version": "1.2.0",
            "_view_name": "StyleView",
            "description_width": ""
          }
        },
        "7b7438ef45f044609df5da4e2539267b": {
          "model_module": "@jupyter-widgets/base",
          "model_name": "LayoutModel",
          "model_module_version": "1.2.0",
          "state": {
            "_model_module": "@jupyter-widgets/base",
            "_model_module_version": "1.2.0",
            "_model_name": "LayoutModel",
            "_view_count": null,
            "_view_module": "@jupyter-widgets/base",
            "_view_module_version": "1.2.0",
            "_view_name": "LayoutView",
            "align_content": null,
            "align_items": null,
            "align_self": null,
            "border": null,
            "bottom": null,
            "display": null,
            "flex": null,
            "flex_flow": null,
            "grid_area": null,
            "grid_auto_columns": null,
            "grid_auto_flow": null,
            "grid_auto_rows": null,
            "grid_column": null,
            "grid_gap": null,
            "grid_row": null,
            "grid_template_areas": null,
            "grid_template_columns": null,
            "grid_template_rows": null,
            "height": null,
            "justify_content": null,
            "justify_items": null,
            "left": null,
            "margin": null,
            "max_height": null,
            "max_width": null,
            "min_height": null,
            "min_width": null,
            "object_fit": null,
            "object_position": null,
            "order": null,
            "overflow": null,
            "overflow_x": null,
            "overflow_y": null,
            "padding": null,
            "right": null,
            "top": null,
            "visibility": null,
            "width": null
          }
        },
        "ec03cafe863f4c31b6fd67b32e6cc1d3": {
          "model_module": "@jupyter-widgets/controls",
          "model_name": "ProgressStyleModel",
          "model_module_version": "1.5.0",
          "state": {
            "_model_module": "@jupyter-widgets/controls",
            "_model_module_version": "1.5.0",
            "_model_name": "ProgressStyleModel",
            "_view_count": null,
            "_view_module": "@jupyter-widgets/base",
            "_view_module_version": "1.2.0",
            "_view_name": "StyleView",
            "bar_color": null,
            "description_width": ""
          }
        },
        "f8d1ede7b3f441bf8ecca770122cf424": {
          "model_module": "@jupyter-widgets/base",
          "model_name": "LayoutModel",
          "model_module_version": "1.2.0",
          "state": {
            "_model_module": "@jupyter-widgets/base",
            "_model_module_version": "1.2.0",
            "_model_name": "LayoutModel",
            "_view_count": null,
            "_view_module": "@jupyter-widgets/base",
            "_view_module_version": "1.2.0",
            "_view_name": "LayoutView",
            "align_content": null,
            "align_items": null,
            "align_self": null,
            "border": null,
            "bottom": null,
            "display": null,
            "flex": null,
            "flex_flow": null,
            "grid_area": null,
            "grid_auto_columns": null,
            "grid_auto_flow": null,
            "grid_auto_rows": null,
            "grid_column": null,
            "grid_gap": null,
            "grid_row": null,
            "grid_template_areas": null,
            "grid_template_columns": null,
            "grid_template_rows": null,
            "height": null,
            "justify_content": null,
            "justify_items": null,
            "left": null,
            "margin": null,
            "max_height": null,
            "max_width": null,
            "min_height": null,
            "min_width": null,
            "object_fit": null,
            "object_position": null,
            "order": null,
            "overflow": null,
            "overflow_x": null,
            "overflow_y": null,
            "padding": null,
            "right": null,
            "top": null,
            "visibility": null,
            "width": null
          }
        },
        "3cbcb1e1bdeb46259f21642019c88b37": {
          "model_module": "@jupyter-widgets/controls",
          "model_name": "DescriptionStyleModel",
          "model_module_version": "1.5.0",
          "state": {
            "_model_module": "@jupyter-widgets/controls",
            "_model_module_version": "1.5.0",
            "_model_name": "DescriptionStyleModel",
            "_view_count": null,
            "_view_module": "@jupyter-widgets/base",
            "_view_module_version": "1.2.0",
            "_view_name": "StyleView",
            "description_width": ""
          }
        },
        "9bb8f4371251475c8148429d33a48564": {
          "model_module": "@jupyter-widgets/controls",
          "model_name": "HBoxModel",
          "model_module_version": "1.5.0",
          "state": {
            "_dom_classes": [],
            "_model_module": "@jupyter-widgets/controls",
            "_model_module_version": "1.5.0",
            "_model_name": "HBoxModel",
            "_view_count": null,
            "_view_module": "@jupyter-widgets/controls",
            "_view_module_version": "1.5.0",
            "_view_name": "HBoxView",
            "box_style": "",
            "children": [
              "IPY_MODEL_7722637c15b64d66b1011a9d5b806c93",
              "IPY_MODEL_177d6e9c269f4ddcafef1359fd94a1a3",
              "IPY_MODEL_e886b64545d64d3e938441cf6f6efa28"
            ],
            "layout": "IPY_MODEL_43bff5bfc2eb4a3e86f39537ec7841ab"
          }
        },
        "7722637c15b64d66b1011a9d5b806c93": {
          "model_module": "@jupyter-widgets/controls",
          "model_name": "HTMLModel",
          "model_module_version": "1.5.0",
          "state": {
            "_dom_classes": [],
            "_model_module": "@jupyter-widgets/controls",
            "_model_module_version": "1.5.0",
            "_model_name": "HTMLModel",
            "_view_count": null,
            "_view_module": "@jupyter-widgets/controls",
            "_view_module_version": "1.5.0",
            "_view_name": "HTMLView",
            "description": "",
            "description_tooltip": null,
            "layout": "IPY_MODEL_4c06780db0ca4861babe005277c95669",
            "placeholder": "​",
            "style": "IPY_MODEL_319f6c76617743338c177b249aa283be",
            "value": "tokenizer.json: 100%"
          }
        },
        "177d6e9c269f4ddcafef1359fd94a1a3": {
          "model_module": "@jupyter-widgets/controls",
          "model_name": "FloatProgressModel",
          "model_module_version": "1.5.0",
          "state": {
            "_dom_classes": [],
            "_model_module": "@jupyter-widgets/controls",
            "_model_module_version": "1.5.0",
            "_model_name": "FloatProgressModel",
            "_view_count": null,
            "_view_module": "@jupyter-widgets/controls",
            "_view_module_version": "1.5.0",
            "_view_name": "ProgressView",
            "bar_style": "success",
            "description": "",
            "description_tooltip": null,
            "layout": "IPY_MODEL_866f19e68d2448578759d8d888553b69",
            "max": 1355863,
            "min": 0,
            "orientation": "horizontal",
            "style": "IPY_MODEL_c9699c6db3734821a6118fce9ebce471",
            "value": 1355863
          }
        },
        "e886b64545d64d3e938441cf6f6efa28": {
          "model_module": "@jupyter-widgets/controls",
          "model_name": "HTMLModel",
          "model_module_version": "1.5.0",
          "state": {
            "_dom_classes": [],
            "_model_module": "@jupyter-widgets/controls",
            "_model_module_version": "1.5.0",
            "_model_name": "HTMLModel",
            "_view_count": null,
            "_view_module": "@jupyter-widgets/controls",
            "_view_module_version": "1.5.0",
            "_view_name": "HTMLView",
            "description": "",
            "description_tooltip": null,
            "layout": "IPY_MODEL_8797c74d2c274581ba0e1881e10077d9",
            "placeholder": "​",
            "style": "IPY_MODEL_1b1564c255944d77b27614220e42bb47",
            "value": " 1.36M/1.36M [00:00&lt;00:00, 17.8MB/s]"
          }
        },
        "43bff5bfc2eb4a3e86f39537ec7841ab": {
          "model_module": "@jupyter-widgets/base",
          "model_name": "LayoutModel",
          "model_module_version": "1.2.0",
          "state": {
            "_model_module": "@jupyter-widgets/base",
            "_model_module_version": "1.2.0",
            "_model_name": "LayoutModel",
            "_view_count": null,
            "_view_module": "@jupyter-widgets/base",
            "_view_module_version": "1.2.0",
            "_view_name": "LayoutView",
            "align_content": null,
            "align_items": null,
            "align_self": null,
            "border": null,
            "bottom": null,
            "display": null,
            "flex": null,
            "flex_flow": null,
            "grid_area": null,
            "grid_auto_columns": null,
            "grid_auto_flow": null,
            "grid_auto_rows": null,
            "grid_column": null,
            "grid_gap": null,
            "grid_row": null,
            "grid_template_areas": null,
            "grid_template_columns": null,
            "grid_template_rows": null,
            "height": null,
            "justify_content": null,
            "justify_items": null,
            "left": null,
            "margin": null,
            "max_height": null,
            "max_width": null,
            "min_height": null,
            "min_width": null,
            "object_fit": null,
            "object_position": null,
            "order": null,
            "overflow": null,
            "overflow_x": null,
            "overflow_y": null,
            "padding": null,
            "right": null,
            "top": null,
            "visibility": null,
            "width": null
          }
        },
        "4c06780db0ca4861babe005277c95669": {
          "model_module": "@jupyter-widgets/base",
          "model_name": "LayoutModel",
          "model_module_version": "1.2.0",
          "state": {
            "_model_module": "@jupyter-widgets/base",
            "_model_module_version": "1.2.0",
            "_model_name": "LayoutModel",
            "_view_count": null,
            "_view_module": "@jupyter-widgets/base",
            "_view_module_version": "1.2.0",
            "_view_name": "LayoutView",
            "align_content": null,
            "align_items": null,
            "align_self": null,
            "border": null,
            "bottom": null,
            "display": null,
            "flex": null,
            "flex_flow": null,
            "grid_area": null,
            "grid_auto_columns": null,
            "grid_auto_flow": null,
            "grid_auto_rows": null,
            "grid_column": null,
            "grid_gap": null,
            "grid_row": null,
            "grid_template_areas": null,
            "grid_template_columns": null,
            "grid_template_rows": null,
            "height": null,
            "justify_content": null,
            "justify_items": null,
            "left": null,
            "margin": null,
            "max_height": null,
            "max_width": null,
            "min_height": null,
            "min_width": null,
            "object_fit": null,
            "object_position": null,
            "order": null,
            "overflow": null,
            "overflow_x": null,
            "overflow_y": null,
            "padding": null,
            "right": null,
            "top": null,
            "visibility": null,
            "width": null
          }
        },
        "319f6c76617743338c177b249aa283be": {
          "model_module": "@jupyter-widgets/controls",
          "model_name": "DescriptionStyleModel",
          "model_module_version": "1.5.0",
          "state": {
            "_model_module": "@jupyter-widgets/controls",
            "_model_module_version": "1.5.0",
            "_model_name": "DescriptionStyleModel",
            "_view_count": null,
            "_view_module": "@jupyter-widgets/base",
            "_view_module_version": "1.2.0",
            "_view_name": "StyleView",
            "description_width": ""
          }
        },
        "866f19e68d2448578759d8d888553b69": {
          "model_module": "@jupyter-widgets/base",
          "model_name": "LayoutModel",
          "model_module_version": "1.2.0",
          "state": {
            "_model_module": "@jupyter-widgets/base",
            "_model_module_version": "1.2.0",
            "_model_name": "LayoutModel",
            "_view_count": null,
            "_view_module": "@jupyter-widgets/base",
            "_view_module_version": "1.2.0",
            "_view_name": "LayoutView",
            "align_content": null,
            "align_items": null,
            "align_self": null,
            "border": null,
            "bottom": null,
            "display": null,
            "flex": null,
            "flex_flow": null,
            "grid_area": null,
            "grid_auto_columns": null,
            "grid_auto_flow": null,
            "grid_auto_rows": null,
            "grid_column": null,
            "grid_gap": null,
            "grid_row": null,
            "grid_template_areas": null,
            "grid_template_columns": null,
            "grid_template_rows": null,
            "height": null,
            "justify_content": null,
            "justify_items": null,
            "left": null,
            "margin": null,
            "max_height": null,
            "max_width": null,
            "min_height": null,
            "min_width": null,
            "object_fit": null,
            "object_position": null,
            "order": null,
            "overflow": null,
            "overflow_x": null,
            "overflow_y": null,
            "padding": null,
            "right": null,
            "top": null,
            "visibility": null,
            "width": null
          }
        },
        "c9699c6db3734821a6118fce9ebce471": {
          "model_module": "@jupyter-widgets/controls",
          "model_name": "ProgressStyleModel",
          "model_module_version": "1.5.0",
          "state": {
            "_model_module": "@jupyter-widgets/controls",
            "_model_module_version": "1.5.0",
            "_model_name": "ProgressStyleModel",
            "_view_count": null,
            "_view_module": "@jupyter-widgets/base",
            "_view_module_version": "1.2.0",
            "_view_name": "StyleView",
            "bar_color": null,
            "description_width": ""
          }
        },
        "8797c74d2c274581ba0e1881e10077d9": {
          "model_module": "@jupyter-widgets/base",
          "model_name": "LayoutModel",
          "model_module_version": "1.2.0",
          "state": {
            "_model_module": "@jupyter-widgets/base",
            "_model_module_version": "1.2.0",
            "_model_name": "LayoutModel",
            "_view_count": null,
            "_view_module": "@jupyter-widgets/base",
            "_view_module_version": "1.2.0",
            "_view_name": "LayoutView",
            "align_content": null,
            "align_items": null,
            "align_self": null,
            "border": null,
            "bottom": null,
            "display": null,
            "flex": null,
            "flex_flow": null,
            "grid_area": null,
            "grid_auto_columns": null,
            "grid_auto_flow": null,
            "grid_auto_rows": null,
            "grid_column": null,
            "grid_gap": null,
            "grid_row": null,
            "grid_template_areas": null,
            "grid_template_columns": null,
            "grid_template_rows": null,
            "height": null,
            "justify_content": null,
            "justify_items": null,
            "left": null,
            "margin": null,
            "max_height": null,
            "max_width": null,
            "min_height": null,
            "min_width": null,
            "object_fit": null,
            "object_position": null,
            "order": null,
            "overflow": null,
            "overflow_x": null,
            "overflow_y": null,
            "padding": null,
            "right": null,
            "top": null,
            "visibility": null,
            "width": null
          }
        },
        "1b1564c255944d77b27614220e42bb47": {
          "model_module": "@jupyter-widgets/controls",
          "model_name": "DescriptionStyleModel",
          "model_module_version": "1.5.0",
          "state": {
            "_model_module": "@jupyter-widgets/controls",
            "_model_module_version": "1.5.0",
            "_model_name": "DescriptionStyleModel",
            "_view_count": null,
            "_view_module": "@jupyter-widgets/base",
            "_view_module_version": "1.2.0",
            "_view_name": "StyleView",
            "description_width": ""
          }
        },
        "5a14775ec8244699a110b60467d8ea1c": {
          "model_module": "@jupyter-widgets/controls",
          "model_name": "HBoxModel",
          "model_module_version": "1.5.0",
          "state": {
            "_dom_classes": [],
            "_model_module": "@jupyter-widgets/controls",
            "_model_module_version": "1.5.0",
            "_model_name": "HBoxModel",
            "_view_count": null,
            "_view_module": "@jupyter-widgets/controls",
            "_view_module_version": "1.5.0",
            "_view_name": "HBoxView",
            "box_style": "",
            "children": [
              "IPY_MODEL_a08825fa08d4490b9bfdb1a0ea99c892",
              "IPY_MODEL_2e492e80071041948efcfe980c9c7fd4",
              "IPY_MODEL_54366b50e6274039a6ee84cff6f931ef"
            ],
            "layout": "IPY_MODEL_414beeb20c7d4d86a5fa073dc911b79e"
          }
        },
        "a08825fa08d4490b9bfdb1a0ea99c892": {
          "model_module": "@jupyter-widgets/controls",
          "model_name": "HTMLModel",
          "model_module_version": "1.5.0",
          "state": {
            "_dom_classes": [],
            "_model_module": "@jupyter-widgets/controls",
            "_model_module_version": "1.5.0",
            "_model_name": "HTMLModel",
            "_view_count": null,
            "_view_module": "@jupyter-widgets/controls",
            "_view_module_version": "1.5.0",
            "_view_name": "HTMLView",
            "description": "",
            "description_tooltip": null,
            "layout": "IPY_MODEL_71dd542b9b824dbda99b310b19a45835",
            "placeholder": "​",
            "style": "IPY_MODEL_479248e737924a7da476a4b49ba60225",
            "value": "model.safetensors: 100%"
          }
        },
        "2e492e80071041948efcfe980c9c7fd4": {
          "model_module": "@jupyter-widgets/controls",
          "model_name": "FloatProgressModel",
          "model_module_version": "1.5.0",
          "state": {
            "_dom_classes": [],
            "_model_module": "@jupyter-widgets/controls",
            "_model_module_version": "1.5.0",
            "_model_name": "FloatProgressModel",
            "_view_count": null,
            "_view_module": "@jupyter-widgets/controls",
            "_view_module_version": "1.5.0",
            "_view_name": "ProgressView",
            "bar_style": "success",
            "description": "",
            "description_tooltip": null,
            "layout": "IPY_MODEL_6c77a52e4e0c478c8040357ec852cd0e",
            "max": 331055963,
            "min": 0,
            "orientation": "horizontal",
            "style": "IPY_MODEL_f58215a9c06b483a907d292624a332e7",
            "value": 331055963
          }
        },
        "54366b50e6274039a6ee84cff6f931ef": {
          "model_module": "@jupyter-widgets/controls",
          "model_name": "HTMLModel",
          "model_module_version": "1.5.0",
          "state": {
            "_dom_classes": [],
            "_model_module": "@jupyter-widgets/controls",
            "_model_module_version": "1.5.0",
            "_model_name": "HTMLModel",
            "_view_count": null,
            "_view_module": "@jupyter-widgets/controls",
            "_view_module_version": "1.5.0",
            "_view_name": "HTMLView",
            "description": "",
            "description_tooltip": null,
            "layout": "IPY_MODEL_ca926f3eca1649fe9bb86f0dc99e459b",
            "placeholder": "​",
            "style": "IPY_MODEL_c8dbab39087646bab2a55c419eec2afd",
            "value": " 331M/331M [00:01&lt;00:00, 217MB/s]"
          }
        },
        "414beeb20c7d4d86a5fa073dc911b79e": {
          "model_module": "@jupyter-widgets/base",
          "model_name": "LayoutModel",
          "model_module_version": "1.2.0",
          "state": {
            "_model_module": "@jupyter-widgets/base",
            "_model_module_version": "1.2.0",
            "_model_name": "LayoutModel",
            "_view_count": null,
            "_view_module": "@jupyter-widgets/base",
            "_view_module_version": "1.2.0",
            "_view_name": "LayoutView",
            "align_content": null,
            "align_items": null,
            "align_self": null,
            "border": null,
            "bottom": null,
            "display": null,
            "flex": null,
            "flex_flow": null,
            "grid_area": null,
            "grid_auto_columns": null,
            "grid_auto_flow": null,
            "grid_auto_rows": null,
            "grid_column": null,
            "grid_gap": null,
            "grid_row": null,
            "grid_template_areas": null,
            "grid_template_columns": null,
            "grid_template_rows": null,
            "height": null,
            "justify_content": null,
            "justify_items": null,
            "left": null,
            "margin": null,
            "max_height": null,
            "max_width": null,
            "min_height": null,
            "min_width": null,
            "object_fit": null,
            "object_position": null,
            "order": null,
            "overflow": null,
            "overflow_x": null,
            "overflow_y": null,
            "padding": null,
            "right": null,
            "top": null,
            "visibility": null,
            "width": null
          }
        },
        "71dd542b9b824dbda99b310b19a45835": {
          "model_module": "@jupyter-widgets/base",
          "model_name": "LayoutModel",
          "model_module_version": "1.2.0",
          "state": {
            "_model_module": "@jupyter-widgets/base",
            "_model_module_version": "1.2.0",
            "_model_name": "LayoutModel",
            "_view_count": null,
            "_view_module": "@jupyter-widgets/base",
            "_view_module_version": "1.2.0",
            "_view_name": "LayoutView",
            "align_content": null,
            "align_items": null,
            "align_self": null,
            "border": null,
            "bottom": null,
            "display": null,
            "flex": null,
            "flex_flow": null,
            "grid_area": null,
            "grid_auto_columns": null,
            "grid_auto_flow": null,
            "grid_auto_rows": null,
            "grid_column": null,
            "grid_gap": null,
            "grid_row": null,
            "grid_template_areas": null,
            "grid_template_columns": null,
            "grid_template_rows": null,
            "height": null,
            "justify_content": null,
            "justify_items": null,
            "left": null,
            "margin": null,
            "max_height": null,
            "max_width": null,
            "min_height": null,
            "min_width": null,
            "object_fit": null,
            "object_position": null,
            "order": null,
            "overflow": null,
            "overflow_x": null,
            "overflow_y": null,
            "padding": null,
            "right": null,
            "top": null,
            "visibility": null,
            "width": null
          }
        },
        "479248e737924a7da476a4b49ba60225": {
          "model_module": "@jupyter-widgets/controls",
          "model_name": "DescriptionStyleModel",
          "model_module_version": "1.5.0",
          "state": {
            "_model_module": "@jupyter-widgets/controls",
            "_model_module_version": "1.5.0",
            "_model_name": "DescriptionStyleModel",
            "_view_count": null,
            "_view_module": "@jupyter-widgets/base",
            "_view_module_version": "1.2.0",
            "_view_name": "StyleView",
            "description_width": ""
          }
        },
        "6c77a52e4e0c478c8040357ec852cd0e": {
          "model_module": "@jupyter-widgets/base",
          "model_name": "LayoutModel",
          "model_module_version": "1.2.0",
          "state": {
            "_model_module": "@jupyter-widgets/base",
            "_model_module_version": "1.2.0",
            "_model_name": "LayoutModel",
            "_view_count": null,
            "_view_module": "@jupyter-widgets/base",
            "_view_module_version": "1.2.0",
            "_view_name": "LayoutView",
            "align_content": null,
            "align_items": null,
            "align_self": null,
            "border": null,
            "bottom": null,
            "display": null,
            "flex": null,
            "flex_flow": null,
            "grid_area": null,
            "grid_auto_columns": null,
            "grid_auto_flow": null,
            "grid_auto_rows": null,
            "grid_column": null,
            "grid_gap": null,
            "grid_row": null,
            "grid_template_areas": null,
            "grid_template_columns": null,
            "grid_template_rows": null,
            "height": null,
            "justify_content": null,
            "justify_items": null,
            "left": null,
            "margin": null,
            "max_height": null,
            "max_width": null,
            "min_height": null,
            "min_width": null,
            "object_fit": null,
            "object_position": null,
            "order": null,
            "overflow": null,
            "overflow_x": null,
            "overflow_y": null,
            "padding": null,
            "right": null,
            "top": null,
            "visibility": null,
            "width": null
          }
        },
        "f58215a9c06b483a907d292624a332e7": {
          "model_module": "@jupyter-widgets/controls",
          "model_name": "ProgressStyleModel",
          "model_module_version": "1.5.0",
          "state": {
            "_model_module": "@jupyter-widgets/controls",
            "_model_module_version": "1.5.0",
            "_model_name": "ProgressStyleModel",
            "_view_count": null,
            "_view_module": "@jupyter-widgets/base",
            "_view_module_version": "1.2.0",
            "_view_name": "StyleView",
            "bar_color": null,
            "description_width": ""
          }
        },
        "ca926f3eca1649fe9bb86f0dc99e459b": {
          "model_module": "@jupyter-widgets/base",
          "model_name": "LayoutModel",
          "model_module_version": "1.2.0",
          "state": {
            "_model_module": "@jupyter-widgets/base",
            "_model_module_version": "1.2.0",
            "_model_name": "LayoutModel",
            "_view_count": null,
            "_view_module": "@jupyter-widgets/base",
            "_view_module_version": "1.2.0",
            "_view_name": "LayoutView",
            "align_content": null,
            "align_items": null,
            "align_self": null,
            "border": null,
            "bottom": null,
            "display": null,
            "flex": null,
            "flex_flow": null,
            "grid_area": null,
            "grid_auto_columns": null,
            "grid_auto_flow": null,
            "grid_auto_rows": null,
            "grid_column": null,
            "grid_gap": null,
            "grid_row": null,
            "grid_template_areas": null,
            "grid_template_columns": null,
            "grid_template_rows": null,
            "height": null,
            "justify_content": null,
            "justify_items": null,
            "left": null,
            "margin": null,
            "max_height": null,
            "max_width": null,
            "min_height": null,
            "min_width": null,
            "object_fit": null,
            "object_position": null,
            "order": null,
            "overflow": null,
            "overflow_x": null,
            "overflow_y": null,
            "padding": null,
            "right": null,
            "top": null,
            "visibility": null,
            "width": null
          }
        },
        "c8dbab39087646bab2a55c419eec2afd": {
          "model_module": "@jupyter-widgets/controls",
          "model_name": "DescriptionStyleModel",
          "model_module_version": "1.5.0",
          "state": {
            "_model_module": "@jupyter-widgets/controls",
            "_model_module_version": "1.5.0",
            "_model_name": "DescriptionStyleModel",
            "_view_count": null,
            "_view_module": "@jupyter-widgets/base",
            "_view_module_version": "1.2.0",
            "_view_name": "StyleView",
            "description_width": ""
          }
        },
        "5c6d0f303ec34d068ed3a436a0b45126": {
          "model_module": "@jupyter-widgets/controls",
          "model_name": "HBoxModel",
          "model_module_version": "1.5.0",
          "state": {
            "_dom_classes": [],
            "_model_module": "@jupyter-widgets/controls",
            "_model_module_version": "1.5.0",
            "_model_name": "HBoxModel",
            "_view_count": null,
            "_view_module": "@jupyter-widgets/controls",
            "_view_module_version": "1.5.0",
            "_view_name": "HBoxView",
            "box_style": "",
            "children": [
              "IPY_MODEL_97bdb72c0efd4172b7d12882f15438b4",
              "IPY_MODEL_78e28559c175497ca4df145d2ddfb5c0",
              "IPY_MODEL_2219879b988e4c51b111e429b67d0a20"
            ],
            "layout": "IPY_MODEL_3c82cf161ca541aabacb99308901705c"
          }
        },
        "97bdb72c0efd4172b7d12882f15438b4": {
          "model_module": "@jupyter-widgets/controls",
          "model_name": "HTMLModel",
          "model_module_version": "1.5.0",
          "state": {
            "_dom_classes": [],
            "_model_module": "@jupyter-widgets/controls",
            "_model_module_version": "1.5.0",
            "_model_name": "HTMLModel",
            "_view_count": null,
            "_view_module": "@jupyter-widgets/controls",
            "_view_module_version": "1.5.0",
            "_view_name": "HTMLView",
            "description": "",
            "description_tooltip": null,
            "layout": "IPY_MODEL_384aa613f5274313a66f9aa98f1ca668",
            "placeholder": "​",
            "style": "IPY_MODEL_9827fb4c385b4654a41ca332f2548f60",
            "value": "Downloading builder script: "
          }
        },
        "78e28559c175497ca4df145d2ddfb5c0": {
          "model_module": "@jupyter-widgets/controls",
          "model_name": "FloatProgressModel",
          "model_module_version": "1.5.0",
          "state": {
            "_dom_classes": [],
            "_model_module": "@jupyter-widgets/controls",
            "_model_module_version": "1.5.0",
            "_model_name": "FloatProgressModel",
            "_view_count": null,
            "_view_module": "@jupyter-widgets/controls",
            "_view_module_version": "1.5.0",
            "_view_name": "ProgressView",
            "bar_style": "success",
            "description": "",
            "description_tooltip": null,
            "layout": "IPY_MODEL_64eaa06e7df04d12b0559553658a3752",
            "max": 1715,
            "min": 0,
            "orientation": "horizontal",
            "style": "IPY_MODEL_3dd7ccc942e148a488ab96a830d4c457",
            "value": 1715
          }
        },
        "2219879b988e4c51b111e429b67d0a20": {
          "model_module": "@jupyter-widgets/controls",
          "model_name": "HTMLModel",
          "model_module_version": "1.5.0",
          "state": {
            "_dom_classes": [],
            "_model_module": "@jupyter-widgets/controls",
            "_model_module_version": "1.5.0",
            "_model_name": "HTMLModel",
            "_view_count": null,
            "_view_module": "@jupyter-widgets/controls",
            "_view_module_version": "1.5.0",
            "_view_name": "HTMLView",
            "description": "",
            "description_tooltip": null,
            "layout": "IPY_MODEL_1de45b5dfe7444c283ba4fcd1174f86e",
            "placeholder": "​",
            "style": "IPY_MODEL_16cbbeb4ef844d12923506ea3dae02a2",
            "value": " 4.50k/? [00:00&lt;00:00, 123kB/s]"
          }
        },
        "3c82cf161ca541aabacb99308901705c": {
          "model_module": "@jupyter-widgets/base",
          "model_name": "LayoutModel",
          "model_module_version": "1.2.0",
          "state": {
            "_model_module": "@jupyter-widgets/base",
            "_model_module_version": "1.2.0",
            "_model_name": "LayoutModel",
            "_view_count": null,
            "_view_module": "@jupyter-widgets/base",
            "_view_module_version": "1.2.0",
            "_view_name": "LayoutView",
            "align_content": null,
            "align_items": null,
            "align_self": null,
            "border": null,
            "bottom": null,
            "display": null,
            "flex": null,
            "flex_flow": null,
            "grid_area": null,
            "grid_auto_columns": null,
            "grid_auto_flow": null,
            "grid_auto_rows": null,
            "grid_column": null,
            "grid_gap": null,
            "grid_row": null,
            "grid_template_areas": null,
            "grid_template_columns": null,
            "grid_template_rows": null,
            "height": null,
            "justify_content": null,
            "justify_items": null,
            "left": null,
            "margin": null,
            "max_height": null,
            "max_width": null,
            "min_height": null,
            "min_width": null,
            "object_fit": null,
            "object_position": null,
            "order": null,
            "overflow": null,
            "overflow_x": null,
            "overflow_y": null,
            "padding": null,
            "right": null,
            "top": null,
            "visibility": null,
            "width": null
          }
        },
        "384aa613f5274313a66f9aa98f1ca668": {
          "model_module": "@jupyter-widgets/base",
          "model_name": "LayoutModel",
          "model_module_version": "1.2.0",
          "state": {
            "_model_module": "@jupyter-widgets/base",
            "_model_module_version": "1.2.0",
            "_model_name": "LayoutModel",
            "_view_count": null,
            "_view_module": "@jupyter-widgets/base",
            "_view_module_version": "1.2.0",
            "_view_name": "LayoutView",
            "align_content": null,
            "align_items": null,
            "align_self": null,
            "border": null,
            "bottom": null,
            "display": null,
            "flex": null,
            "flex_flow": null,
            "grid_area": null,
            "grid_auto_columns": null,
            "grid_auto_flow": null,
            "grid_auto_rows": null,
            "grid_column": null,
            "grid_gap": null,
            "grid_row": null,
            "grid_template_areas": null,
            "grid_template_columns": null,
            "grid_template_rows": null,
            "height": null,
            "justify_content": null,
            "justify_items": null,
            "left": null,
            "margin": null,
            "max_height": null,
            "max_width": null,
            "min_height": null,
            "min_width": null,
            "object_fit": null,
            "object_position": null,
            "order": null,
            "overflow": null,
            "overflow_x": null,
            "overflow_y": null,
            "padding": null,
            "right": null,
            "top": null,
            "visibility": null,
            "width": null
          }
        },
        "9827fb4c385b4654a41ca332f2548f60": {
          "model_module": "@jupyter-widgets/controls",
          "model_name": "DescriptionStyleModel",
          "model_module_version": "1.5.0",
          "state": {
            "_model_module": "@jupyter-widgets/controls",
            "_model_module_version": "1.5.0",
            "_model_name": "DescriptionStyleModel",
            "_view_count": null,
            "_view_module": "@jupyter-widgets/base",
            "_view_module_version": "1.2.0",
            "_view_name": "StyleView",
            "description_width": ""
          }
        },
        "64eaa06e7df04d12b0559553658a3752": {
          "model_module": "@jupyter-widgets/base",
          "model_name": "LayoutModel",
          "model_module_version": "1.2.0",
          "state": {
            "_model_module": "@jupyter-widgets/base",
            "_model_module_version": "1.2.0",
            "_model_name": "LayoutModel",
            "_view_count": null,
            "_view_module": "@jupyter-widgets/base",
            "_view_module_version": "1.2.0",
            "_view_name": "LayoutView",
            "align_content": null,
            "align_items": null,
            "align_self": null,
            "border": null,
            "bottom": null,
            "display": null,
            "flex": null,
            "flex_flow": null,
            "grid_area": null,
            "grid_auto_columns": null,
            "grid_auto_flow": null,
            "grid_auto_rows": null,
            "grid_column": null,
            "grid_gap": null,
            "grid_row": null,
            "grid_template_areas": null,
            "grid_template_columns": null,
            "grid_template_rows": null,
            "height": null,
            "justify_content": null,
            "justify_items": null,
            "left": null,
            "margin": null,
            "max_height": null,
            "max_width": null,
            "min_height": null,
            "min_width": null,
            "object_fit": null,
            "object_position": null,
            "order": null,
            "overflow": null,
            "overflow_x": null,
            "overflow_y": null,
            "padding": null,
            "right": null,
            "top": null,
            "visibility": null,
            "width": null
          }
        },
        "3dd7ccc942e148a488ab96a830d4c457": {
          "model_module": "@jupyter-widgets/controls",
          "model_name": "ProgressStyleModel",
          "model_module_version": "1.5.0",
          "state": {
            "_model_module": "@jupyter-widgets/controls",
            "_model_module_version": "1.5.0",
            "_model_name": "ProgressStyleModel",
            "_view_count": null,
            "_view_module": "@jupyter-widgets/base",
            "_view_module_version": "1.2.0",
            "_view_name": "StyleView",
            "bar_color": null,
            "description_width": ""
          }
        },
        "1de45b5dfe7444c283ba4fcd1174f86e": {
          "model_module": "@jupyter-widgets/base",
          "model_name": "LayoutModel",
          "model_module_version": "1.2.0",
          "state": {
            "_model_module": "@jupyter-widgets/base",
            "_model_module_version": "1.2.0",
            "_model_name": "LayoutModel",
            "_view_count": null,
            "_view_module": "@jupyter-widgets/base",
            "_view_module_version": "1.2.0",
            "_view_name": "LayoutView",
            "align_content": null,
            "align_items": null,
            "align_self": null,
            "border": null,
            "bottom": null,
            "display": null,
            "flex": null,
            "flex_flow": null,
            "grid_area": null,
            "grid_auto_columns": null,
            "grid_auto_flow": null,
            "grid_auto_rows": null,
            "grid_column": null,
            "grid_gap": null,
            "grid_row": null,
            "grid_template_areas": null,
            "grid_template_columns": null,
            "grid_template_rows": null,
            "height": null,
            "justify_content": null,
            "justify_items": null,
            "left": null,
            "margin": null,
            "max_height": null,
            "max_width": null,
            "min_height": null,
            "min_width": null,
            "object_fit": null,
            "object_position": null,
            "order": null,
            "overflow": null,
            "overflow_x": null,
            "overflow_y": null,
            "padding": null,
            "right": null,
            "top": null,
            "visibility": null,
            "width": null
          }
        },
        "16cbbeb4ef844d12923506ea3dae02a2": {
          "model_module": "@jupyter-widgets/controls",
          "model_name": "DescriptionStyleModel",
          "model_module_version": "1.5.0",
          "state": {
            "_model_module": "@jupyter-widgets/controls",
            "_model_module_version": "1.5.0",
            "_model_name": "DescriptionStyleModel",
            "_view_count": null,
            "_view_module": "@jupyter-widgets/base",
            "_view_module_version": "1.2.0",
            "_view_name": "StyleView",
            "description_width": ""
          }
        },
        "017092c9e62b4a67bf64c4636aa61c19": {
          "model_module": "@jupyter-widgets/controls",
          "model_name": "HBoxModel",
          "model_module_version": "1.5.0",
          "state": {
            "_dom_classes": [],
            "_model_module": "@jupyter-widgets/controls",
            "_model_module_version": "1.5.0",
            "_model_name": "HBoxModel",
            "_view_count": null,
            "_view_module": "@jupyter-widgets/controls",
            "_view_module_version": "1.5.0",
            "_view_name": "HBoxView",
            "box_style": "",
            "children": [
              "IPY_MODEL_cc7dca41a0254817aa6c42938c0ed068",
              "IPY_MODEL_e5e6e6a8045c4d5ea0968cf47262aa43",
              "IPY_MODEL_050f8aee47624f29964cffac9f0c022f"
            ],
            "layout": "IPY_MODEL_ce12591affb1432491e632bbc326e51b"
          }
        },
        "cc7dca41a0254817aa6c42938c0ed068": {
          "model_module": "@jupyter-widgets/controls",
          "model_name": "HTMLModel",
          "model_module_version": "1.5.0",
          "state": {
            "_dom_classes": [],
            "_model_module": "@jupyter-widgets/controls",
            "_model_module_version": "1.5.0",
            "_model_name": "HTMLModel",
            "_view_count": null,
            "_view_module": "@jupyter-widgets/controls",
            "_view_module_version": "1.5.0",
            "_view_name": "HTMLView",
            "description": "",
            "description_tooltip": null,
            "layout": "IPY_MODEL_7e0c2fbc477347c0bd9e170a6cef6a8e",
            "placeholder": "​",
            "style": "IPY_MODEL_36ad1a0efbdd4fa5a71313250a2a24e0",
            "value": "Downloading extra modules: "
          }
        },
        "e5e6e6a8045c4d5ea0968cf47262aa43": {
          "model_module": "@jupyter-widgets/controls",
          "model_name": "FloatProgressModel",
          "model_module_version": "1.5.0",
          "state": {
            "_dom_classes": [],
            "_model_module": "@jupyter-widgets/controls",
            "_model_module_version": "1.5.0",
            "_model_name": "FloatProgressModel",
            "_view_count": null,
            "_view_module": "@jupyter-widgets/controls",
            "_view_module_version": "1.5.0",
            "_view_name": "ProgressView",
            "bar_style": "success",
            "description": "",
            "description_tooltip": null,
            "layout": "IPY_MODEL_99280d6cdabb4e7aad3a859bafb3f51e",
            "max": 1109,
            "min": 0,
            "orientation": "horizontal",
            "style": "IPY_MODEL_d10dcd1f67484304ba142b654ff5b4f3",
            "value": 1109
          }
        },
        "050f8aee47624f29964cffac9f0c022f": {
          "model_module": "@jupyter-widgets/controls",
          "model_name": "HTMLModel",
          "model_module_version": "1.5.0",
          "state": {
            "_dom_classes": [],
            "_model_module": "@jupyter-widgets/controls",
            "_model_module_version": "1.5.0",
            "_model_name": "HTMLModel",
            "_view_count": null,
            "_view_module": "@jupyter-widgets/controls",
            "_view_module_version": "1.5.0",
            "_view_name": "HTMLView",
            "description": "",
            "description_tooltip": null,
            "layout": "IPY_MODEL_62fe7bab20fd4836ad64fcc536e6ead5",
            "placeholder": "​",
            "style": "IPY_MODEL_8eb2c85dd49f4da59f3cce280b0eeb3b",
            "value": " 3.30k/? [00:00&lt;00:00, 146kB/s]"
          }
        },
        "ce12591affb1432491e632bbc326e51b": {
          "model_module": "@jupyter-widgets/base",
          "model_name": "LayoutModel",
          "model_module_version": "1.2.0",
          "state": {
            "_model_module": "@jupyter-widgets/base",
            "_model_module_version": "1.2.0",
            "_model_name": "LayoutModel",
            "_view_count": null,
            "_view_module": "@jupyter-widgets/base",
            "_view_module_version": "1.2.0",
            "_view_name": "LayoutView",
            "align_content": null,
            "align_items": null,
            "align_self": null,
            "border": null,
            "bottom": null,
            "display": null,
            "flex": null,
            "flex_flow": null,
            "grid_area": null,
            "grid_auto_columns": null,
            "grid_auto_flow": null,
            "grid_auto_rows": null,
            "grid_column": null,
            "grid_gap": null,
            "grid_row": null,
            "grid_template_areas": null,
            "grid_template_columns": null,
            "grid_template_rows": null,
            "height": null,
            "justify_content": null,
            "justify_items": null,
            "left": null,
            "margin": null,
            "max_height": null,
            "max_width": null,
            "min_height": null,
            "min_width": null,
            "object_fit": null,
            "object_position": null,
            "order": null,
            "overflow": null,
            "overflow_x": null,
            "overflow_y": null,
            "padding": null,
            "right": null,
            "top": null,
            "visibility": null,
            "width": null
          }
        },
        "7e0c2fbc477347c0bd9e170a6cef6a8e": {
          "model_module": "@jupyter-widgets/base",
          "model_name": "LayoutModel",
          "model_module_version": "1.2.0",
          "state": {
            "_model_module": "@jupyter-widgets/base",
            "_model_module_version": "1.2.0",
            "_model_name": "LayoutModel",
            "_view_count": null,
            "_view_module": "@jupyter-widgets/base",
            "_view_module_version": "1.2.0",
            "_view_name": "LayoutView",
            "align_content": null,
            "align_items": null,
            "align_self": null,
            "border": null,
            "bottom": null,
            "display": null,
            "flex": null,
            "flex_flow": null,
            "grid_area": null,
            "grid_auto_columns": null,
            "grid_auto_flow": null,
            "grid_auto_rows": null,
            "grid_column": null,
            "grid_gap": null,
            "grid_row": null,
            "grid_template_areas": null,
            "grid_template_columns": null,
            "grid_template_rows": null,
            "height": null,
            "justify_content": null,
            "justify_items": null,
            "left": null,
            "margin": null,
            "max_height": null,
            "max_width": null,
            "min_height": null,
            "min_width": null,
            "object_fit": null,
            "object_position": null,
            "order": null,
            "overflow": null,
            "overflow_x": null,
            "overflow_y": null,
            "padding": null,
            "right": null,
            "top": null,
            "visibility": null,
            "width": null
          }
        },
        "36ad1a0efbdd4fa5a71313250a2a24e0": {
          "model_module": "@jupyter-widgets/controls",
          "model_name": "DescriptionStyleModel",
          "model_module_version": "1.5.0",
          "state": {
            "_model_module": "@jupyter-widgets/controls",
            "_model_module_version": "1.5.0",
            "_model_name": "DescriptionStyleModel",
            "_view_count": null,
            "_view_module": "@jupyter-widgets/base",
            "_view_module_version": "1.2.0",
            "_view_name": "StyleView",
            "description_width": ""
          }
        },
        "99280d6cdabb4e7aad3a859bafb3f51e": {
          "model_module": "@jupyter-widgets/base",
          "model_name": "LayoutModel",
          "model_module_version": "1.2.0",
          "state": {
            "_model_module": "@jupyter-widgets/base",
            "_model_module_version": "1.2.0",
            "_model_name": "LayoutModel",
            "_view_count": null,
            "_view_module": "@jupyter-widgets/base",
            "_view_module_version": "1.2.0",
            "_view_name": "LayoutView",
            "align_content": null,
            "align_items": null,
            "align_self": null,
            "border": null,
            "bottom": null,
            "display": null,
            "flex": null,
            "flex_flow": null,
            "grid_area": null,
            "grid_auto_columns": null,
            "grid_auto_flow": null,
            "grid_auto_rows": null,
            "grid_column": null,
            "grid_gap": null,
            "grid_row": null,
            "grid_template_areas": null,
            "grid_template_columns": null,
            "grid_template_rows": null,
            "height": null,
            "justify_content": null,
            "justify_items": null,
            "left": null,
            "margin": null,
            "max_height": null,
            "max_width": null,
            "min_height": null,
            "min_width": null,
            "object_fit": null,
            "object_position": null,
            "order": null,
            "overflow": null,
            "overflow_x": null,
            "overflow_y": null,
            "padding": null,
            "right": null,
            "top": null,
            "visibility": null,
            "width": null
          }
        },
        "d10dcd1f67484304ba142b654ff5b4f3": {
          "model_module": "@jupyter-widgets/controls",
          "model_name": "ProgressStyleModel",
          "model_module_version": "1.5.0",
          "state": {
            "_model_module": "@jupyter-widgets/controls",
            "_model_module_version": "1.5.0",
            "_model_name": "ProgressStyleModel",
            "_view_count": null,
            "_view_module": "@jupyter-widgets/base",
            "_view_module_version": "1.2.0",
            "_view_name": "StyleView",
            "bar_color": null,
            "description_width": ""
          }
        },
        "62fe7bab20fd4836ad64fcc536e6ead5": {
          "model_module": "@jupyter-widgets/base",
          "model_name": "LayoutModel",
          "model_module_version": "1.2.0",
          "state": {
            "_model_module": "@jupyter-widgets/base",
            "_model_module_version": "1.2.0",
            "_model_name": "LayoutModel",
            "_view_count": null,
            "_view_module": "@jupyter-widgets/base",
            "_view_module_version": "1.2.0",
            "_view_name": "LayoutView",
            "align_content": null,
            "align_items": null,
            "align_self": null,
            "border": null,
            "bottom": null,
            "display": null,
            "flex": null,
            "flex_flow": null,
            "grid_area": null,
            "grid_auto_columns": null,
            "grid_auto_flow": null,
            "grid_auto_rows": null,
            "grid_column": null,
            "grid_gap": null,
            "grid_row": null,
            "grid_template_areas": null,
            "grid_template_columns": null,
            "grid_template_rows": null,
            "height": null,
            "justify_content": null,
            "justify_items": null,
            "left": null,
            "margin": null,
            "max_height": null,
            "max_width": null,
            "min_height": null,
            "min_width": null,
            "object_fit": null,
            "object_position": null,
            "order": null,
            "overflow": null,
            "overflow_x": null,
            "overflow_y": null,
            "padding": null,
            "right": null,
            "top": null,
            "visibility": null,
            "width": null
          }
        },
        "8eb2c85dd49f4da59f3cce280b0eeb3b": {
          "model_module": "@jupyter-widgets/controls",
          "model_name": "DescriptionStyleModel",
          "model_module_version": "1.5.0",
          "state": {
            "_model_module": "@jupyter-widgets/controls",
            "_model_module_version": "1.5.0",
            "_model_name": "DescriptionStyleModel",
            "_view_count": null,
            "_view_module": "@jupyter-widgets/base",
            "_view_module_version": "1.2.0",
            "_view_name": "StyleView",
            "description_width": ""
          }
        }
      }
    }
  },
  "cells": [
    {
      "cell_type": "code",
      "execution_count": null,
      "metadata": {
        "id": "wFywv3lI4NRx"
      },
      "outputs": [],
      "source": [
        "%reload_ext autoreload\n",
        "%autoreload 2\n",
        "%matplotlib inline"
      ]
    },
    {
      "cell_type": "code",
      "source": [
        "!pip install -q transformers[sentencepiece] fastbook fastai ohmeow-blurr nbdev"
      ],
      "metadata": {
        "colab": {
          "base_uri": "https://localhost:8080/"
        },
        "id": "brtDG7aJ4pS8",
        "outputId": "0950df71-e624-4593-9a1a-8cc0e5b6eb3b"
      },
      "execution_count": null,
      "outputs": [
        {
          "output_type": "stream",
          "name": "stdout",
          "text": [
            "\u001b[2K     \u001b[90m━━━━━━━━━━━━━━━━━━━━━━━━━━━━━━━━━━━━━━━━\u001b[0m \u001b[32m719.8/719.8 kB\u001b[0m \u001b[31m4.5 MB/s\u001b[0m eta \u001b[36m0:00:00\u001b[0m\n",
            "\u001b[2K     \u001b[90m━━━━━━━━━━━━━━━━━━━━━━━━━━━━━━━━━━━━━━━━\u001b[0m \u001b[32m81.1/81.1 kB\u001b[0m \u001b[31m7.4 MB/s\u001b[0m eta \u001b[36m0:00:00\u001b[0m\n",
            "\u001b[2K     \u001b[90m━━━━━━━━━━━━━━━━━━━━━━━━━━━━━━━━━━━━━━━━\u001b[0m \u001b[32m66.1/66.1 kB\u001b[0m \u001b[31m5.7 MB/s\u001b[0m eta \u001b[36m0:00:00\u001b[0m\n",
            "\u001b[2K     \u001b[90m━━━━━━━━━━━━━━━━━━━━━━━━━━━━━━━━━━━━━━━━\u001b[0m \u001b[32m1.3/1.3 MB\u001b[0m \u001b[31m17.6 MB/s\u001b[0m eta \u001b[36m0:00:00\u001b[0m\n",
            "\u001b[2K     \u001b[90m━━━━━━━━━━━━━━━━━━━━━━━━━━━━━━━━━━━━━━━━\u001b[0m \u001b[32m507.1/507.1 kB\u001b[0m \u001b[31m39.2 MB/s\u001b[0m eta \u001b[36m0:00:00\u001b[0m\n",
            "\u001b[2K     \u001b[90m━━━━━━━━━━━━━━━━━━━━━━━━━━━━━━━━━━━━━━━━\u001b[0m \u001b[32m887.5/887.5 MB\u001b[0m \u001b[31m1.4 MB/s\u001b[0m eta \u001b[36m0:00:00\u001b[0m\n",
            "\u001b[2K     \u001b[90m━━━━━━━━━━━━━━━━━━━━━━━━━━━━━━━━━━━━━━━━\u001b[0m \u001b[32m43.6/43.6 kB\u001b[0m \u001b[31m4.6 MB/s\u001b[0m eta \u001b[36m0:00:00\u001b[0m\n",
            "\u001b[?25h  Preparing metadata (setup.py) ... \u001b[?25l\u001b[?25hdone\n",
            "  Preparing metadata (setup.py) ... \u001b[?25l\u001b[?25hdone\n",
            "\u001b[2K     \u001b[90m━━━━━━━━━━━━━━━━━━━━━━━━━━━━━━━━━━━━━━━━\u001b[0m \u001b[32m58.7/58.7 kB\u001b[0m \u001b[31m7.0 MB/s\u001b[0m eta \u001b[36m0:00:00\u001b[0m\n",
            "\u001b[2K     \u001b[90m━━━━━━━━━━━━━━━━━━━━━━━━━━━━━━━━━━━━━━━━\u001b[0m \u001b[32m82.1/82.1 kB\u001b[0m \u001b[31m11.4 MB/s\u001b[0m eta \u001b[36m0:00:00\u001b[0m\n",
            "\u001b[2K     \u001b[90m━━━━━━━━━━━━━━━━━━━━━━━━━━━━━━━━━━━━━━━━\u001b[0m \u001b[32m849.3/849.3 kB\u001b[0m \u001b[31m63.6 MB/s\u001b[0m eta \u001b[36m0:00:00\u001b[0m\n",
            "\u001b[2K     \u001b[90m━━━━━━━━━━━━━━━━━━━━━━━━━━━━━━━━━━━━━━━━\u001b[0m \u001b[32m557.1/557.1 MB\u001b[0m \u001b[31m2.7 MB/s\u001b[0m eta \u001b[36m0:00:00\u001b[0m\n",
            "\u001b[2K     \u001b[90m━━━━━━━━━━━━━━━━━━━━━━━━━━━━━━━━━━━━━━━━\u001b[0m \u001b[32m317.1/317.1 MB\u001b[0m \u001b[31m4.0 MB/s\u001b[0m eta \u001b[36m0:00:00\u001b[0m\n",
            "\u001b[2K     \u001b[90m━━━━━━━━━━━━━━━━━━━━━━━━━━━━━━━━━━━━━━━━\u001b[0m \u001b[32m21.0/21.0 MB\u001b[0m \u001b[31m25.8 MB/s\u001b[0m eta \u001b[36m0:00:00\u001b[0m\n",
            "\u001b[2K     \u001b[90m━━━━━━━━━━━━━━━━━━━━━━━━━━━━━━━━━━━━━━━━\u001b[0m \u001b[32m6.8/6.8 MB\u001b[0m \u001b[31m28.7 MB/s\u001b[0m eta \u001b[36m0:00:00\u001b[0m\n",
            "\u001b[2K     \u001b[90m━━━━━━━━━━━━━━━━━━━━━━━━━━━━━━━━━━━━━━━━\u001b[0m \u001b[32m6.8/6.8 MB\u001b[0m \u001b[31m30.5 MB/s\u001b[0m eta \u001b[36m0:00:00\u001b[0m\n",
            "\u001b[2K     \u001b[90m━━━━━━━━━━━━━━━━━━━━━━━━━━━━━━━━━━━━━━━━\u001b[0m \u001b[32m6.9/6.9 MB\u001b[0m \u001b[31m30.4 MB/s\u001b[0m eta \u001b[36m0:00:00\u001b[0m\n",
            "\u001b[2K     \u001b[90m━━━━━━━━━━━━━━━━━━━━━━━━━━━━━━━━━━━━━━━━\u001b[0m \u001b[32m6.0/6.0 MB\u001b[0m \u001b[31m30.8 MB/s\u001b[0m eta \u001b[36m0:00:00\u001b[0m\n",
            "\u001b[2K     \u001b[90m━━━━━━━━━━━━━━━━━━━━━━━━━━━━━━━━━━━━━━━━\u001b[0m \u001b[32m6.0/6.0 MB\u001b[0m \u001b[31m31.0 MB/s\u001b[0m eta \u001b[36m0:00:00\u001b[0m\n",
            "\u001b[2K     \u001b[90m━━━━━━━━━━━━━━━━━━━━━━━━━━━━━━━━━━━━━━━━\u001b[0m \u001b[32m24.2/24.2 MB\u001b[0m \u001b[31m12.2 MB/s\u001b[0m eta \u001b[36m0:00:00\u001b[0m\n",
            "\u001b[2K     \u001b[90m━━━━━━━━━━━━━━━━━━━━━━━━━━━━━━━━━━━━━━━━\u001b[0m \u001b[32m115.3/115.3 kB\u001b[0m \u001b[31m14.9 MB/s\u001b[0m eta \u001b[36m0:00:00\u001b[0m\n",
            "\u001b[2K     \u001b[90m━━━━━━━━━━━━━━━━━━━━━━━━━━━━━━━━━━━━━━━━\u001b[0m \u001b[32m134.8/134.8 kB\u001b[0m \u001b[31m19.3 MB/s\u001b[0m eta \u001b[36m0:00:00\u001b[0m\n",
            "\u001b[2K     \u001b[90m━━━━━━━━━━━━━━━━━━━━━━━━━━━━━━━━━━━━━━━━\u001b[0m \u001b[32m1.6/1.6 MB\u001b[0m \u001b[31m29.4 MB/s\u001b[0m eta \u001b[36m0:00:00\u001b[0m\n",
            "\u001b[?25h  Building wheel for rouge-score (setup.py) ... \u001b[?25l\u001b[?25hdone\n",
            "  Building wheel for seqeval (setup.py) ... \u001b[?25l\u001b[?25hdone\n",
            "\u001b[31mERROR: pip's dependency resolver does not currently take into account all the packages that are installed. This behaviour is the source of the following dependency conflicts.\n",
            "torchaudio 2.1.0+cu121 requires torch==2.1.0, but you have torch 1.13.1 which is incompatible.\n",
            "torchdata 0.7.0 requires torch==2.1.0, but you have torch 1.13.1 which is incompatible.\n",
            "torchtext 0.16.0 requires torch==2.1.0, but you have torch 1.13.1 which is incompatible.\u001b[0m\u001b[31m\n",
            "\u001b[0m"
          ]
        }
      ]
    },
    {
      "cell_type": "code",
      "source": [
        "import torch\n",
        "from transformers import AutoModelForSequenceClassification, AutoConfig\n",
        "from fastai.text.all import *\n",
        "from blurr.text.data.all import *\n",
        "from blurr.text.modeling.all import *\n",
        "import os\n",
        "import pandas as pd"
      ],
      "metadata": {
        "id": "FvZtlFdp5m_V",
        "colab": {
          "base_uri": "https://localhost:8080/",
          "height": 205,
          "referenced_widgets": [
            "5c6d0f303ec34d068ed3a436a0b45126",
            "97bdb72c0efd4172b7d12882f15438b4",
            "78e28559c175497ca4df145d2ddfb5c0",
            "2219879b988e4c51b111e429b67d0a20",
            "3c82cf161ca541aabacb99308901705c",
            "384aa613f5274313a66f9aa98f1ca668",
            "9827fb4c385b4654a41ca332f2548f60",
            "64eaa06e7df04d12b0559553658a3752",
            "3dd7ccc942e148a488ab96a830d4c457",
            "1de45b5dfe7444c283ba4fcd1174f86e",
            "16cbbeb4ef844d12923506ea3dae02a2",
            "017092c9e62b4a67bf64c4636aa61c19",
            "cc7dca41a0254817aa6c42938c0ed068",
            "e5e6e6a8045c4d5ea0968cf47262aa43",
            "050f8aee47624f29964cffac9f0c022f",
            "ce12591affb1432491e632bbc326e51b",
            "7e0c2fbc477347c0bd9e170a6cef6a8e",
            "36ad1a0efbdd4fa5a71313250a2a24e0",
            "99280d6cdabb4e7aad3a859bafb3f51e",
            "d10dcd1f67484304ba142b654ff5b4f3",
            "62fe7bab20fd4836ad64fcc536e6ead5",
            "8eb2c85dd49f4da59f3cce280b0eeb3b"
          ]
        },
        "outputId": "559fc012-421c-4d0a-bc30-d4416adb9a64"
      },
      "execution_count": null,
      "outputs": [
        {
          "output_type": "stream",
          "name": "stderr",
          "text": [
            "/usr/local/lib/python3.10/dist-packages/blurr/text/modeling/question_answering.py:31: FutureWarning: load_metric is deprecated and will be removed in the next major version of datasets. Use 'evaluate.load' instead, from the new library 🤗 Evaluate: https://huggingface.co/docs/evaluate\n",
            "  squad_metric = load_metric(\"squad\")\n",
            "/usr/local/lib/python3.10/dist-packages/datasets/load.py:752: FutureWarning: The repository for squad contains custom code which must be executed to correctly load the metric. You can inspect the repository content at https://raw.githubusercontent.com/huggingface/datasets/2.16.1/metrics/squad/squad.py\n",
            "You can avoid this message in future by passing the argument `trust_remote_code=True`.\n",
            "Passing `trust_remote_code=True` will be mandatory to load this metric from the next major release of `datasets`.\n",
            "  warnings.warn(\n"
          ]
        },
        {
          "output_type": "display_data",
          "data": {
            "text/plain": [
              "Downloading builder script:   0%|          | 0.00/1.72k [00:00<?, ?B/s]"
            ],
            "application/vnd.jupyter.widget-view+json": {
              "version_major": 2,
              "version_minor": 0,
              "model_id": "5c6d0f303ec34d068ed3a436a0b45126"
            }
          },
          "metadata": {}
        },
        {
          "output_type": "display_data",
          "data": {
            "text/plain": [
              "Downloading extra modules:   0%|          | 0.00/1.11k [00:00<?, ?B/s]"
            ],
            "application/vnd.jupyter.widget-view+json": {
              "version_major": 2,
              "version_minor": 0,
              "model_id": "017092c9e62b4a67bf64c4636aa61c19"
            }
          },
          "metadata": {}
        }
      ]
    },
    {
      "cell_type": "code",
      "source": [
        "from google.colab import drive\n",
        "drive.mount('/content/drive')"
      ],
      "metadata": {
        "colab": {
          "base_uri": "https://localhost:8080/"
        },
        "id": "LZEEuOmZ6Ryc",
        "outputId": "e23e2b0c-2715-4107-c361-a5593889d26b"
      },
      "execution_count": null,
      "outputs": [
        {
          "output_type": "stream",
          "name": "stdout",
          "text": [
            "Mounted at /content/drive\n"
          ]
        }
      ]
    },
    {
      "cell_type": "code",
      "source": [
        "# os.listdir('drive/MyDrive/Quotes')"
      ],
      "metadata": {
        "id": "_Ipf0i6N6cgs"
      },
      "execution_count": null,
      "outputs": []
    },
    {
      "cell_type": "code",
      "source": [
        "%cd /content/drive/MyDrive/Quotes"
      ],
      "metadata": {
        "colab": {
          "base_uri": "https://localhost:8080/"
        },
        "id": "qJzZYnRm6eFZ",
        "outputId": "cbafb2ba-8c59-4fa0-a9ad-ba74fa95d2f5"
      },
      "execution_count": null,
      "outputs": [
        {
          "output_type": "stream",
          "name": "stdout",
          "text": [
            "/content/drive/MyDrive/Quotes\n"
          ]
        }
      ]
    },
    {
      "cell_type": "code",
      "source": [
        "os.listdir()"
      ],
      "metadata": {
        "colab": {
          "base_uri": "https://localhost:8080/",
          "height": 175
        },
        "id": "P7bl6I32FlW6",
        "outputId": "12a72a5c-b51e-497a-f9b9-499abed60ae1"
      },
      "execution_count": null,
      "outputs": [
        {
          "output_type": "error",
          "ename": "NameError",
          "evalue": "name 'os' is not defined",
          "traceback": [
            "\u001b[0;31m---------------------------------------------------------------------------\u001b[0m",
            "\u001b[0;31mNameError\u001b[0m                                 Traceback (most recent call last)",
            "\u001b[0;32m<ipython-input-5-67fdccf289bf>\u001b[0m in \u001b[0;36m<cell line: 1>\u001b[0;34m()\u001b[0m\n\u001b[0;32m----> 1\u001b[0;31m \u001b[0mos\u001b[0m\u001b[0;34m.\u001b[0m\u001b[0mlistdir\u001b[0m\u001b[0;34m(\u001b[0m\u001b[0;34m)\u001b[0m\u001b[0;34m\u001b[0m\u001b[0;34m\u001b[0m\u001b[0m\n\u001b[0m",
            "\u001b[0;31mNameError\u001b[0m: name 'os' is not defined"
          ]
        }
      ]
    },
    {
      "cell_type": "markdown",
      "source": [
        "# Data Preprocessing"
      ],
      "metadata": {
        "id": "cTprC6RheDhm"
      }
    },
    {
      "cell_type": "code",
      "source": [
        "import pandas as pd"
      ],
      "metadata": {
        "id": "iCo2sdwBevyP"
      },
      "execution_count": null,
      "outputs": []
    },
    {
      "cell_type": "code",
      "source": [
        "df = pd.read_csv('quotes_data.csv')"
      ],
      "metadata": {
        "id": "WF4SXK406rwE"
      },
      "execution_count": null,
      "outputs": []
    },
    {
      "cell_type": "code",
      "source": [
        "df.columns"
      ],
      "metadata": {
        "colab": {
          "base_uri": "https://localhost:8080/"
        },
        "id": "cNkYbzXcfFxA",
        "outputId": "5095fe39-e56c-4529-85f9-fca7b7dabb32"
      },
      "execution_count": null,
      "outputs": [
        {
          "output_type": "execute_result",
          "data": {
            "text/plain": [
              "Index(['Quote', 'Author', 'Category', 'Url', 'Tags'], dtype='object')"
            ]
          },
          "metadata": {},
          "execution_count": 8
        }
      ]
    },
    {
      "cell_type": "code",
      "source": [
        "df['Tags'].unique()"
      ],
      "metadata": {
        "colab": {
          "base_uri": "https://localhost:8080/"
        },
        "id": "bTR6Zvo3fFvF",
        "outputId": "7c1a55f9-c6d4-40e6-e8ff-6617918d6fc1"
      },
      "execution_count": null,
      "outputs": [
        {
          "output_type": "execute_result",
          "data": {
            "text/plain": [
              "array([\"['Age', 'Mind', 'Matter', 'Over', 'Issue']\",\n",
              "       \"['Birthday', 'Age', 'Man', 'Never', 'Woman']\",\n",
              "       \"['Age', 'Youth', 'Young', 'Wasted']\", ...,\n",
              "       \"['Work', 'Black', 'Shades', 'Three']\",\n",
              "       \"['Work', 'Hard Work', 'Hard', 'Sweat', 'More']\",\n",
              "       \"['Work', 'Dominate', 'Niche', 'Mean', 'Just']\"], dtype=object)"
            ]
          },
          "metadata": {},
          "execution_count": 11
        }
      ]
    },
    {
      "cell_type": "code",
      "source": [
        "len(df)"
      ],
      "metadata": {
        "colab": {
          "base_uri": "https://localhost:8080/"
        },
        "id": "QXE6XSXjfFsq",
        "outputId": "0ebcba41-c1d1-4a83-c8c4-740656710e01"
      },
      "execution_count": null,
      "outputs": [
        {
          "output_type": "execute_result",
          "data": {
            "text/plain": [
              "101243"
            ]
          },
          "metadata": {},
          "execution_count": 12
        }
      ]
    },
    {
      "cell_type": "code",
      "source": [],
      "metadata": {
        "id": "9nH4DTh8fFqd"
      },
      "execution_count": null,
      "outputs": []
    },
    {
      "cell_type": "code",
      "source": [
        "df.shape"
      ],
      "metadata": {
        "colab": {
          "base_uri": "https://localhost:8080/"
        },
        "id": "hh7Hwi9x6teV",
        "outputId": "3f9b9d37-34ad-4d07-f140-47b92ecc3372"
      },
      "execution_count": null,
      "outputs": [
        {
          "output_type": "execute_result",
          "data": {
            "text/plain": [
              "(101243, 5)"
            ]
          },
          "metadata": {},
          "execution_count": 9
        }
      ]
    },
    {
      "cell_type": "code",
      "source": [
        "df.isna().sum()"
      ],
      "metadata": {
        "colab": {
          "base_uri": "https://localhost:8080/"
        },
        "id": "wUws-lHTCbWj",
        "outputId": "e2035f9e-791c-47b7-caec-5d6286a4ff31"
      },
      "execution_count": null,
      "outputs": [
        {
          "output_type": "execute_result",
          "data": {
            "text/plain": [
              "Quote       0\n",
              "Author      0\n",
              "Category    0\n",
              "Url         0\n",
              "Tags        0\n",
              "dtype: int64"
            ]
          },
          "metadata": {},
          "execution_count": 10
        }
      ]
    },
    {
      "cell_type": "code",
      "source": [
        "df.duplicated().sum()"
      ],
      "metadata": {
        "colab": {
          "base_uri": "https://localhost:8080/"
        },
        "id": "8Z7ZGzJrCgNx",
        "outputId": "575fc4aa-4482-4e5c-c19f-a1b1750a4947"
      },
      "execution_count": null,
      "outputs": [
        {
          "output_type": "execute_result",
          "data": {
            "text/plain": [
              "32"
            ]
          },
          "metadata": {},
          "execution_count": 11
        }
      ]
    },
    {
      "cell_type": "code",
      "source": [
        "df.drop_duplicates(inplace = True)"
      ],
      "metadata": {
        "id": "HyJUGXq_CkRh"
      },
      "execution_count": null,
      "outputs": []
    },
    {
      "cell_type": "code",
      "source": [
        "df.reset_index(drop = True, inplace = True)"
      ],
      "metadata": {
        "id": "62Mo7ampENpW"
      },
      "execution_count": null,
      "outputs": []
    },
    {
      "cell_type": "code",
      "source": [
        "df.shape"
      ],
      "metadata": {
        "colab": {
          "base_uri": "https://localhost:8080/"
        },
        "id": "930LQz8QCqFv",
        "outputId": "5b7310e1-b4fe-44e7-896d-30912fedb757"
      },
      "execution_count": null,
      "outputs": [
        {
          "output_type": "execute_result",
          "data": {
            "text/plain": [
              "(101211, 5)"
            ]
          },
          "metadata": {},
          "execution_count": 14
        }
      ]
    },
    {
      "cell_type": "code",
      "source": [
        "df.columns"
      ],
      "metadata": {
        "colab": {
          "base_uri": "https://localhost:8080/"
        },
        "id": "bCiHhkW-FKSp",
        "outputId": "76c7dfb6-fd11-4831-acc6-b136d4815533"
      },
      "execution_count": null,
      "outputs": [
        {
          "output_type": "execute_result",
          "data": {
            "text/plain": [
              "Index(['Quote', 'Author', 'Category', 'Url', 'Tags'], dtype='object')"
            ]
          },
          "metadata": {},
          "execution_count": 15
        }
      ]
    },
    {
      "cell_type": "code",
      "source": [
        "tags_list = df.Tags.to_list()\n",
        "tag_count = {}\n",
        "for tags in tags_list:\n",
        "  tag_list = eval(tags)\n",
        "  for tag in tag_list:\n",
        "    if tag in tag_count.keys():\n",
        "      tag_count[tag] += 1\n",
        "    else:\n",
        "      tag_count[tag] = 1\n",
        "print(len(tag_count))"
      ],
      "metadata": {
        "colab": {
          "base_uri": "https://localhost:8080/"
        },
        "id": "_9qx7pNiDb2Z",
        "outputId": "92db6fbb-a5e2-494c-dd35-f3c3d64b4a62"
      },
      "execution_count": null,
      "outputs": [
        {
          "output_type": "stream",
          "name": "stdout",
          "text": [
            "9129\n"
          ]
        }
      ]
    },
    {
      "cell_type": "code",
      "source": [
        "print(tag_count.values())"
      ],
      "metadata": {
        "colab": {
          "base_uri": "https://localhost:8080/"
        },
        "id": "s6EiwMxBK5sc",
        "outputId": "028c31f7-be70-47cb-b5cc-1798cc69473f"
      },
      "execution_count": null,
      "outputs": [
        {
          "output_type": "stream",
          "name": "stdout",
          "text": [
            "dict_values([1871, 1295, 201, 366, 9, 840, 3249, 2443, 383, 284, 813, 12, 17, 529, 643, 394, 3091, 449, 170, 127, 1544, 33, 478, 678, 49, 83, 1379, 159, 909, 701, 5, 384, 2, 165, 248, 1512, 26, 156, 804, 2, 47, 1473, 41, 65, 122, 27, 58, 4, 35, 4, 1, 3257, 213, 62, 638, 53, 27, 2364, 4304, 16, 7553, 2112, 134, 62, 5508, 1268, 115, 283, 5, 844, 8270, 527, 3, 2, 75, 404, 120, 121, 3, 1, 1, 60, 1, 179, 6159, 109, 123, 1185, 2761, 1671, 866, 65, 311, 1556, 24, 2324, 4505, 2032, 390, 5807, 2118, 825, 498, 46, 375, 6176, 63, 166, 91, 605, 419, 695, 2089, 487, 967, 5, 1669, 106, 636, 19, 12, 1610, 12, 3, 46, 664, 21, 221, 668, 3, 1163, 6, 1996, 97, 144, 2, 759, 1810, 20, 48, 12, 9, 1, 19, 160, 39, 166, 14, 255, 111, 485, 7, 202, 220, 66, 43, 14, 94, 964, 1265, 154, 1608, 681, 5, 134, 420, 87, 55, 7, 2, 1502, 32, 28, 54, 92, 808, 727, 27, 4, 17, 8, 162, 37, 2292, 1813, 612, 760, 29, 490, 251, 929, 7, 559, 13, 133, 2577, 11, 3, 430, 76, 92, 101, 440, 1, 2026, 12, 48, 374, 20, 7, 648, 489, 191, 614, 1333, 325, 36, 1730, 2, 20, 988, 87, 693, 4, 316, 440, 1, 245, 2, 1109, 84, 340, 23, 87, 29, 38, 314, 275, 221, 616, 16, 10, 111, 129, 108, 986, 2083, 30, 4011, 503, 671, 67, 77, 156, 225, 276, 165, 17, 62, 444, 169, 217, 44, 1624, 236, 367, 2720, 24, 1263, 113, 2, 1277, 54, 16, 21, 611, 13, 3, 1084, 71, 75, 169, 147, 286, 58, 1476, 5, 296, 258, 250, 185, 131, 214, 2, 13, 273, 1691, 280, 108, 39, 315, 1025, 5, 270, 31, 24, 3, 18, 160, 106, 1, 13, 118, 57, 27, 2119, 44, 208, 185, 3, 1436, 55, 96, 44, 461, 169, 2733, 24, 1711, 8, 30, 59, 24, 1344, 157, 146, 232, 112, 624, 106, 1770, 1560, 270, 42, 13, 1647, 1492, 308, 86, 386, 2, 2, 85, 74, 623, 428, 168, 149, 604, 2, 27, 58, 32, 211, 136, 283, 25, 26, 11, 1548, 101, 63, 11, 280, 1076, 139, 1953, 185, 33, 32, 1290, 181, 423, 53, 19, 99, 4, 57, 9, 28, 10, 48, 5, 323, 242, 2090, 16, 279, 20, 1806, 26, 66, 213, 214, 601, 901, 193, 267, 48, 264, 638, 5, 15, 1524, 23, 1502, 23, 196, 13, 33, 126, 147, 484, 211, 226, 144, 8, 64, 1, 77, 81, 433, 79, 129, 79, 1125, 5, 10, 2, 309, 82, 142, 26, 3, 1, 15, 82, 900, 27, 275, 895, 33, 206, 278, 297, 302, 99, 140, 1647, 1989, 50, 134, 1, 1764, 1071, 171, 1350, 34, 434, 62, 1, 2, 269, 8, 1699, 163, 144, 128, 62, 30, 16, 12, 35, 101, 56, 4, 312, 18, 15, 333, 25, 3305, 5, 6, 2, 83, 4, 26, 295, 1135, 118, 77, 1566, 99, 283, 29, 88, 23, 98, 17, 190, 75, 623, 9, 396, 628, 42, 73, 141, 452, 42, 97, 4, 15, 41, 204, 40, 30, 112, 15, 14, 110, 290, 288, 37, 15, 4, 13, 109, 24, 420, 1597, 2060, 49, 1563, 2581, 8, 133, 940, 11, 9, 1012, 58, 15, 222, 11, 6, 77, 81, 74, 43, 392, 33, 155, 4, 432, 5, 26, 328, 3, 16, 11, 1923, 241, 40, 10, 8, 327, 114, 45, 238, 96, 410, 1987, 1219, 49, 235, 528, 102, 20, 30, 366, 2, 148, 452, 268, 63, 40, 14, 1867, 23, 61, 1911, 15, 450, 402, 3, 51, 42, 4, 26, 82, 20, 31, 29, 174, 84, 280, 572, 12, 154, 113, 911, 211, 2438, 1286, 85, 9, 73, 112, 128, 2, 18, 167, 162, 57, 118, 1630, 178, 156, 363, 1604, 1180, 68, 624, 1176, 26, 51, 9, 172, 10, 162, 343, 115, 824, 15, 4, 49, 4, 107, 257, 1271, 127, 91, 25, 109, 61, 93, 91, 24, 10, 3, 96, 6, 3, 21, 58, 33, 238, 20, 488, 117, 249, 2, 73, 129, 1249, 35, 14, 8, 9, 254, 27, 121, 23, 114, 245, 306, 303, 725, 64, 4, 371, 23, 17, 1, 27, 44, 15, 2, 574, 29, 35, 41, 1804, 80, 8, 69, 7, 971, 35, 640, 243, 216, 16, 179, 5, 117, 85, 32, 93, 1, 3, 3, 19, 68, 213, 74, 788, 1, 1128, 27, 299, 174, 175, 77, 253, 129, 54, 63, 209, 123, 15, 8, 1, 266, 170, 1484, 6, 31, 175, 71, 208, 11, 453, 40, 38, 1197, 24, 1, 8, 21, 27, 15, 53, 128, 1425, 151, 90, 112, 23, 356, 39, 72, 24, 71, 1160, 65, 39, 34, 49, 304, 9, 337, 86, 1580, 73, 4, 5, 86, 95, 816, 41, 49, 2, 1792, 62, 10, 45, 301, 131, 58, 147, 22, 21, 3, 115, 165, 1292, 8, 283, 81, 99, 146, 43, 2, 10, 184, 110, 98, 180, 26, 42, 24, 42, 169, 595, 8, 58, 115, 63, 4, 7, 49, 39, 24, 51, 1290, 40, 5, 135, 41, 113, 63, 3, 22, 58, 76, 200, 34, 232, 195, 54, 15, 29, 70, 67, 163, 233, 18, 14, 82, 169, 1, 660, 76, 104, 27, 115, 14, 93, 374, 314, 219, 144, 10, 87, 309, 58, 86, 259, 12, 1, 3, 58, 10, 22, 164, 53, 24, 105, 133, 77, 16, 11, 2, 406, 65, 3, 34, 247, 168, 81, 13, 148, 1432, 58, 223, 39, 120, 7, 43, 110, 167, 85, 81, 43, 237, 121, 37, 64, 66, 5, 1, 155, 3, 21, 16, 1, 41, 3, 1475, 323, 213, 6, 8, 13, 45, 138, 46, 108, 52, 18, 211, 4, 4, 4, 70, 5, 246, 14, 57, 1, 9, 19, 136, 79, 20, 9, 5, 202, 44, 206, 349, 16, 71, 137, 267, 394, 568, 3, 95, 82, 77, 204, 126, 504, 33, 61, 138, 65, 64, 55, 8, 1, 227, 79, 6, 8, 266, 270, 1287, 13, 20, 1, 77, 122, 657, 83, 51, 189, 23, 50, 1, 3, 35, 5, 4, 33, 65, 35, 24, 52, 238, 58, 43, 128, 1881, 144, 40, 5, 85, 22, 333, 46, 2, 1, 239, 1, 3, 211, 49, 70, 106, 19, 68, 6, 163, 1, 80, 903, 63, 23, 1, 37, 49, 2, 61, 2, 217, 4, 446, 81, 19, 75, 165, 1623, 162, 8, 1252, 7, 180, 4, 16, 2, 17, 17, 7, 53, 50, 9, 149, 13, 74, 276, 77, 112, 3, 22, 35, 57, 37, 306, 45, 2, 28, 30, 8, 12, 46, 97, 2, 345, 9, 37, 38, 3, 55, 49, 60, 1, 252, 268, 114, 878, 94, 449, 21, 94, 3, 7, 30, 1, 54, 3, 1, 122, 29, 48, 74, 119, 22, 81, 2, 5, 43, 2, 131, 1, 27, 1, 5, 2, 1, 34, 146, 50, 134, 208, 121, 361, 69, 30, 56, 42, 57, 132, 17, 134, 6, 1, 127, 39, 1, 9, 193, 11, 342, 10, 2, 5, 97, 13, 19, 6, 48, 137, 67, 276, 169, 79, 59, 1, 51, 87, 26, 19, 506, 10, 13, 7, 3, 124, 140, 61, 55, 75, 6, 4, 83, 132, 8, 165, 12, 18, 1, 2, 123, 368, 230, 15, 6, 96, 143, 70, 33, 74, 5, 75, 3, 363, 84, 30, 179, 19, 46, 28, 60, 157, 61, 7, 86, 15, 18, 3, 205, 75, 18, 16, 36, 91, 74, 18, 2, 947, 68, 83, 73, 2, 11, 100, 1, 83, 8, 21, 234, 28, 9, 157, 30, 110, 75, 14, 78, 3, 210, 34, 36, 44, 3, 8, 65, 79, 225, 30, 1, 115, 215, 150, 159, 36, 19, 295, 17, 235, 49, 52, 4, 26, 171, 67, 374, 100, 181, 295, 2, 1196, 35, 54, 57, 16, 48, 7, 62, 29, 28, 6, 4, 8, 7, 70, 27, 33, 30, 12, 17, 84, 98, 7, 12, 69, 163, 11, 146, 55, 34, 80, 375, 15, 3, 101, 51, 26, 83, 81, 7, 23, 10, 1, 961, 3, 1168, 192, 56, 6, 69, 41, 5, 169, 5, 20, 54, 13, 2, 17, 150, 1, 2, 199, 174, 35, 15, 69, 76, 3, 49, 2, 2, 101, 17, 24, 101, 39, 39, 33, 126, 13, 4, 44, 3, 114, 1206, 37, 138, 96, 18, 6, 43, 28, 56, 53, 143, 277, 135, 89, 11, 89, 281, 11, 281, 46, 91, 115, 29, 19, 96, 79, 38, 41, 113, 7, 77, 104, 173, 49, 35, 2, 17, 8, 4, 8, 138, 24, 102, 5, 13, 3, 4, 57, 50, 7, 2, 7, 22, 43, 77, 68, 1, 16, 15, 135, 179, 37, 1196, 33, 5, 2, 2, 8, 127, 4, 110, 39, 1, 4, 58, 74, 29, 16, 6, 17, 13, 24, 17, 136, 98, 60, 38, 19, 57, 16, 12, 2, 3, 543, 26, 135, 9, 6, 6, 4, 4, 81, 278, 35, 1, 1, 5, 21, 139, 75, 12, 53, 456, 3, 1, 4, 57, 21, 2, 14, 32, 142, 479, 65, 33, 7, 23, 11, 4, 6, 68, 107, 43, 5, 29, 9, 53, 43, 30, 160, 91, 71, 52, 37, 12, 1136, 52, 48, 14, 42, 4, 189, 3, 16, 37, 1, 102, 53, 71, 44, 6, 1, 97, 6, 114, 19, 28, 9, 203, 28, 108, 12, 54, 29, 13, 49, 58, 32, 15, 2, 30, 15, 9, 31, 9, 1, 7, 3, 1, 48, 15, 1, 38, 118, 81, 17, 50, 26, 55, 23, 18, 1, 163, 3, 117, 3, 18, 9, 12, 122, 6, 35, 218, 2, 2, 12, 27, 24, 103, 31, 31, 9, 143, 27, 52, 20, 37, 28, 34, 4, 77, 11, 67, 42, 164, 8, 64, 9, 1, 4, 3, 59, 4, 34, 3, 121, 101, 27, 15, 3, 50, 41, 129, 14, 11, 120, 44, 56, 10, 6, 1, 17, 16, 34, 4, 6, 8, 1, 3, 31, 82, 21, 33, 19, 12, 24, 3, 21, 88, 2, 3, 8, 73, 3, 36, 1, 35, 18, 11, 11, 41, 49, 4, 10, 37, 53, 1, 6, 4, 93, 141, 9, 10, 11, 472, 1, 7, 4, 17, 2, 49, 112, 25, 149, 46, 10, 23, 33, 1, 19, 1, 206, 15, 18, 6, 6, 3, 1, 5, 40, 1, 24, 45, 7, 3, 67, 54, 35, 30, 46, 36, 12, 28, 39, 16, 7, 127, 85, 231, 14, 3, 44, 17, 5, 6, 7, 224, 122, 72, 3, 25, 121, 584, 101, 48, 26, 23, 24, 5, 64, 27, 91, 24, 1, 4, 77, 101, 161, 25, 16, 73, 97, 23, 1, 1, 17, 16, 169, 5, 28, 4, 120, 1, 75, 11, 24, 12, 1, 57, 16, 13, 44, 3, 2, 67, 11, 161, 45, 1, 29, 17, 60, 5, 4, 15, 710, 2, 13, 4, 26, 21, 12, 15, 41, 20, 62, 46, 2, 10, 6, 20, 2, 19, 22, 50, 1, 1, 1216, 469, 20, 13, 96, 9, 2, 56, 2, 3, 122, 1, 1, 8, 127, 3, 2, 113, 1, 36, 10, 6, 124, 25, 54, 79, 3, 10, 39, 19, 1, 13, 23, 2, 216, 88, 11, 14, 33, 7, 15, 47, 56, 28, 23, 59, 96, 17, 59, 9, 4, 32, 93, 8, 1, 23, 30, 1, 11, 64, 11, 8, 6, 49, 8, 17, 24, 18, 16, 6, 2, 2, 1, 14, 1, 60, 12, 37, 1, 10, 53, 35, 57, 27, 74, 17, 78, 2, 11, 298, 27, 101, 65, 4, 10, 4, 17, 41, 122, 211, 7, 83, 48, 177, 26, 23, 85, 10, 1, 59, 19, 33, 11, 1, 30, 1, 1, 17, 1, 35, 41, 30, 89, 65, 73, 28, 7, 6, 16, 1, 27, 12, 9, 14, 36, 24, 18, 91, 94, 12, 73, 14, 193, 4, 17, 39, 82, 14, 4, 116, 1, 8, 56, 73, 61, 63, 7, 10, 1, 1, 8, 11, 44, 36, 15, 53, 6, 120, 30, 11, 5, 6, 48, 27, 38, 45, 331, 5, 78, 11, 26, 16, 7, 22, 49, 8, 6, 39, 81, 80, 8, 9, 20, 12, 114, 6, 6, 26, 2, 3, 2, 2, 47, 5, 152, 2, 51, 33, 13, 3, 9, 17, 69, 72, 152, 502, 13, 55, 29, 16, 2, 67, 104, 69, 49, 7, 5, 4, 28, 15, 2, 20, 38, 15, 3, 21, 22, 2, 45, 10, 77, 69, 2, 31, 4, 157, 37, 17, 10, 20, 30, 10, 9, 29, 20, 12, 10, 44, 13, 9, 2, 1, 12, 8, 32, 30, 12, 19, 30, 16, 17, 2, 2, 3, 4, 1209, 1, 1, 3, 26, 19, 20, 95, 21, 1, 107, 8, 2, 12, 6, 26, 69, 114, 17, 15, 56, 19, 29, 10, 15, 41, 26, 24, 188, 37, 45, 26, 6, 21, 2, 9, 19, 24, 19, 11, 9, 5, 84, 21, 77, 34, 9, 9, 7, 5, 1, 96, 19, 2, 19, 16, 19, 52, 20, 14, 31, 6, 7, 44, 5, 51, 12, 11, 3, 3, 92, 91, 40, 93, 36, 101, 23, 2, 47, 48, 8, 119, 4, 6, 2, 12, 72, 6, 18, 16, 18, 7, 5, 24, 4, 26, 17, 3, 1, 47, 11, 38, 5, 4, 51, 2, 2, 3, 27, 23, 37, 2, 13, 3, 2, 22, 5, 1, 20, 1, 7, 34, 6, 5, 4, 14, 9, 1, 1, 11, 21, 21, 17, 54, 14, 14, 100, 5, 2, 22, 14, 5, 4, 61, 7, 4, 6, 20, 95, 8, 4, 2, 49, 11, 5, 17, 3, 18, 20, 47, 23, 22, 8, 1, 1, 3, 45, 7, 47, 30, 1, 1, 25, 44, 9, 36, 38, 4, 11, 52, 8, 6, 1, 9, 1, 41, 2, 7, 97, 4, 38, 9, 20, 40, 11, 3, 2, 9, 23, 5, 18, 3, 20, 34, 1, 28, 63, 12, 14, 3, 9, 13, 20, 57, 3, 42, 41, 76, 2, 13, 2, 18, 5, 27, 8, 25, 7, 25, 8, 1, 92, 5, 1, 22, 13, 15, 3, 50, 2, 17, 15, 50, 14, 1, 35, 18, 64, 12, 11, 16, 24, 284, 37, 6, 1, 19, 17, 46, 22, 7, 9, 722, 5, 2, 6, 17, 8, 12, 2, 9, 8, 11, 7, 24, 26, 11, 17, 56, 19, 1, 3, 7, 3, 4, 2, 95, 6, 5, 12, 6, 1, 17, 6, 9, 15, 105, 15, 2, 7, 38, 45, 20, 9, 11, 1, 11, 3, 7, 34, 56, 1, 34, 10, 2, 3, 14, 1, 3, 30, 60, 9, 3, 18, 2, 1, 1, 2, 23, 66, 5, 4, 19, 19, 2, 16, 17, 4, 37, 14, 9, 11, 22, 26, 9, 51, 15, 23, 1, 21, 4, 8, 16, 14, 4, 1, 205, 23, 19, 24, 13, 102, 7, 6, 18, 1, 6, 55, 5, 8, 15, 2, 23, 3, 8, 2, 1, 4, 25, 28, 64, 35, 6, 26, 27, 15, 1, 2, 59, 1, 13, 11, 11, 12, 13, 85, 31, 11, 16, 14, 10, 14, 22, 39, 1, 28, 37, 6, 8, 20, 5, 227, 64, 31, 22, 89, 1, 6, 95, 91, 2, 16, 2, 11, 9, 10, 2, 43, 1, 2, 131, 12, 4, 31, 13, 78, 1, 10, 17, 9, 1, 1, 15, 8, 6, 31, 1, 5, 35, 4, 5, 1, 52, 1, 16, 1, 1, 3, 9, 31, 12, 79, 24, 46, 125, 6, 7, 12, 1, 6, 3, 2, 4, 18, 5, 4, 77, 11, 3, 6, 6, 47, 7, 3, 1, 35, 1, 87, 9, 2, 1, 27, 11, 70, 12, 20, 15, 3, 20, 14, 8, 21, 151, 3, 25, 15, 3, 3, 29, 1, 11, 39, 4, 23, 2, 5, 64, 2, 7, 9, 50, 7, 65, 2, 6, 7, 5, 7, 25, 8, 10, 1, 60, 43, 27, 12, 39, 3, 38, 5, 45, 4, 6, 52, 8, 1, 18, 1, 6, 1, 4, 31, 45, 29, 34, 13, 43, 72, 38, 32, 2, 29, 3, 6, 44, 21, 7, 5, 51, 1, 12, 26, 1, 8, 103, 9, 33, 2, 20, 28, 20, 8, 12, 1, 1, 23, 116, 9, 70, 5, 19, 4, 2, 1, 12, 6, 20, 31, 19, 45, 14, 6, 22, 7, 8, 24, 19, 8, 2, 50, 3, 4, 7, 4, 13, 9, 7, 20, 7, 26, 50, 9, 50, 20, 4, 1, 1, 11, 1, 56, 1, 19, 18, 2, 43, 42, 3, 7, 30, 9, 16, 24, 17, 5, 1, 1, 17, 7, 1, 31, 9, 4, 19, 62, 43, 80, 1, 31, 19, 5, 48, 1, 28, 4, 2, 9, 48, 37, 15, 5, 4, 11, 3, 6, 3, 2, 56, 46, 7, 2, 2, 1, 15, 2, 135, 7, 5, 2, 1, 2, 17, 4, 17, 2, 10, 3, 22, 1, 46, 6, 19, 12, 1, 15, 12, 3, 3, 3, 3, 1, 21, 4, 2, 2, 22, 18, 43, 11, 5, 7, 6, 1, 44, 6, 31, 2, 1, 50, 5, 76, 2, 1, 10, 1, 2, 2, 8, 1, 5, 1, 6, 3, 10, 37, 22, 4, 5, 27, 4, 5, 2, 3, 2, 8, 1, 1, 3, 2, 50, 3, 11, 1, 5, 25, 6, 3, 14, 6, 1, 19, 1, 5, 30, 68, 6, 16, 2, 4, 6, 1, 5, 1, 1, 1, 14, 2, 6, 42, 18, 1, 11, 8, 3, 7, 1, 3, 2, 5, 6, 5, 1, 4, 16, 5, 19, 43, 1, 21, 23, 8, 1, 8, 8, 4, 6, 1, 5, 2, 2, 7, 7, 16, 6, 2, 1, 12, 1, 50, 4, 14, 23, 2, 29, 24, 2, 3, 9, 8, 7, 3, 1, 4, 5, 2, 2, 2, 1, 1, 25, 3, 83, 6, 60, 4, 3, 2, 36, 19, 3, 5, 4, 4, 4, 9, 53, 19, 10, 36, 4, 6, 9, 5, 4, 3, 4, 35, 18, 168, 13, 4, 11, 9, 8, 8, 4, 54, 20, 4, 17, 1, 9, 4, 6, 8, 4, 2, 1, 3, 12, 12, 12, 43, 3, 6, 17, 2, 10, 6, 5, 3, 1, 10, 2, 15, 29, 86, 20, 14, 58, 10, 5, 18, 14, 3, 3, 1, 51, 19, 12, 2, 2, 2, 14, 84, 14, 5, 27, 5, 51, 21, 39, 6, 22, 7, 13, 24, 12, 4, 8, 11, 26, 3, 1, 28, 2, 4, 14, 3, 20, 64, 2, 29, 2, 3, 12, 1, 7, 8, 12, 5, 12, 4, 1, 4, 9, 3, 1, 3, 13, 3, 17, 18, 2, 1, 4, 36, 2, 1, 41, 16, 33, 5, 17, 3, 12, 55, 13, 2, 1, 9, 4, 8, 5, 5, 2, 2, 36, 8, 7, 9, 5, 8, 21, 18, 4, 3, 12, 9, 4, 1, 2, 15, 18, 1, 9, 3, 8, 10, 11, 4, 19, 1, 2, 13, 8, 1, 1, 4, 1, 6, 1, 2, 2, 3, 4, 2, 14, 3, 3, 5, 1, 2, 12, 4, 3, 38, 4, 6, 5, 4, 8, 12, 5, 36, 2, 2, 3, 7, 6, 6, 12, 7, 3, 9, 5, 3, 49, 3, 7, 6, 85, 1, 68, 22, 9, 29, 13, 6, 4, 17, 10, 7, 6, 45, 8, 10, 13, 3, 14, 28, 13, 40, 2, 24, 7, 5, 50, 6, 27, 1, 4, 2, 1, 6, 11, 35, 13, 23, 9, 16, 9, 17, 3, 19, 2, 7, 43, 9, 515, 10, 6, 6, 19, 32, 15, 53, 4, 2, 8, 1, 29, 6, 4, 46, 43, 19, 57, 12, 3, 11, 14, 2, 1, 3, 4, 21, 2, 16, 11, 6, 4, 9, 15, 2, 23, 26, 6, 7, 3, 14, 14, 9, 7, 26, 30, 7, 7, 11, 24, 3, 12, 13, 1, 16, 3, 5, 7, 2, 5, 4, 55, 11, 18, 1, 2, 14, 15, 4, 1, 2, 7, 4, 40, 49, 13, 28, 2, 7, 11, 4, 16, 22, 1, 1, 6, 4, 6, 3, 7, 1, 27, 2, 25, 1, 2, 16, 30, 10, 1, 4, 9, 31, 26, 35, 1, 55, 11, 3, 26, 1, 2, 18, 2, 8, 6, 30, 45, 13, 24, 1, 22, 6, 1, 16, 59, 1, 2, 2, 16, 2, 2, 4, 11, 2, 16, 28, 4, 8, 20, 4, 33, 12, 2, 2, 28, 15, 4, 7, 2, 5, 2, 1, 1, 5, 26, 1, 12, 4, 1, 5, 2, 38, 1, 6, 10, 30, 24, 13, 36, 18, 1, 6, 3, 1, 8, 33, 4, 18, 10, 2, 9, 26, 16, 25, 2, 10, 7, 18, 10, 38, 9, 30, 3, 8, 2, 5, 13, 2, 17, 17, 1, 1, 38, 15, 20, 12, 5, 2, 3, 4, 1, 7, 7, 16, 2, 1, 26, 2, 12, 1, 2, 4, 12, 37, 1, 5, 3, 11, 6, 1, 2, 2, 27, 1, 12, 1, 3, 6, 1, 1, 12, 1, 13, 2, 5, 5, 62, 18, 1, 1, 21, 2, 14, 1, 1, 24, 16, 5, 35, 1, 4, 8, 1, 25, 2, 3, 6, 3, 20, 6, 2, 18, 1, 31, 15, 1, 1, 4, 9, 8, 23, 2, 24, 14, 17, 89, 11, 5, 2, 8, 13, 4, 19, 14, 16, 1, 2, 8, 9, 34, 6, 8, 35, 10, 6, 4, 5, 3, 10, 2, 4, 9, 1, 7, 9, 5, 10, 2, 1, 4, 2, 8, 12, 9, 2, 1, 4, 2, 3, 29, 10, 5, 17, 35, 7, 2, 2, 1, 1, 93, 1, 2, 4, 11, 65, 8, 18, 2, 14, 16, 11, 14, 13, 23, 4, 15, 8, 18, 2, 28, 3, 65, 48, 10, 34, 9, 5, 22, 1, 11, 10, 19, 29, 33, 6, 7, 23, 37, 10, 115, 4, 6, 6, 19, 48, 12, 25, 8, 16, 40, 24, 19, 13, 2, 11, 1, 3, 2, 13, 6, 1, 10, 2, 6, 8, 7, 1, 33, 2, 9, 4, 2, 1, 3, 8, 2, 5, 25, 7, 1, 1, 7, 5, 12, 25, 4, 5, 8, 35, 5, 3, 28, 10, 37, 26, 4, 10, 2, 10, 11, 8, 7, 4, 5, 15, 19, 28, 4, 22, 42, 12, 9, 9, 3, 19, 3, 16, 2, 5, 2, 26, 16, 19, 20, 33, 7, 1, 7, 9, 3, 1, 8, 2, 4, 8, 10, 14, 85, 7, 26, 10, 3, 15, 4, 8, 1, 8, 9, 25, 3, 1, 3, 4, 12, 5, 12, 7, 19, 43, 2, 14, 20, 15, 2, 1, 8, 1, 5, 52, 13, 8, 5, 2, 8, 9, 7, 14, 27, 4, 29, 7, 7, 10, 8, 8, 30, 1, 25, 4, 25, 2, 1, 11, 3, 15, 3, 2, 37, 30, 11, 16, 8, 2, 2, 5, 4, 10, 2, 6, 2, 8, 6, 4, 33, 7, 16, 6, 15, 2, 3, 1, 8, 2, 2, 9, 3, 18, 5, 3, 63, 39, 3, 89, 3, 10, 27, 28, 8, 3, 18, 22, 6, 4, 4, 12, 15, 20, 6, 2, 5, 1, 7, 1, 7, 17, 12, 1, 9, 2, 9, 3, 1, 6, 14, 6, 1, 1, 2, 2, 2, 5, 5, 2, 13, 2, 11, 1, 5, 32, 2, 40, 16, 15, 11, 4, 5, 9, 3, 1, 19, 4, 1, 1, 2, 5, 7, 8, 8, 2, 3, 2, 4, 9, 2, 8, 1, 11, 2, 15, 14, 1, 9, 11, 14, 4, 1, 3, 1, 1, 1, 1, 11, 5, 27, 8, 2, 5, 9, 13, 10, 4, 1, 1, 5, 1, 2, 6, 1, 5, 10, 1, 5, 4, 2, 10, 17, 10, 12, 25, 1, 3, 2, 2, 3, 1, 17, 1, 25, 1, 2, 9, 7, 12, 4, 15, 3, 8, 1, 11, 5, 4, 9, 4, 2, 21, 3, 12, 5, 1, 1, 36, 5, 6, 3, 36, 6, 1, 2, 1, 41, 5, 6, 5, 4, 3, 2, 15, 4, 11, 20, 11, 5, 1, 4, 9, 28, 11, 16, 2, 30, 12, 5, 8, 4, 13, 4, 9, 8, 3, 9, 5, 1, 2, 2, 12, 5, 2, 18, 2, 3, 22, 7, 6, 7, 1, 1, 8, 6, 8, 35, 1, 4, 5, 4, 1, 1, 6, 4, 12, 20, 27, 3, 4, 6, 8, 14, 2, 16, 31, 4, 7, 2, 1, 4, 7, 11, 24, 2, 16, 2, 1, 2, 12, 3, 11, 6, 2, 4, 3, 9, 27, 10, 5, 4, 23, 23, 2, 6, 19, 7, 20, 1, 16, 12, 5, 22, 6, 9, 1, 9, 11, 3, 4, 1, 15, 4, 7, 25, 7, 7, 3, 12, 23, 2, 10, 6, 77, 3, 2, 2, 14, 2, 8, 3, 3, 3, 3, 2, 7, 1, 4, 2, 4, 2, 15, 1, 4, 2, 1, 14, 8, 7, 8, 8, 28, 22, 13, 9, 3, 4, 11, 2, 1, 4, 11, 4, 5, 2, 4, 1, 7, 2, 64, 1, 2, 1, 5, 2, 2, 8, 9, 17, 11, 2, 1, 5, 2, 4, 2, 5, 2, 1, 8, 21, 4, 3, 2, 2, 15, 28, 1, 1, 3, 1, 4, 3, 4, 12, 3, 1, 4, 5, 32, 37, 6, 1, 27, 2, 11, 1, 11, 1, 19, 7, 5, 6, 2, 6, 7, 14, 9, 17, 6, 5, 18, 1, 33, 3, 11, 2, 5, 2, 4, 1, 1, 2, 3, 1, 11, 4, 23, 49, 3, 8, 19, 7, 6, 4, 1, 17, 1, 1, 2, 5, 12, 7, 1, 1, 2, 11, 6, 6, 1, 1, 3, 3, 14, 2, 11, 7, 22, 1, 4, 2, 4, 3, 8, 1, 1, 29, 1, 1, 6, 14, 3, 50, 2, 8, 7, 14, 1, 7, 4, 5, 4, 2, 1, 1, 25, 11, 16, 13, 15, 1, 2, 1, 1, 3, 2, 18, 10, 1, 2, 6, 2, 17, 9, 2, 3, 1, 3, 1, 3, 1, 2, 28, 3, 3, 2, 1, 4, 2, 7, 9, 3, 7, 5, 15, 1, 7, 1, 5, 1, 1, 5, 7, 4, 1, 4, 1, 12, 7, 2, 1, 12, 9, 13, 1, 6, 3, 1, 5, 7, 17, 1, 10, 9, 9, 2, 8, 3, 1, 1, 2, 3, 3, 23, 4, 18, 1, 24, 12, 2, 2, 15, 7, 5, 13, 7, 5, 41, 2, 2, 11, 1, 5, 5, 5, 6, 5, 10, 1, 1, 8, 11, 2, 8, 3, 3, 3, 2, 19, 3, 21, 1, 1, 2, 14, 6, 15, 3, 2, 12, 13, 3, 15, 24, 10, 6, 5, 21, 1, 3, 43, 3, 3, 3, 3, 1, 9, 4, 15, 4, 7, 2, 2, 38, 20, 3, 6, 4, 2, 13, 1, 11, 5, 3, 1, 6, 3, 1, 1, 1, 1, 34, 8, 33, 1, 9, 6, 13, 3, 3, 7, 1, 12, 6, 7, 1, 7, 1, 2, 2, 4, 18, 3, 6, 6, 9, 5, 13, 9, 5, 4, 17, 2, 11, 1, 1, 5, 4, 12, 4, 4, 2, 3, 3, 4, 1, 3, 13, 4, 6, 7, 1, 7, 1, 7, 7, 2, 1, 6, 4, 5, 2, 8, 4, 4, 7, 3, 1, 3, 1, 7, 15, 18, 1, 8, 3, 5, 2, 1, 11, 1, 30, 15, 3, 23, 2, 5, 9, 1, 5, 5, 2, 1, 11, 5, 3, 14, 2, 10, 12, 4, 5, 8, 4, 16, 4, 9, 2, 1, 6, 11, 1, 1, 2, 8, 1, 17, 2, 10, 4, 6, 1, 1, 5, 17, 10, 1, 2, 18, 13, 4, 3, 7, 1, 3, 2, 3, 4, 12, 4, 4, 8, 8, 2, 1, 24, 3, 13, 3, 2, 7, 1, 8, 9, 16, 33, 3, 6, 6, 11, 2, 3, 2, 1, 10, 2, 1, 5, 3, 8, 4, 2, 4, 2, 14, 11, 4, 3, 1, 4, 15, 18, 1, 1, 6, 6, 2, 8, 4, 21, 1, 1, 12, 3, 4, 2, 3, 9, 3, 4, 2, 6, 4, 2, 1, 6, 1, 4, 2, 9, 12, 2, 9, 7, 4, 12, 1, 2, 1, 4, 3, 15, 17, 2, 1, 27, 6, 9, 4, 13, 7, 9, 1, 4, 1, 1, 12, 1, 1, 3, 3, 6, 5, 4, 1, 2, 10, 3, 8, 1, 1, 3, 2, 3, 2, 4, 6, 2, 13, 3, 3, 4, 6, 2, 1, 18, 1, 1, 7, 1, 3, 8, 8, 5, 2, 3, 3, 2, 2, 1, 2, 28, 18, 2, 11, 4, 1, 2, 9, 3, 10, 29, 1, 1, 21, 6, 21, 19, 3, 10, 6, 2, 3, 2, 7, 8, 1, 1, 6, 12, 4, 4, 12, 21, 1, 2, 10, 6, 13, 1, 9, 3, 1, 2, 12, 2, 3, 4, 18, 1, 1, 1, 4, 1, 3, 21, 2, 4, 5, 2, 12, 3, 1, 1, 13, 6, 10, 3, 1, 2, 1, 1, 1, 11, 9, 1, 9, 6, 5, 2, 2, 6, 4, 3, 11, 1, 4, 12, 1, 1, 1, 4, 1, 1, 5, 1, 6, 1, 4, 4, 1, 28, 2, 3, 12, 4, 3, 1, 3, 4, 2, 4, 4, 9, 1, 2, 1, 4, 1, 4, 10, 10, 7, 2, 3, 1, 1, 1, 3, 1, 2, 3, 1, 18, 3, 5, 2, 17, 1, 1, 10, 22, 62, 6, 3, 17, 2, 6, 9, 6, 1, 2, 3, 2, 4, 8, 1, 6, 2, 2, 5, 5, 1, 2, 7, 2, 1, 1, 3, 1, 22, 1, 1, 4, 3, 1, 1, 4, 1, 14, 5, 1, 5, 2, 21, 16, 1, 3, 1, 7, 1, 1, 2, 1, 1, 1, 3, 1, 10, 2, 1, 1, 2, 7, 1, 2, 1, 1, 6, 2, 6, 1, 3, 5, 3, 4, 3, 1, 1, 1, 2, 3, 1, 1, 7, 5, 1, 3, 2, 1, 1, 1, 1, 6, 3, 3, 1, 1, 2, 1, 4, 3, 12, 3, 9, 12, 9, 15, 9, 13, 16, 1, 5, 6, 1, 3, 6, 1, 1, 3, 16, 12, 4, 21, 4, 6, 10, 7, 5, 3, 3, 3, 8, 12, 2, 1, 8, 3, 5, 3, 1, 2, 13, 6, 8, 1, 4, 6, 5, 6, 2, 4, 6, 1, 12, 3, 7, 12, 19, 2, 2, 3, 7, 3, 3, 5, 1, 3, 4, 1, 1, 1, 6, 10, 2, 10, 9, 11, 3, 1, 10, 37, 2, 11, 4, 6, 5, 5, 1, 2, 3, 8, 4, 1, 1, 3, 4, 1, 3, 14, 4, 5, 2, 5, 1, 16, 4, 2, 1, 1, 1, 4, 5, 1, 4, 3, 12, 2, 4, 1, 2, 4, 1, 7, 3, 1, 3, 5, 8, 2, 7, 3, 4, 9, 4, 9, 1, 41, 1, 3, 2, 9, 3, 5, 1, 1, 1, 4, 1, 1, 2, 2, 2, 1, 12, 1, 11, 4, 2, 2, 4, 1, 7, 2, 2, 2, 12, 1, 2, 2, 7, 4, 5, 11, 13, 2, 2, 1, 5, 1, 1, 1, 1, 1, 5, 1, 1, 14, 18, 2, 3, 2, 1, 10, 3, 2, 4, 1, 1, 3, 8, 14, 2, 8, 2, 2, 5, 15, 1, 12, 1, 2, 1, 2, 3, 10, 6, 2, 1, 1, 1, 2, 23, 4, 9, 2, 5, 1, 7, 5, 8, 1, 1, 15, 9, 2, 4, 2, 5, 3, 2, 3, 4, 1, 1, 5, 2, 5, 9, 5, 54, 1, 5, 4, 1, 2, 1, 1, 4, 2, 1, 5, 3, 3, 1, 8, 4, 10, 2, 1, 6, 1, 8, 11, 2, 10, 2, 3, 3, 3, 6, 16, 5, 3, 1, 13, 4, 25, 2, 3, 9, 6, 6, 1, 1, 3, 5, 5, 15, 2, 8, 1, 7, 2, 1, 1, 22, 1, 17, 8, 9, 3, 4, 4, 1, 20, 2, 14, 3, 1, 5, 6, 4, 2, 3, 1, 11, 19, 1, 1, 1, 1, 4, 1, 1, 1, 2, 2, 1, 6, 2, 2, 1, 2, 5, 3, 1, 8, 7, 5, 3, 2, 1, 1, 12, 5, 2, 1, 1, 1, 15, 4, 1, 2, 3, 1, 3, 4, 2, 1, 1, 1, 2, 2, 3, 11, 1, 1, 3, 1, 12, 2, 1, 1, 1, 2, 3, 4, 1, 4, 4, 2, 2, 2, 12, 1, 1, 1, 1, 3, 4, 1, 10, 1, 3, 1, 3, 2, 2, 16, 4, 2, 5, 2, 11, 10, 2, 1, 7, 7, 2, 1, 1, 1, 1, 1, 1, 9, 5, 5, 2, 1, 3, 2, 5, 4, 5, 10, 3, 1, 2, 2, 1, 6, 1, 6, 6, 1, 4, 6, 11, 3, 1, 5, 1, 7, 5, 1, 2, 2, 1, 2, 6, 2, 6, 2, 4, 3, 1, 3, 2, 2, 1, 3, 1, 5, 6, 1, 3, 4, 1, 17, 1, 2, 1, 6, 2, 9, 1, 14, 3, 3, 4, 1, 1, 6, 3, 2, 4, 6, 14, 1, 1, 2, 1, 1, 5, 7, 3, 1, 9, 5, 1, 15, 5, 1, 1, 1, 7, 1, 2, 2, 3, 1, 1, 2, 1, 2, 1, 1, 9, 23, 5, 4, 1, 1, 2, 2, 1, 17, 4, 1, 2, 1, 2, 1, 2, 2, 4, 1, 1, 1, 1, 1, 2, 4, 5, 3, 2, 2, 4, 1, 8, 3, 7, 2, 2, 1, 3, 1, 1, 1, 1, 4, 1, 1, 8, 2, 9, 3, 1, 1, 5, 1, 1, 3, 2, 32, 3, 2, 4, 3, 1, 2, 1, 3, 1, 1, 3, 2, 5, 4, 4, 13, 2, 2, 11, 18, 7, 3, 1, 5, 1, 1, 1, 5, 2, 3, 4, 10, 2, 8, 1, 6, 1, 1, 11, 2, 4, 6, 1, 1, 1, 3, 3, 4, 9, 1, 1, 2, 8, 9, 1, 6, 1, 1, 6, 7, 8, 3, 1, 3, 2, 2, 1, 3, 1, 3, 3, 6, 4, 1, 3, 4, 3, 1, 1, 6, 6, 22, 3, 3, 9, 2, 2, 2, 2, 1, 8, 2, 10, 5, 3, 4, 2, 3, 1, 1, 6, 1, 3, 2, 1, 28, 8, 7, 2, 1, 2, 16, 1, 1, 3, 1, 3, 5, 4, 1, 2, 2, 2, 1, 4, 6, 3, 2, 4, 4, 2, 6, 2, 1, 1, 1, 8, 1, 5, 2, 3, 4, 3, 2, 8, 4, 5, 4, 9, 1, 1, 10, 1, 9, 13, 2, 3, 2, 1, 1, 4, 3, 7, 3, 3, 12, 6, 1, 1, 9, 3, 3, 7, 6, 4, 6, 2, 4, 2, 2, 2, 1, 1, 2, 6, 2, 13, 18, 10, 3, 5, 6, 2, 5, 1, 1, 4, 1, 1, 2, 1, 1, 7, 2, 5, 1, 1, 4, 10, 3, 2, 6, 13, 2, 14, 13, 7, 3, 2, 3, 6, 2, 3, 2, 1, 1, 1, 6, 4, 2, 3, 10, 2, 4, 1, 9, 1, 1, 1, 3, 2, 3, 3, 1, 3, 2, 1, 1, 1, 1, 7, 1, 2, 3, 4, 2, 1, 3, 2, 4, 5, 5, 4, 9, 1, 1, 8, 1, 2, 3, 1, 8, 10, 1, 1, 12, 26, 1, 2, 2, 1, 1, 2, 5, 1, 4, 2, 2, 1, 6, 7, 2, 4, 1, 2, 1, 1, 4, 3, 3, 1, 5, 5, 3, 2, 3, 9, 17, 5, 2, 3, 1, 5, 3, 3, 2, 1, 2, 2, 6, 2, 4, 12, 5, 1, 2, 7, 1, 2, 11, 10, 3, 3, 5, 3, 4, 2, 3, 16, 2, 2, 5, 1, 1, 1, 2, 2, 3, 3, 4, 5, 1, 1, 1, 1, 1, 1, 1, 4, 2, 1, 1, 3, 2, 2, 4, 4, 3, 6, 1, 6, 2, 2, 1, 5, 5, 3, 3, 1, 1, 8, 2, 2, 2, 5, 2, 1, 1, 2, 4, 11, 9, 1, 6, 3, 5, 1, 1, 2, 2, 2, 10, 4, 1, 6, 1, 11, 5, 2, 1, 1, 2, 1, 2, 3, 1, 2, 4, 1, 1, 2, 1, 2, 10, 10, 1, 1, 3, 10, 4, 1, 1, 1, 1, 1, 3, 3, 2, 5, 2, 2, 5, 1, 3, 4, 2, 3, 10, 2, 3, 1, 1, 1, 7, 1, 3, 8, 1, 1, 4, 1, 1, 3, 1, 1, 4, 1, 3, 1, 2, 1, 4, 1, 10, 1, 2, 6, 1, 1, 3, 1, 5, 2, 1, 2, 1, 7, 1, 6, 1, 1, 5, 4, 1, 1, 3, 7, 2, 2, 3, 1, 2, 2, 1, 1, 2, 7, 1, 1, 1, 8, 3, 2, 1, 5, 2, 6, 4, 5, 5, 2, 1, 1, 2, 2, 6, 42, 1, 2, 1, 5, 3, 1, 7, 10, 1, 1, 1, 2, 1, 6, 2, 2, 1, 1, 1, 1, 1, 3, 14, 1, 2, 1, 1, 1, 1, 1, 2, 1, 1, 1, 2, 2, 1, 3, 2, 1, 4, 3, 2, 2, 3, 4, 5, 2, 5, 1, 2, 14, 1, 1, 3, 2, 1, 4, 1, 2, 1, 1, 9, 1, 2, 1, 1, 1, 1, 1, 1, 1, 11, 6, 1, 11, 5, 2, 3, 2, 1, 1, 10, 1, 6, 1, 1, 1, 15, 1, 1, 3, 8, 4, 9, 1, 1, 2, 1, 2, 3, 4, 19, 1, 4, 3, 1, 2, 13, 2, 2, 12, 7, 1, 4, 11, 1, 3, 3, 1, 11, 1, 4, 1, 2, 2, 9, 2, 2, 2, 1, 1, 1, 14, 1, 7, 1, 1, 4, 1, 1, 1, 2, 1, 2, 5, 1, 1, 3, 1, 1, 1, 2, 2, 2, 1, 5, 1, 4, 5, 6, 5, 2, 6, 4, 2, 2, 5, 2, 1, 2, 3, 2, 11, 4, 2, 6, 4, 1, 5, 1, 1, 2, 1, 2, 1, 1, 2, 1, 2, 2, 1, 2, 2, 2, 1, 1, 1, 1, 18, 1, 3, 2, 1, 1, 1, 3, 4, 1, 1, 1, 1, 1, 4, 6, 1, 4, 2, 3, 3, 2, 4, 2, 2, 2, 1, 1, 1, 1, 1, 1, 1, 2, 4, 1, 1, 2, 1, 2, 1, 2, 1, 1, 6, 2, 5, 2, 1, 2, 5, 1, 5, 3, 1, 1, 1, 1, 2, 2, 1, 2, 1, 1, 4, 2, 9, 3, 5, 1, 2, 3, 2, 3, 3, 2, 8, 2, 3, 6, 2, 1, 4, 1, 2, 5, 2, 2, 3, 1, 1, 3, 6, 4, 2, 2, 1, 2, 1, 2, 3, 1, 1, 1, 1, 1, 14, 7, 2, 2, 2, 1, 3, 4, 1, 1, 4, 4, 5, 1, 1, 7, 3, 2, 3, 19, 1, 1, 2, 1, 1, 2, 1, 1, 1, 3, 12, 2, 1, 3, 1, 2, 1, 9, 2, 1, 1, 5, 2, 1, 1, 5, 2, 1, 7, 2, 5, 1, 1, 6, 7, 3, 1, 1, 1, 2, 2, 3, 7, 5, 3, 1, 1, 3, 2, 5, 1, 1, 1, 1, 1, 1, 1, 1, 3, 5, 2, 1, 4, 2, 8, 1, 16, 1, 2, 1, 5, 10, 4, 4, 2, 1, 1, 5, 1, 2, 1, 3, 1, 3, 1, 1, 6, 2, 2, 1, 2, 2, 1, 2, 2, 2, 1, 6, 1, 7, 1, 1, 4, 1, 3, 2, 4, 1, 1, 3, 3, 7, 1, 2, 4, 1, 3, 1, 2, 1, 3, 5, 2, 1, 1, 1, 1, 12, 1, 1, 2, 6, 2, 1, 2, 1, 1, 1, 1, 1, 2, 1, 4, 2, 1, 3, 3, 6, 7, 2, 1, 1, 1, 1, 1, 2, 1, 3, 1, 1, 1, 1, 2, 2, 1, 1, 1, 8, 5, 1, 1, 2, 1, 4, 1, 1, 1, 1, 4, 1, 2, 1, 2, 2, 1, 1, 2, 3, 1, 1, 5, 3, 4, 2, 2, 2, 1, 2, 8, 3, 8, 1, 1, 5, 1, 1, 2, 6, 1, 1, 1, 1, 2, 1, 1, 1, 1, 4, 1, 1, 4, 1, 1, 2, 1, 7, 1, 1, 1, 2, 1, 3, 1, 2, 2, 1, 1, 1, 2, 3, 1, 3, 1, 1, 1, 8, 4, 2, 1, 1, 1, 5, 1, 1, 2, 5, 4, 4, 2, 5, 2, 3, 3, 1, 2, 1, 1, 5, 1, 2, 1, 4, 4, 7, 6, 4, 1, 1, 1, 2, 1, 2, 1, 3, 6, 2, 2, 1, 3, 1, 1, 4, 2, 4, 3, 1, 3, 3, 1, 2, 1, 1, 2, 3, 5, 1, 1, 1, 1, 2, 1, 2, 2, 4, 1, 1, 1, 1, 1, 1, 2, 2, 1, 1, 2, 1, 2, 2, 1, 21, 1, 1, 2, 1, 1, 1, 2, 5, 4, 1, 2, 2, 4, 1, 1, 5, 7, 1, 5, 2, 1, 6, 1, 1, 2, 2, 3, 3, 4, 1, 1, 6, 7, 6, 2, 1, 5, 2, 1, 1, 1, 1, 2, 2, 14, 2, 3, 9, 1, 1, 2, 4, 2, 4, 1, 2, 6, 4, 1, 2, 1, 1, 3, 3, 1, 4, 4, 6, 1, 2, 3, 2, 4, 2, 5, 1, 11, 1, 3, 2, 2, 1, 2, 1, 2, 1, 1, 1, 1, 4, 2, 3, 1, 2, 1, 5, 3, 1, 4, 1, 3, 3, 2, 1, 7, 6, 2, 2, 1, 1, 1, 4, 1, 2, 1, 2, 1, 5, 5, 1, 3, 2, 2, 3, 2, 1, 2, 6, 4, 2, 3, 5, 2, 1, 10, 1, 2, 3, 1, 3, 2, 1, 1, 4, 2, 2, 4, 2, 7, 1, 1, 5, 1, 2, 4, 1, 2, 1, 1, 3, 1, 1, 3, 1, 2, 1, 1, 2, 31, 2, 5, 1, 5, 4, 2, 3, 2, 2, 1, 2, 3, 1, 1, 2, 1, 1, 1, 1, 5, 3, 4, 1, 3, 5, 4, 4, 2, 2, 1, 1, 10, 1, 7, 2, 1, 1, 4, 2, 1, 1, 1, 2, 1, 5, 1, 1, 4, 1, 12, 2, 4, 4, 5, 2, 1, 1, 1, 1, 2, 1, 4, 2, 5, 1, 2, 1, 1, 1, 1, 3, 3, 2, 1, 3, 1, 2, 2, 4, 1, 3, 2, 1, 2, 1, 1, 3, 4, 2, 2, 1, 1, 1, 8, 1, 1, 2, 1, 2, 4, 4, 2, 1, 2, 1, 2, 3, 2, 1, 2, 1, 3, 4, 1, 1, 2, 1, 1, 18, 1, 2, 4, 2, 1, 1, 4, 3, 6, 2, 1, 2, 4, 6, 1, 1, 1, 2, 1, 3, 1, 2, 2, 1, 1, 2, 1, 3, 5, 1, 3, 1, 1, 1, 1, 2, 1, 3, 5, 1, 2, 2, 1, 1, 2, 1, 1, 3, 12, 1, 1, 3, 1, 5, 5, 3, 1, 5, 1, 1, 2, 1, 1, 1, 1, 16, 2, 1, 1, 2, 1, 1, 1, 1, 1, 3, 10, 1, 1, 2, 1, 5, 1, 3, 1, 1, 3, 1, 48, 3, 1, 1, 3, 1, 1, 3, 1, 1, 2, 2, 2, 1, 1, 2, 8, 1, 1, 1, 2, 2, 1, 5, 6, 2, 3, 4, 1, 1, 2, 4, 1, 1, 2, 1, 1, 4, 1, 1, 1, 1, 3, 1, 4, 1, 4, 1, 1, 1, 5, 1, 1, 2, 1, 3, 1, 2, 5, 1, 21, 2, 1, 1, 1, 4, 1, 2, 2, 1, 1, 4, 1, 3, 1, 1, 1, 1, 1, 1, 2, 3, 1, 1, 1, 1, 2, 3, 3, 2, 3, 2, 1, 3, 3, 3, 1, 1, 4, 2, 1, 1, 2, 1, 1, 1, 4, 1, 1, 2, 1, 1, 2, 2, 1, 1, 1, 5, 1, 1, 1, 1, 1, 2, 1, 1, 1, 4, 1, 2, 5, 3, 4, 1, 1, 4, 1, 4, 1, 2, 1, 2, 4, 1, 2, 2, 1, 1, 1, 1, 2, 5, 5, 1, 2, 2, 1, 4, 1, 1, 1, 4, 1, 2, 2, 2, 1, 1, 1, 2, 2, 1, 1, 1, 1, 2, 1, 4, 1, 2, 3, 4, 1, 1, 1, 1, 1, 2, 1, 1, 8, 3, 1, 1, 2, 2, 1, 3, 1, 1, 1, 1, 4, 1, 1, 1, 2, 2, 1, 3, 2, 3, 5, 1, 3, 2, 5, 2, 1, 1, 4, 1, 1, 1, 1, 1, 2, 1, 1, 2, 1, 3, 2, 1, 2, 2, 1, 1, 7, 2, 5, 1, 1, 2, 1, 1, 2, 1, 1, 1, 1, 2, 2, 3, 1, 3, 2, 2, 1, 1, 1, 3, 1, 1, 1, 5, 1, 1, 2, 1, 3, 3, 1, 2, 3, 1, 4, 1, 3, 1, 5, 8, 1, 1, 3, 1, 1, 1, 2, 1, 1, 1, 3, 7, 3, 1, 2, 4, 5, 1, 2, 2, 1, 1, 1, 3, 2, 2, 2, 6, 2, 2, 3, 1, 1, 1, 1, 1, 1, 1, 1, 2, 3, 2, 4, 2, 2, 2, 1, 2, 4, 4, 1, 1, 2, 4, 3, 4, 1, 1, 1, 1, 2, 2, 2, 2, 3, 2, 1, 1, 1, 2, 2, 1, 3, 1, 1, 2, 2, 2, 1, 6, 1, 1, 1, 2, 1, 3, 1, 1, 1, 2, 5, 2, 1, 1, 1, 1, 4, 1, 1, 2, 2, 5, 1, 1, 1, 1, 3, 2, 1, 1, 1, 2, 2, 1, 2, 1, 3, 1, 4, 1, 3, 3, 2, 1, 2, 1, 2, 1, 1, 1, 1, 1, 2, 1, 3, 2, 1, 2, 1, 1, 1, 3, 1, 2, 1, 1, 1, 2, 4, 5, 6, 2, 1, 1, 2, 3, 2, 3, 2, 1, 1, 1, 1, 1, 1, 3, 1, 1, 1, 1, 1, 1, 2, 1, 1, 2, 1, 1, 1, 2, 2, 1, 1, 3, 1, 1, 1, 3, 2, 2, 1, 1, 3, 2, 1, 1, 1, 1, 1, 3, 2, 10, 1, 1, 2, 3, 2, 3, 2, 1, 1, 1, 1, 1, 1, 1, 3, 1, 2, 2, 1, 1, 1, 1, 1, 1, 2, 3, 1, 10, 1, 2, 1, 1, 2, 1, 1, 2, 1, 1, 1, 1, 1, 1, 1, 1, 2, 2, 1, 1, 2, 2, 5, 1, 1, 3, 1, 1, 2, 1, 1, 1, 4, 2, 2, 2, 1, 2, 2, 2, 1, 3, 1, 1, 3, 2, 2, 1, 1, 4, 1, 2, 1, 2, 1, 1, 3, 2, 1, 2, 2, 1, 1, 1, 1, 1, 3, 1, 1, 4, 2, 1, 1, 1, 1, 1, 1, 1, 1, 1, 5, 1, 1, 1, 4, 1, 3, 1, 1, 4, 1, 3, 1, 1, 2, 2, 1, 1, 1, 1, 3, 1, 1, 2, 1, 1, 1, 1, 1, 1, 2, 1, 2, 2, 1, 1, 1, 1, 1, 2, 9, 2, 4, 2, 2, 2, 4, 1, 5, 1, 1, 2, 1, 1, 1, 1, 1, 1, 1, 1, 2, 1, 2, 1, 3, 1, 1, 1, 1, 1, 2, 1, 1, 1, 1, 1, 1, 1, 1, 2, 3, 2, 1, 1, 1, 2, 4, 1, 3, 3, 1, 2, 2, 1, 1, 1, 1, 1, 2, 1, 1, 1, 1, 1, 1, 1, 1, 1, 1, 1, 1, 1, 1, 2, 1, 1, 2, 4, 1, 3, 2, 1, 1, 1, 2, 1, 1, 6, 1, 3, 2, 1, 7, 1, 1, 3, 5, 15, 3, 1, 1, 1, 1, 2, 1, 1, 2, 2, 2, 2, 1, 1, 1, 2, 3, 1, 1, 2, 1, 1, 1, 1, 2, 2, 1, 2, 1, 4, 1, 2, 1, 1, 1, 2, 2, 1, 1, 1, 2, 2, 1, 3, 1, 3, 2, 2, 1, 1, 4, 1, 1, 1, 2, 4, 1, 1, 6, 2, 2, 5, 1, 2, 1, 3, 1, 2, 1, 1, 1, 1, 1, 1, 1, 2, 1, 1, 1, 1, 1, 2, 1, 1, 6, 1, 1, 4, 1, 2, 2, 1, 1, 1, 1, 1, 2, 1, 1, 5, 1, 2, 2, 1, 1, 1, 1, 1, 2, 1, 1, 1, 3, 1, 1, 2, 2, 3, 1, 1, 1, 1, 1, 4, 1, 2, 1, 1, 1, 1, 1, 2, 1, 1, 1, 1, 1, 1, 1, 2, 1, 1, 1, 7, 2, 2, 2, 1, 1, 1, 1, 1, 1, 1, 1, 2, 2, 2, 3, 1, 3, 2, 1, 4, 1, 1, 2, 1, 1, 1, 1, 3, 4, 1, 3, 3, 1, 1, 1, 1, 1, 1, 1, 2, 1, 2, 1, 1, 1, 1, 1, 4, 2, 4, 1, 1, 1, 1, 2, 1, 1, 2, 3, 2, 1, 1, 2, 1, 3, 1, 2, 1, 1, 1, 1, 2, 1, 1, 4, 1, 1, 1, 1, 1, 3, 4, 1, 1, 2, 1, 3, 1, 1, 2, 2, 2, 1, 2, 2, 1, 1, 2, 1, 1, 1, 1, 1, 1, 1, 2, 2, 2, 2, 1, 1, 1, 1, 1, 1, 1, 1, 1, 1, 1, 1, 1, 2, 1, 1, 1, 1, 1, 3, 2, 2, 2, 1, 2, 1, 1, 1, 2, 1, 1, 1, 1, 1, 1, 2, 1, 1, 1, 1, 1, 1, 1, 2, 1, 3, 3, 1, 1, 2, 1, 1, 2, 2, 1, 1, 1, 2, 1, 1, 1, 1, 1, 1, 1, 4, 1, 1, 1, 1, 1, 2, 3, 1, 1, 1, 3, 1, 3, 2, 1, 3, 1, 3, 4, 1, 1, 3, 1, 1, 1, 1, 3, 1, 1, 1, 1, 1, 1, 3, 1, 1, 2, 2, 1, 1, 1, 1, 1, 1, 1, 1, 1, 1, 1, 1, 3, 1, 1, 1, 1, 1, 1, 1, 1, 1, 3, 1, 1, 1, 4, 2, 1, 2, 1, 1, 1, 1, 1, 2, 1, 1, 1, 1, 2, 1, 1, 1, 1, 1, 1, 1, 1, 2, 2, 1, 1, 1, 4, 1, 4, 1, 1, 2, 2, 1, 1, 1, 1, 2, 3, 1, 1, 1, 1, 1, 1, 2, 1, 1, 1, 1, 1, 1, 1, 1, 2, 3, 1, 1, 1, 1, 1, 3, 1, 2, 1, 2, 1, 1, 3, 1, 2, 1, 1, 1, 1, 1, 1, 1, 1, 2, 1, 1, 1, 1, 2, 1, 1, 2, 2, 1, 1, 1, 1, 1, 1, 1, 1, 1, 1, 1, 3, 2, 1, 1, 3, 1, 1, 1, 1, 1, 1, 1, 1, 3, 1, 1, 3, 1, 1, 1, 2, 1, 1, 1, 3, 2, 1, 2, 1, 2, 1, 1, 1, 1, 1, 1, 1, 1, 1, 1, 2, 1, 1, 1, 1, 1, 1, 1, 1, 3, 2, 1, 1, 1, 1, 2, 2, 1, 1, 2, 1, 1, 1, 1, 2, 1, 1, 1, 1, 1, 1, 1, 2, 1, 2, 1, 2, 2, 1, 1, 1, 1, 1, 1, 1, 3, 2, 1, 1, 1, 4, 1, 4, 1, 1, 2, 1, 1, 1, 2, 1, 2, 1, 1, 1, 2, 2, 1, 1, 1, 1, 1, 1, 1, 2, 1, 1, 1, 1, 1, 1, 9, 1, 1, 3, 1, 2, 2, 2, 1, 2, 1, 1, 2, 1, 1, 2, 1, 1, 1, 1, 1, 1, 2, 1, 2, 1, 1, 3, 1, 1, 1, 2, 1, 2, 1, 5, 1, 1, 1, 1, 1, 1, 1, 1, 1, 1, 1, 2, 1, 1, 2, 1, 1, 2, 1, 1, 1, 1, 1, 1, 1, 1, 1, 1, 1, 1, 1, 1, 2, 1, 1, 1, 1, 1, 1, 1, 1, 3, 2, 2, 1, 1, 2, 2, 1, 1, 2, 1, 3, 1, 1, 1, 1, 1, 1, 2, 1, 2, 2, 3, 3, 1, 1, 1, 1, 1, 1, 1, 2, 1, 1, 2, 1, 1, 1, 1, 1, 1, 1, 1, 1, 2, 2, 1, 1, 1, 1, 1, 2, 2, 2, 2, 1, 1, 1, 2, 1, 1, 1, 1, 1, 3, 1, 1, 1, 1, 1, 1, 1, 2, 2, 2, 1, 1, 1, 1, 2, 1, 1, 1, 1, 1, 1, 1, 1, 1, 2, 1, 1, 1, 1, 1, 3, 1, 2, 1, 1, 1, 1, 1, 1, 1, 1, 2, 1, 1, 1, 1, 1, 6, 2, 1, 1, 1, 2, 1, 1, 1, 1, 1, 1, 1, 1, 1, 1, 1, 1, 1, 1, 1, 1, 1, 1, 1, 1, 1, 1, 1, 2, 1, 1, 1, 1, 6, 2, 1, 9, 1, 1, 1, 1, 2, 3, 1, 1, 3, 1, 1, 1, 1, 2, 1, 1, 1, 1, 1, 2, 1, 1, 1, 1, 1, 1, 1, 1, 2, 1, 1, 1, 2, 1, 1, 1, 1, 1, 1, 1, 1, 2, 3, 1, 1, 1, 1, 1, 1, 1, 1, 1, 1, 1, 1, 1, 1, 1, 1, 1, 1, 1, 1, 2, 1, 1, 1, 1, 1, 1, 2, 1, 2, 1, 1, 1, 1, 1, 1, 1, 2, 2, 1, 1, 1, 1, 1, 1, 1, 1, 1, 1, 1, 1, 1, 1, 1, 1, 1, 1, 1, 1, 1, 1, 1, 2, 1, 1, 3, 1, 1, 1, 1, 1, 1, 1, 2, 1, 1, 1, 1, 1, 1, 1, 1, 1, 1, 1, 1, 2, 1, 1, 1, 1, 1, 1, 1, 1, 2, 1, 1, 2, 1, 1, 1, 1, 1, 1, 1, 1, 1, 1, 1, 1, 1, 1, 1, 1, 1, 1, 1, 1, 1, 1, 1, 1, 1, 1, 1, 1, 1, 1, 1, 2, 2, 1, 1, 1, 1, 1, 1, 2, 1, 2, 1, 1, 1, 1, 1, 1, 1, 1, 1, 1, 1, 1, 2, 3, 1, 1, 1, 1, 2, 1, 2, 1, 1, 1, 1, 1, 1, 1, 1, 1, 1, 1, 1, 1, 1, 1, 1, 1, 1, 1, 2, 1, 1, 1, 3, 1, 3, 1, 1, 1, 1, 1, 1, 1, 1, 1, 1, 1, 1, 1, 3, 1, 1, 2, 1, 1, 1, 1, 1, 1, 1, 1, 1, 1, 1, 1, 1, 1, 1, 1, 1, 3, 1, 2, 2, 1, 1, 1, 1, 1, 1, 1, 1, 1, 1, 1, 1, 1, 1, 1, 1, 1, 1, 1, 1, 1, 1, 2, 1, 1, 1, 1, 1, 1, 1, 1, 1, 1, 1, 1, 1, 1, 1, 1, 2, 1, 1, 1, 1, 1, 1, 1, 1, 1, 1, 1, 1, 1, 1, 1, 1, 1, 1, 1, 1, 1, 1, 1, 1, 1, 1, 1, 1, 1, 1, 1, 1, 1, 2, 1, 1, 1, 1, 1, 1, 1, 1, 1, 2, 1, 1, 1, 1, 1, 1, 1, 1, 1, 3, 1, 1, 1, 1, 1, 1, 1, 1, 1, 1, 1, 1, 1, 1, 1, 1, 1, 2, 1, 1, 1, 1, 1, 1, 1, 1, 1, 1, 1, 1, 1, 1, 1, 1, 1, 1, 1, 1, 1, 1, 1, 1, 1, 1, 1, 1, 1, 1, 1, 1, 1, 1, 1, 2, 1, 1, 1, 1, 1, 1, 1, 1, 1, 1, 1, 1, 1, 1, 1, 1, 1, 1, 1, 1, 1, 1, 1, 1, 1, 1, 1, 1, 1, 1, 1, 1, 1, 1, 1, 1, 1, 1, 1, 1, 1, 1, 1, 1, 1, 1, 1, 2, 1, 1, 1, 1, 1, 1, 1, 1, 1, 1])\n"
          ]
        }
      ]
    },
    {
      "cell_type": "code",
      "source": [
        "th = int(len(df)*0.001)\n",
        "print(th)"
      ],
      "metadata": {
        "colab": {
          "base_uri": "https://localhost:8080/"
        },
        "id": "nMg6Zim-J-H8",
        "outputId": "ee2bdf2a-464b-48b9-c4a0-80196f106bcf"
      },
      "execution_count": null,
      "outputs": [
        {
          "output_type": "stream",
          "name": "stdout",
          "text": [
            "101\n"
          ]
        }
      ]
    },
    {
      "cell_type": "code",
      "source": [
        "rare_tags = [tags for tags, value in tag_count.items() if value < th]"
      ],
      "metadata": {
        "id": "lTmxt4qFKW7g"
      },
      "execution_count": null,
      "outputs": []
    },
    {
      "cell_type": "code",
      "source": [
        "len(rare_tags)"
      ],
      "metadata": {
        "colab": {
          "base_uri": "https://localhost:8080/"
        },
        "id": "nRjoxMBeLA9S",
        "outputId": "b4c229f1-4641-46ab-e4cf-2b3d15bd8e38"
      },
      "execution_count": null,
      "outputs": [
        {
          "output_type": "execute_result",
          "data": {
            "text/plain": [
              "8454"
            ]
          },
          "metadata": {},
          "execution_count": 20
        }
      ]
    },
    {
      "cell_type": "code",
      "source": [
        "total_tags = list(tag_count.keys())"
      ],
      "metadata": {
        "id": "Bi8ev6sb_TC3"
      },
      "execution_count": null,
      "outputs": []
    },
    {
      "cell_type": "code",
      "source": [
        "print(type(total_tags), type(rare_tags))"
      ],
      "metadata": {
        "colab": {
          "base_uri": "https://localhost:8080/"
        },
        "id": "GDx9AKnOANGo",
        "outputId": "becac9f3-c9ae-4131-c601-4506804f3ad4"
      },
      "execution_count": null,
      "outputs": [
        {
          "output_type": "stream",
          "name": "stdout",
          "text": [
            "<class 'list'> <class 'list'>\n"
          ]
        }
      ]
    },
    {
      "cell_type": "code",
      "source": [
        "actual_tags = list(set(total_tags) - set(rare_tags))"
      ],
      "metadata": {
        "id": "dQcejOim_xaU"
      },
      "execution_count": null,
      "outputs": []
    },
    {
      "cell_type": "code",
      "source": [
        "len(actual_tags)"
      ],
      "metadata": {
        "colab": {
          "base_uri": "https://localhost:8080/"
        },
        "id": "dh9mOKl7AvvZ",
        "outputId": "5029117b-566e-4293-a68c-bb6be08315f5"
      },
      "execution_count": null,
      "outputs": [
        {
          "output_type": "execute_result",
          "data": {
            "text/plain": [
              "675"
            ]
          },
          "metadata": {},
          "execution_count": 24
        }
      ]
    },
    {
      "cell_type": "code",
      "source": [
        "print(sorted(actual_tags))"
      ],
      "metadata": {
        "colab": {
          "base_uri": "https://localhost:8080/"
        },
        "id": "7-4oaBG8BYA3",
        "outputId": "5e1da692-636b-46da-ad39-3e35349a94e0"
      },
      "execution_count": null,
      "outputs": [
        {
          "output_type": "stream",
          "name": "stdout",
          "text": [
            "['Ability', 'About', 'Accept', 'Achieve', 'Achievement', 'Act', 'Acting', 'Action', 'Advice', 'Afraid', 'Again', 'Age', 'Ahead', 'Aim', 'Alive', 'Alone', 'Always', 'Am', 'Amazing', 'Ambition', 'America', 'American', 'Anger', 'Angry', 'Anniversary', 'Any', 'Anything', 'Architecture', 'Army', 'Art', 'Artist', 'Attention', 'Attitude', 'Away', 'Back', 'Bad', 'Balance', 'Battle', 'Beautiful', 'Beauty', 'Because', 'Become', 'Been', 'Before', 'Beginning', 'Behavior', 'Being', 'Belief', 'Believe', 'Best', 'Better', 'Beyond', 'Bible', 'Big', 'Birth', 'Birthday', 'Black', 'Blessed', 'Blood', 'Body', 'Book', 'Born', 'Brain', 'Brainy', 'Brave', 'Bring', 'Brother', 'Build', 'Building', 'Business', 'Busy', 'Cannot', 'Car', 'Care', 'Career', 'Celebrate', 'Challenges', 'Chance', 'Change', 'Character', 'Child', 'Childhood', 'Children', 'Choice', 'Choices', 'Christmas', 'Church', 'Cinema', 'City', 'Cold', 'College', 'Come', 'Comedy', 'Commitment', 'Communication', 'Community', 'Company', 'Competition', 'Computers', 'Confidence', 'Conflict', 'Constitution', 'Control', 'Cooking', 'Cool', 'Country', 'Courage', 'Crazy', 'Create', 'Credit', 'Culture', 'Dad', 'Daily', 'Dance', 'Dangerous', 'Data', 'Dating', 'Day', 'Days', 'Dead', 'Death', 'Decision', 'Deep', 'Democracy', 'Design', 'Desire', 'Destiny', 'Development', 'Die', 'Diet', 'Difficult', 'Direction', 'Discipline', 'Doctor', 'Does', 'Dog', 'Doing', 'Done', 'Door', 'Doubt', 'Down', 'Drama', 'Dream', 'Dreams', 'Dress', 'Drive', 'Duty', 'Early', 'Earth', 'Easter', 'Easy', 'Eating', 'Economic', 'Education', 'Effort', 'Emotions', 'End', 'Enemies', 'Enemy', 'Energy', 'Enjoy', 'Enough', 'Environment', 'Environmental', 'Equality', 'Escape', 'Even', 'Events', 'Every', 'Every Day', 'Everyone', 'Everything', 'Evil', 'Exist', 'Experience', 'Eyes', 'Face', 'Facts', 'Failure', 'Faith', 'Fall', 'Fame', 'Family', 'Famous', 'Fans', 'Far', 'Fashion', 'Fast', 'Father', 'Fear', 'Feel', 'Feelings', 'Feet', 'Fiction', 'Fight', 'Fighting', 'Film', 'Finance', 'Find', 'Fire', 'First', 'Fish', 'Fitness', 'Fly', 'Focus', 'Follow', 'Food', 'Fool', 'Football', 'Force', 'Forever', 'Forget', 'Forgiveness', 'Foundation', 'Free', 'Freedom', 'Friend', 'Friends', 'Friendship', 'Fruit', 'Fun', 'Funny', 'Future', 'Game', 'Gardening', 'Gay', 'Gender', 'General', 'Generation', 'Genius', 'Get', 'Gift', 'Giving', 'Go', 'Goals', 'God', 'Going', 'Good', 'Government', 'Grace', 'Graduation', 'Gratitude', 'Great', 'Greatness', 'Green', 'Grow', 'Growing Up', 'Growth', 'Guitar', 'Habit', 'Had', 'Half', 'Hands', 'Happens', 'Happiness', 'Happy', 'Hard', 'Hard Work', 'Hate', 'He', 'Head', 'Health', 'Heart', 'Heaven', 'Hell', 'Help', 'Hero', 'High', 'History', 'Holiday', 'Home', 'Honesty', 'Honor', 'Hope', 'How', 'Human', 'Humanity', 'Humble', 'Humility', 'Humor', 'Hurt', 'I Am', 'I Can', 'I Think', 'Ideas', 'Ignorance', 'Imagination', 'Impact', 'Important', 'Impossible', 'Improve', 'Independence', 'Influence', 'Information', 'Inspirational', 'Integrity', 'Intellectual', 'Intelligence', 'Interest', 'Interesting', 'Internet', 'Israel', 'Jealousy', 'Job', 'Journey', 'Joy', 'Just', 'Justice', 'Keep', 'Key', 'Kind', 'Kindness', 'King', 'Know', 'Knowing', 'Knowledge', 'Language', 'Last', 'Late', 'Laugh', 'Laughter', 'Law', 'Lawyer', 'Leadership', 'Learn', 'Learning', 'Legal', 'Liberty', 'Lie', 'Life', 'Lifestyle', 'Light', 'Like', 'Limits', 'Line', 'Listening', 'Literature', 'Little', 'Live', 'Living', 'Long', 'Look', 'Looking', 'Lose', 'Losing', 'Lost', 'Lot', 'Love', 'Love Is', 'Loved', 'Loyalty', 'Luck', 'Made', 'Magic', 'Make', 'Man', 'Many', 'Marriage', 'Matter', 'May', 'Me', 'Mean', 'Meaning', 'Media', 'Medical', 'Meet', 'Memories', 'Memory', 'Men', 'Mind', 'Minds', 'Mirror', 'Mistakes', 'Mom', 'Moment', 'Moments', 'Money', 'Moon', 'More', 'Morning', 'Most', 'Mother', 'Motivational', 'Movies', 'Moving', 'Moving On', 'Much', 'Music', 'Must', 'My Life', 'Myself', 'Name', 'Nation', 'Nature', 'Need', 'Needs', 'Negative', 'Never', 'New', 'News', 'Next', 'Nice', 'Night', 'Nobody', 'Nothing', 'Now', 'Often', 'Old', 'Old Age', 'Only', 'Opinion', 'Opportunity', 'Order', 'Other', 'Others', 'Our', 'Out', 'Over', 'Own', 'Pain', 'Painting', 'Parenting', 'Parents', 'Passion', 'Past', 'Path', 'Patience', 'Patriotism', 'Pay', 'Peace', 'People', 'Person', 'Personality', 'Perspective', 'Pet', 'Picture', 'Place', 'Play', 'Poet', 'Poetry', 'Point', 'Political', 'Politics', 'Poor', 'Positive', 'Possible', 'Potential', 'Poverty', 'Power', 'Powerful', 'Practice', 'Prayer', 'Present', 'Pressure', 'Pretty', 'Pride', 'Problems', 'Process', 'Progress', 'Purpose', 'Quality', 'Question', 'Questions', 'Quiet', 'Quite', 'Race', 'Rather', 'Ready', 'Real', 'Reality', 'Realize', 'Really', 'Reason', 'Regret', 'Relationship', 'Religion', 'Remember', 'Research', 'Respect', 'Responsibility', 'Rest', 'Result', 'Revolution', 'Rich', 'Right', 'Rights', 'Rise', 'Risks', 'Road', 'Romantic', 'Room', 'Rules', 'Sacrifice', 'Sad', 'Safe', 'Same', 'Say', 'School', 'Science', 'Search', 'Security', 'See', 'Seeing', 'Sense', 'Sense Of Humor', 'Serious', 'Service', 'Sex', 'Shadow', 'She', 'Should', 'Silence', 'Simple', 'Simply', 'Sin', 'Singing', 'Situation', 'Skill', 'Sky', 'Sleep', 'Smart', 'Smile', 'Social', 'Social Media', 'Society', 'Someone', 'Something', 'Sometimes', 'Son', 'Song', 'Soul', 'Sound', 'Space', 'Speak', 'Special', 'Spirit', 'Spiritual', 'Sports', 'Stage', 'Stand', 'Stars', 'Start', 'Stay', 'Step', 'Still', 'Stop', 'Story', 'Strange', 'Street', 'Strength', 'Strong', 'Struggle', 'Stupid', 'Style', 'Success', 'Success Is', 'Suffering', 'Sun', 'Support', 'Survive', 'Sweet', 'Sympathy', 'System', 'Table', 'Talent', 'Talk', 'Talking', 'Teacher', 'Team', 'Tears', 'Technology', 'Teen', 'Television', 'Than', 'Thank God', 'Thankful', 'Thanksgiving', 'Them', 'Thing', 'Things', 'Think', 'Thinking', 'Those', 'Thoughts', 'Three', 'Through', 'Time', 'Tired', 'Today', 'Together', 'Tomorrow', 'Too', 'Too Much', 'Top', 'Tough', 'Tradition', 'Train', 'Training', 'Travel', 'Tree', 'True', 'Trust', 'Truth', 'Truth Is', 'Try', 'Trying', 'Two', 'Understand', 'Understanding', 'Unique', 'Universe', 'Up', 'Us', 'Use', 'Used', \"Valentine's Day\", 'Value', 'Values', 'Very', 'Victory', 'View', 'Violence', 'Vision', 'Voice', 'Waiting', 'Wake Up', 'Walk', 'Want', 'Wants', 'War', 'Waste', 'Water', 'Way', 'Weakness', 'Wealth', 'Wedding', 'Weird', 'Well', 'Whatever', 'Where', 'Which', 'White', 'Who', 'Why', 'Wife', 'Will', 'Wind', 'Winning', 'Wisdom', 'Wise', 'Wish', 'Within', 'Without', 'Woman', 'Women', 'Wonder', 'Wonderful', 'Words', 'Work', 'World', 'Worry', 'Worst', 'Would', 'Writing', 'Wrong', 'Year', 'Years', 'Yes', 'You', 'Young', 'Your', 'Your Dreams', 'Yourself', 'Youth', \"don't Care\"]\n"
          ]
        }
      ]
    },
    {
      "cell_type": "code",
      "source": [
        "tags_list = df.Tags.to_list()\n",
        "revised_tag_list = []\n",
        "indices_to_drop = []\n",
        "\n",
        "for idx, tags in enumerate(tags_list):\n",
        "  tag_list = eval(tags)\n",
        "  revised_tags = []\n",
        "\n",
        "  for tag in tag_list:\n",
        "    if tag in actual_tags:\n",
        "      revised_tags.append(tag)\n",
        "\n",
        "  if len(revised_tags) == 0:\n",
        "    indices_to_drop.append(idx)\n",
        "  else:\n",
        "    revised_tag_list.append(revised_tags)\n",
        "\n",
        "df = df.drop(indices_to_drop).reset_index(drop=True)\n",
        "df['revised_tags'] = revised_tag_list\n",
        "df.shape"
      ],
      "metadata": {
        "colab": {
          "base_uri": "https://localhost:8080/"
        },
        "id": "8mL8DIdkLDm2",
        "outputId": "66d693b9-6c5f-4099-ba6b-737493202314"
      },
      "execution_count": null,
      "outputs": [
        {
          "output_type": "execute_result",
          "data": {
            "text/plain": [
              "(101201, 6)"
            ]
          },
          "metadata": {},
          "execution_count": 26
        }
      ]
    },
    {
      "cell_type": "code",
      "source": [
        "df.tail()"
      ],
      "metadata": {
        "id": "Kz5Tky7xNC8b",
        "colab": {
          "base_uri": "https://localhost:8080/",
          "height": 762
        },
        "outputId": "95c2f983-6b85-4acf-dfbd-cb526952fddc"
      },
      "execution_count": null,
      "outputs": [
        {
          "output_type": "execute_result",
          "data": {
            "text/plain": [
              "                                                                                                                                           Quote  \\\n",
              "101196  A manager is not a person who can do the work better than his men; he is a person who can get his men to do the work better than he can.   \n",
              "101197                                    The sweat of hard work is not to be displayed. It is much more graceful to appear favored by the gods.   \n",
              "101198         Identify your niche and dominate it. And when I say dominate, I just mean work harder than anyone else could possibly work at it.   \n",
              "101199                      Loyal and efficient work in a great cause, even though it may not be immediately recognized, ultimately bears fruit.   \n",
              "101200                                          Fabrics such as raw silk, velvet, shimmer, satin and georgette work well for the wedding season.   \n",
              "\n",
              "                      Author Category  \\\n",
              "101196    Frederick W. Smith     Work   \n",
              "101197  Maxine Hong Kingston     Work   \n",
              "101198           Nate Parker     Work   \n",
              "101199      Jawaharlal Nehru     Work   \n",
              "101200          Masaba Gupta     Work   \n",
              "\n",
              "                                                                              Url  \\\n",
              "101196     https://www.brainyquote.com/quotes/frederick_w_smith_201583?src=t_work   \n",
              "101197  https://www.brainyquote.com/quotes/maxine_hong_kingston_204858?src=t_work   \n",
              "101198           https://www.brainyquote.com/quotes/nate_parker_538454?src=t_work   \n",
              "101199      https://www.brainyquote.com/quotes/jawaharlal_nehru_390491?src=t_work   \n",
              "101200         https://www.brainyquote.com/quotes/masaba_gupta_1125086?src=t_work   \n",
              "\n",
              "                                                    Tags  \\\n",
              "101196        ['Work', 'Men', 'Better', 'Person', 'Who']   \n",
              "101197    ['Work', 'Hard Work', 'Hard', 'Sweat', 'More']   \n",
              "101198     ['Work', 'Dominate', 'Niche', 'Mean', 'Just']   \n",
              "101199       ['Work', 'Great', 'Fruit', 'Even', 'Cause']   \n",
              "101200  ['Work', 'Wedding', 'Fabrics', 'Velvet', 'Well']   \n",
              "\n",
              "                            revised_tags  \n",
              "101196  [Work, Men, Better, Person, Who]  \n",
              "101197     [Work, Hard Work, Hard, More]  \n",
              "101198                [Work, Mean, Just]  \n",
              "101199        [Work, Great, Fruit, Even]  \n",
              "101200             [Work, Wedding, Well]  "
            ],
            "text/html": [
              "\n",
              "  <div id=\"df-cb0f48b5-36ac-403c-8824-021e0d45cb9e\" class=\"colab-df-container\">\n",
              "    <div>\n",
              "<style scoped>\n",
              "    .dataframe tbody tr th:only-of-type {\n",
              "        vertical-align: middle;\n",
              "    }\n",
              "\n",
              "    .dataframe tbody tr th {\n",
              "        vertical-align: top;\n",
              "    }\n",
              "\n",
              "    .dataframe thead th {\n",
              "        text-align: right;\n",
              "    }\n",
              "</style>\n",
              "<table border=\"1\" class=\"dataframe\">\n",
              "  <thead>\n",
              "    <tr style=\"text-align: right;\">\n",
              "      <th></th>\n",
              "      <th>Quote</th>\n",
              "      <th>Author</th>\n",
              "      <th>Category</th>\n",
              "      <th>Url</th>\n",
              "      <th>Tags</th>\n",
              "      <th>revised_tags</th>\n",
              "    </tr>\n",
              "  </thead>\n",
              "  <tbody>\n",
              "    <tr>\n",
              "      <th>101196</th>\n",
              "      <td>A manager is not a person who can do the work better than his men; he is a person who can get his men to do the work better than he can.</td>\n",
              "      <td>Frederick W. Smith</td>\n",
              "      <td>Work</td>\n",
              "      <td>https://www.brainyquote.com/quotes/frederick_w_smith_201583?src=t_work</td>\n",
              "      <td>['Work', 'Men', 'Better', 'Person', 'Who']</td>\n",
              "      <td>[Work, Men, Better, Person, Who]</td>\n",
              "    </tr>\n",
              "    <tr>\n",
              "      <th>101197</th>\n",
              "      <td>The sweat of hard work is not to be displayed. It is much more graceful to appear favored by the gods.</td>\n",
              "      <td>Maxine Hong Kingston</td>\n",
              "      <td>Work</td>\n",
              "      <td>https://www.brainyquote.com/quotes/maxine_hong_kingston_204858?src=t_work</td>\n",
              "      <td>['Work', 'Hard Work', 'Hard', 'Sweat', 'More']</td>\n",
              "      <td>[Work, Hard Work, Hard, More]</td>\n",
              "    </tr>\n",
              "    <tr>\n",
              "      <th>101198</th>\n",
              "      <td>Identify your niche and dominate it. And when I say dominate, I just mean work harder than anyone else could possibly work at it.</td>\n",
              "      <td>Nate Parker</td>\n",
              "      <td>Work</td>\n",
              "      <td>https://www.brainyquote.com/quotes/nate_parker_538454?src=t_work</td>\n",
              "      <td>['Work', 'Dominate', 'Niche', 'Mean', 'Just']</td>\n",
              "      <td>[Work, Mean, Just]</td>\n",
              "    </tr>\n",
              "    <tr>\n",
              "      <th>101199</th>\n",
              "      <td>Loyal and efficient work in a great cause, even though it may not be immediately recognized, ultimately bears fruit.</td>\n",
              "      <td>Jawaharlal Nehru</td>\n",
              "      <td>Work</td>\n",
              "      <td>https://www.brainyquote.com/quotes/jawaharlal_nehru_390491?src=t_work</td>\n",
              "      <td>['Work', 'Great', 'Fruit', 'Even', 'Cause']</td>\n",
              "      <td>[Work, Great, Fruit, Even]</td>\n",
              "    </tr>\n",
              "    <tr>\n",
              "      <th>101200</th>\n",
              "      <td>Fabrics such as raw silk, velvet, shimmer, satin and georgette work well for the wedding season.</td>\n",
              "      <td>Masaba Gupta</td>\n",
              "      <td>Work</td>\n",
              "      <td>https://www.brainyquote.com/quotes/masaba_gupta_1125086?src=t_work</td>\n",
              "      <td>['Work', 'Wedding', 'Fabrics', 'Velvet', 'Well']</td>\n",
              "      <td>[Work, Wedding, Well]</td>\n",
              "    </tr>\n",
              "  </tbody>\n",
              "</table>\n",
              "</div>\n",
              "    <div class=\"colab-df-buttons\">\n",
              "\n",
              "  <div class=\"colab-df-container\">\n",
              "    <button class=\"colab-df-convert\" onclick=\"convertToInteractive('df-cb0f48b5-36ac-403c-8824-021e0d45cb9e')\"\n",
              "            title=\"Convert this dataframe to an interactive table.\"\n",
              "            style=\"display:none;\">\n",
              "\n",
              "  <svg xmlns=\"http://www.w3.org/2000/svg\" height=\"24px\" viewBox=\"0 -960 960 960\">\n",
              "    <path d=\"M120-120v-720h720v720H120Zm60-500h600v-160H180v160Zm220 220h160v-160H400v160Zm0 220h160v-160H400v160ZM180-400h160v-160H180v160Zm440 0h160v-160H620v160ZM180-180h160v-160H180v160Zm440 0h160v-160H620v160Z\"/>\n",
              "  </svg>\n",
              "    </button>\n",
              "\n",
              "  <style>\n",
              "    .colab-df-container {\n",
              "      display:flex;\n",
              "      gap: 12px;\n",
              "    }\n",
              "\n",
              "    .colab-df-convert {\n",
              "      background-color: #E8F0FE;\n",
              "      border: none;\n",
              "      border-radius: 50%;\n",
              "      cursor: pointer;\n",
              "      display: none;\n",
              "      fill: #1967D2;\n",
              "      height: 32px;\n",
              "      padding: 0 0 0 0;\n",
              "      width: 32px;\n",
              "    }\n",
              "\n",
              "    .colab-df-convert:hover {\n",
              "      background-color: #E2EBFA;\n",
              "      box-shadow: 0px 1px 2px rgba(60, 64, 67, 0.3), 0px 1px 3px 1px rgba(60, 64, 67, 0.15);\n",
              "      fill: #174EA6;\n",
              "    }\n",
              "\n",
              "    .colab-df-buttons div {\n",
              "      margin-bottom: 4px;\n",
              "    }\n",
              "\n",
              "    [theme=dark] .colab-df-convert {\n",
              "      background-color: #3B4455;\n",
              "      fill: #D2E3FC;\n",
              "    }\n",
              "\n",
              "    [theme=dark] .colab-df-convert:hover {\n",
              "      background-color: #434B5C;\n",
              "      box-shadow: 0px 1px 3px 1px rgba(0, 0, 0, 0.15);\n",
              "      filter: drop-shadow(0px 1px 2px rgba(0, 0, 0, 0.3));\n",
              "      fill: #FFFFFF;\n",
              "    }\n",
              "  </style>\n",
              "\n",
              "    <script>\n",
              "      const buttonEl =\n",
              "        document.querySelector('#df-cb0f48b5-36ac-403c-8824-021e0d45cb9e button.colab-df-convert');\n",
              "      buttonEl.style.display =\n",
              "        google.colab.kernel.accessAllowed ? 'block' : 'none';\n",
              "\n",
              "      async function convertToInteractive(key) {\n",
              "        const element = document.querySelector('#df-cb0f48b5-36ac-403c-8824-021e0d45cb9e');\n",
              "        const dataTable =\n",
              "          await google.colab.kernel.invokeFunction('convertToInteractive',\n",
              "                                                    [key], {});\n",
              "        if (!dataTable) return;\n",
              "\n",
              "        const docLinkHtml = 'Like what you see? Visit the ' +\n",
              "          '<a target=\"_blank\" href=https://colab.research.google.com/notebooks/data_table.ipynb>data table notebook</a>'\n",
              "          + ' to learn more about interactive tables.';\n",
              "        element.innerHTML = '';\n",
              "        dataTable['output_type'] = 'display_data';\n",
              "        await google.colab.output.renderOutput(dataTable, element);\n",
              "        const docLink = document.createElement('div');\n",
              "        docLink.innerHTML = docLinkHtml;\n",
              "        element.appendChild(docLink);\n",
              "      }\n",
              "    </script>\n",
              "  </div>\n",
              "\n",
              "\n",
              "<div id=\"df-d8a3cbdc-84bd-4325-a1a5-c9956663d909\">\n",
              "  <button class=\"colab-df-quickchart\" onclick=\"quickchart('df-d8a3cbdc-84bd-4325-a1a5-c9956663d909')\"\n",
              "            title=\"Suggest charts\"\n",
              "            style=\"display:none;\">\n",
              "\n",
              "<svg xmlns=\"http://www.w3.org/2000/svg\" height=\"24px\"viewBox=\"0 0 24 24\"\n",
              "     width=\"24px\">\n",
              "    <g>\n",
              "        <path d=\"M19 3H5c-1.1 0-2 .9-2 2v14c0 1.1.9 2 2 2h14c1.1 0 2-.9 2-2V5c0-1.1-.9-2-2-2zM9 17H7v-7h2v7zm4 0h-2V7h2v10zm4 0h-2v-4h2v4z\"/>\n",
              "    </g>\n",
              "</svg>\n",
              "  </button>\n",
              "\n",
              "<style>\n",
              "  .colab-df-quickchart {\n",
              "      --bg-color: #E8F0FE;\n",
              "      --fill-color: #1967D2;\n",
              "      --hover-bg-color: #E2EBFA;\n",
              "      --hover-fill-color: #174EA6;\n",
              "      --disabled-fill-color: #AAA;\n",
              "      --disabled-bg-color: #DDD;\n",
              "  }\n",
              "\n",
              "  [theme=dark] .colab-df-quickchart {\n",
              "      --bg-color: #3B4455;\n",
              "      --fill-color: #D2E3FC;\n",
              "      --hover-bg-color: #434B5C;\n",
              "      --hover-fill-color: #FFFFFF;\n",
              "      --disabled-bg-color: #3B4455;\n",
              "      --disabled-fill-color: #666;\n",
              "  }\n",
              "\n",
              "  .colab-df-quickchart {\n",
              "    background-color: var(--bg-color);\n",
              "    border: none;\n",
              "    border-radius: 50%;\n",
              "    cursor: pointer;\n",
              "    display: none;\n",
              "    fill: var(--fill-color);\n",
              "    height: 32px;\n",
              "    padding: 0;\n",
              "    width: 32px;\n",
              "  }\n",
              "\n",
              "  .colab-df-quickchart:hover {\n",
              "    background-color: var(--hover-bg-color);\n",
              "    box-shadow: 0 1px 2px rgba(60, 64, 67, 0.3), 0 1px 3px 1px rgba(60, 64, 67, 0.15);\n",
              "    fill: var(--button-hover-fill-color);\n",
              "  }\n",
              "\n",
              "  .colab-df-quickchart-complete:disabled,\n",
              "  .colab-df-quickchart-complete:disabled:hover {\n",
              "    background-color: var(--disabled-bg-color);\n",
              "    fill: var(--disabled-fill-color);\n",
              "    box-shadow: none;\n",
              "  }\n",
              "\n",
              "  .colab-df-spinner {\n",
              "    border: 2px solid var(--fill-color);\n",
              "    border-color: transparent;\n",
              "    border-bottom-color: var(--fill-color);\n",
              "    animation:\n",
              "      spin 1s steps(1) infinite;\n",
              "  }\n",
              "\n",
              "  @keyframes spin {\n",
              "    0% {\n",
              "      border-color: transparent;\n",
              "      border-bottom-color: var(--fill-color);\n",
              "      border-left-color: var(--fill-color);\n",
              "    }\n",
              "    20% {\n",
              "      border-color: transparent;\n",
              "      border-left-color: var(--fill-color);\n",
              "      border-top-color: var(--fill-color);\n",
              "    }\n",
              "    30% {\n",
              "      border-color: transparent;\n",
              "      border-left-color: var(--fill-color);\n",
              "      border-top-color: var(--fill-color);\n",
              "      border-right-color: var(--fill-color);\n",
              "    }\n",
              "    40% {\n",
              "      border-color: transparent;\n",
              "      border-right-color: var(--fill-color);\n",
              "      border-top-color: var(--fill-color);\n",
              "    }\n",
              "    60% {\n",
              "      border-color: transparent;\n",
              "      border-right-color: var(--fill-color);\n",
              "    }\n",
              "    80% {\n",
              "      border-color: transparent;\n",
              "      border-right-color: var(--fill-color);\n",
              "      border-bottom-color: var(--fill-color);\n",
              "    }\n",
              "    90% {\n",
              "      border-color: transparent;\n",
              "      border-bottom-color: var(--fill-color);\n",
              "    }\n",
              "  }\n",
              "</style>\n",
              "\n",
              "  <script>\n",
              "    async function quickchart(key) {\n",
              "      const quickchartButtonEl =\n",
              "        document.querySelector('#' + key + ' button');\n",
              "      quickchartButtonEl.disabled = true;  // To prevent multiple clicks.\n",
              "      quickchartButtonEl.classList.add('colab-df-spinner');\n",
              "      try {\n",
              "        const charts = await google.colab.kernel.invokeFunction(\n",
              "            'suggestCharts', [key], {});\n",
              "      } catch (error) {\n",
              "        console.error('Error during call to suggestCharts:', error);\n",
              "      }\n",
              "      quickchartButtonEl.classList.remove('colab-df-spinner');\n",
              "      quickchartButtonEl.classList.add('colab-df-quickchart-complete');\n",
              "    }\n",
              "    (() => {\n",
              "      let quickchartButtonEl =\n",
              "        document.querySelector('#df-d8a3cbdc-84bd-4325-a1a5-c9956663d909 button');\n",
              "      quickchartButtonEl.style.display =\n",
              "        google.colab.kernel.accessAllowed ? 'block' : 'none';\n",
              "    })();\n",
              "  </script>\n",
              "</div>\n",
              "\n",
              "    </div>\n",
              "  </div>\n"
            ]
          },
          "metadata": {},
          "execution_count": 27
        }
      ]
    },
    {
      "cell_type": "code",
      "source": [
        "revised_tags_list = df.revised_tags.to_list()\n",
        "revised_tag_count = {}\n",
        "for tags in revised_tags_list:\n",
        "  tag_list = tags\n",
        "  for tag in tag_list:\n",
        "    if tag in revised_tag_count.keys():\n",
        "      revised_tag_count[tag] += 1\n",
        "    else:\n",
        "      revised_tag_count[tag] = 1\n",
        "print(f\"Number of Genres: {len(revised_tag_count)}\")\n",
        "print(revised_tag_count)"
      ],
      "metadata": {
        "colab": {
          "base_uri": "https://localhost:8080/"
        },
        "id": "MX9dQDJsFx3-",
        "outputId": "cde4943a-7530-4a21-c6fb-b0b1e0091022"
      },
      "execution_count": null,
      "outputs": [
        {
          "output_type": "stream",
          "name": "stdout",
          "text": [
            "Number of Genres: 675\n",
            "{'Age': 1871, 'Mind': 1295, 'Matter': 201, 'Over': 366, 'Birthday': 840, 'Man': 3249, 'Never': 2443, 'Woman': 383, 'Youth': 284, 'Young': 813, 'Help': 529, 'Old': 643, 'Get': 394, 'Men': 3091, 'Grow': 449, 'Attention': 170, 'Pay': 127, 'Strength': 1544, 'Opportunity': 478, 'Remember': 678, 'Morning': 1379, 'Wake Up': 159, 'School': 909, 'Country': 701, 'Happy': 384, 'Child': 165, 'Lie': 248, 'Live': 1512, 'Old Age': 156, 'Place': 804, 'Nothing': 1473, 'High': 122, 'Best': 3257, 'Improve': 213, 'Soul': 638, 'Change': 2364, 'Great': 4304, 'People': 7553, 'I Am': 2112, 'Strange': 134, 'Me': 5508, 'Try': 1268, 'Environment': 115, 'Growing Up': 283, 'Up': 844, 'Life': 8270, 'End': 527, 'Wish': 404, 'Minds': 120, 'Order': 121, 'Very': 179, 'Time': 6159, 'Habit': 109, 'Busy': 123, 'Person': 1185, 'Women': 2761, 'Myself': 1671, 'Beautiful': 866, 'Purpose': 311, 'Learning': 1556, 'Art': 2324, 'Work': 4505, 'Nature': 2032, 'Gift': 390, 'Good': 5807, 'Believe': 2118, 'True': 825, 'Light': 498, 'Night': 375, 'Love': 6176, 'Does': 166, 'Everything': 605, 'How': 419, 'You': 695, 'Success': 2089, 'Start': 487, 'Children': 967, 'Who': 1669, 'Those': 106, 'Face': 636, 'Long': 1610, 'Important': 664, 'Stop': 221, 'Because': 668, 'Heart': 1163, 'Always': 1996, 'Same': 144, 'She': 759, 'More': 1810, 'Something': 160, 'Whatever': 166, 'Early': 255, 'Happens': 111, 'Lose': 485, 'Friend': 202, 'Enemy': 220, 'Only': 964, 'Sad': 1265, 'Nice': 154, 'Look': 1608, 'Father': 681, 'Blood': 134, 'Wife': 420, 'Trust': 1502, 'Your': 808, 'Our': 727, 'Grace': 162, 'Money': 2292, 'Health': 1813, 'Others': 612, 'Past': 760, 'Black': 490, 'Book': 251, 'Know': 929, 'Body': 559, 'Mirror': 133, 'Day': 2577, 'Energy': 430, 'Simply': 101, 'Enough': 440, 'Hope': 2026, 'Without': 374, 'Moment': 648, 'Back': 489, 'Late': 191, 'Year': 614, 'New': 1333, 'Giving': 325, 'Knowledge': 1730, 'Own': 988, 'Feel': 693, 'Effort': 316, 'Process': 440, 'Company': 245, 'Real': 1109, 'Rich': 340, 'Where': 314, 'Should': 275, 'Been': 221, 'Thinking': 616, 'Still': 111, 'Had': 129, 'Sin': 108, 'Being': 986, 'Home': 2083, 'World': 4011, 'Lost': 503, 'Parents': 671, 'Interesting': 156, 'Journey': 225, 'Road': 276, 'Advice': 165, 'Living': 444, 'Needs': 169, 'Nobody': 217, 'Respect': 1624, 'Tomorrow': 236, 'Possible': 367, 'Family': 2720, 'Like': 1263, 'Cannot': 113, 'Better': 1277, 'America': 611, 'Just': 1084, 'Green': 169, 'Pride': 147, 'Belief': 286, 'Funny': 1476, 'Wrong': 296, 'Play': 258, 'Stars': 250, 'Dress': 185, 'Sky': 131, 'Born': 214, 'Talent': 273, 'Will': 1691, 'Struggle': 280, 'Regret': 108, 'Confidence': 315, 'Now': 1025, 'Hands': 270, 'Moon': 160, 'Poet': 106, 'Head': 118, 'Business': 2119, 'Within': 208, 'Come': 185, 'Dreams': 1436, 'Fight': 461, 'Afraid': 169, 'Way': 2733, 'Death': 1711, 'Attitude': 1344, 'Losing': 157, 'Genius': 146, 'Understand': 232, 'Learn': 112, 'Culture': 624, 'Cinema': 106, 'Faith': 1770, 'Religion': 1560, 'Brainy': 270, 'Happiness': 1647, 'Failure': 1492, 'Passion': 308, 'First': 386, 'Fun': 623, 'Ideas': 428, 'Sex': 168, 'News': 149, 'Bad': 604, 'Mean': 211, 'Destiny': 136, 'Information': 283, 'Wisdom': 1548, 'Fool': 101, 'Spirit': 280, 'Find': 1076, 'Next': 139, 'War': 1953, 'Violence': 185, 'Imagination': 1290, 'Picture': 181, 'Motivational': 423, 'Universe': 323, 'Church': 242, 'Experience': 2090, 'Far': 279, 'Education': 1806, 'Forget': 213, 'Dead': 214, 'Two': 601, 'He': 901, 'Years': 193, 'Act': 267, 'About': 264, 'Need': 638, 'Us': 1524, 'Marriage': 1502, 'Which': 196, 'Moments': 126, 'Search': 147, 'Think': 484, 'Unique': 211, 'Special': 226, 'Meaning': 144, 'Right': 433, 'Skill': 129, 'Go': 1125, 'Die': 309, 'Someone': 142, 'Today': 900, 'Media': 275, 'Human': 895, 'Poor': 206, 'Progress': 278, 'Vision': 297, 'Wise': 302, 'Away': 140, 'Alone': 1647, 'Truth': 1989, 'Battle': 134, 'Food': 1764, 'Architecture': 1071, 'Memories': 171, 'Hard': 1350, 'Anything': 434, 'I Think': 269, 'Dad': 1699, 'Kindness': 163, 'Emotions': 144, 'Pressure': 128, 'Poverty': 101, 'Evil': 312, 'Well': 333, 'God': 3305, 'Three': 295, 'Legal': 1135, 'Lawyer': 118, 'Politics': 1566, 'Political': 283, 'Feelings': 190, 'Game': 623, 'Walk': 396, 'Character': 628, 'Before': 141, 'Justice': 452, 'Personality': 204, 'Greatness': 112, \"don't Care\": 110, 'Care': 290, 'Much': 288, 'Any': 109, 'Friends': 420, 'Beauty': 1597, 'Future': 2060, 'Positive': 1563, 'Power': 2581, 'Door': 133, 'Sometimes': 940, 'Car': 1012, 'Going': 222, 'Control': 392, 'Waiting': 155, 'Community': 432, 'Trying': 328, 'Fear': 1923, 'Practice': 241, 'Eyes': 327, 'Wonder': 114, 'Talk': 238, 'Value': 410, 'History': 1987, 'Poetry': 1219, 'Daily': 235, 'Forgiveness': 528, 'Ambition': 102, 'Powerful': 366, 'Little': 148, 'Sympathy': 452, 'Tough': 268, 'Government': 1867, 'Society': 1911, 'Support': 450, 'Job': 402, 'Weird': 174, 'Artist': 280, 'Mother': 572, 'Behavior': 154, 'Speak': 113, 'Thankful': 911, 'Acting': 211, 'Music': 2438, 'Cool': 1286, 'Tired': 112, 'Keep': 128, 'Magic': 167, 'Hell': 162, 'Singing': 118, 'Mom': 1630, 'Dance': 178, 'Laugh': 156, 'Every Day': 363, 'Technology': 1604, 'Romantic': 1180, 'Free': 624, 'Medical': 1176, 'Situation': 172, 'Fame': 162, 'Language': 343, 'Question': 115, 'Want': 824, 'Meet': 107, 'Rest': 257, 'Travel': 1271, 'Fish': 127, 'Values': 109, 'Humanity': 238, 'Problems': 488, 'Achievement': 117, 'Story': 249, 'Feet': 129, 'Leadership': 1249, 'Out': 254, 'Social Media': 121, 'Gender': 114, 'Style': 245, 'Key': 306, 'Beginning': 303, 'Doing': 725, 'Even': 371, 'Done': 574, 'Freedom': 1804, 'Together': 971, 'Why': 640, 'Childhood': 243, 'Generation': 216, 'Race': 179, 'Direction': 117, 'Discipline': 213, 'Dating': 788, 'Diet': 1128, 'Internet': 299, 'Opinion': 174, 'Doctor': 175, 'Days': 253, 'Too': 129, 'Ignorance': 209, 'Winning': 123, 'Memory': 266, 'Sense': 170, 'Courage': 1484, 'Impact': 175, 'Wealth': 208, 'Loved': 453, 'See': 1197, 'Become': 128, 'Movies': 1425, 'Television': 151, 'Gratitude': 112, 'Simple': 356, 'Friendship': 1160, 'View': 304, 'Football': 337, 'Space': 1580, 'Fitness': 816, 'Peace': 1792, 'Present': 301, 'Ahead': 131, 'Blessed': 147, 'Potential': 115, 'Dream': 165, 'Teacher': 1292, 'Brain': 283, 'Say': 146, 'Alive': 184, 'Tree': 110, 'Worst': 180, 'Lot': 169, 'Law': 595, 'Bring': 115, 'Intelligence': 1290, 'Fighting': 135, 'General': 113, 'Challenges': 200, 'Difficult': 232, 'Hard Work': 195, 'Beyond': 163, 'Result': 233, 'Understanding': 169, 'Things': 660, 'Rather': 104, 'Limits': 115, 'Pain': 374, 'Fans': 314, 'Really': 219, 'Influence': 144, 'Focus': 309, 'Achieve': 259, 'Decision': 164, 'Army': 105, 'Son': 133, 'Hate': 406, 'Ability': 247, 'Cold': 168, 'Tradition': 148, 'Amazing': 1432, 'Research': 223, 'Top': 120, 'Loyalty': 110, 'Forever': 167, 'Your Dreams': 237, 'Guitar': 121, 'Every': 155, 'Chance': 1475, 'My Life': 323, 'Am': 213, 'Survive': 138, 'Hero': 108, 'Goals': 211, 'Crazy': 246, 'Quite': 136, 'Smart': 202, 'Building': 206, 'City': 349, 'Yes': 137, 'I Can': 267, 'Deep': 394, 'Reality': 568, 'Moving': 204, 'Rights': 126, 'Make': 504, 'Stay': 138, 'Rules': 227, 'Name': 266, 'Impossible': 270, 'Design': 1287, 'Build': 122, 'Finance': 657, 'Would': 189, 'Suffering': 238, 'May': 128, 'Science': 1881, 'Last': 144, 'Responsibility': 333, 'Than': 239, 'Through': 211, 'Shadow': 106, 'Luck': 163, 'Computers': 903, 'Liberty': 217, 'Love Is': 446, 'Talking': 165, 'Relationship': 1623, 'King': 162, 'Sports': 1252, 'Literature': 180, 'Many': 149, 'Choice': 276, 'Quiet': 112, 'Democracy': 306, 'Water': 345, 'Path': 252, 'Spiritual': 268, 'Escape': 114, 'Patience': 878, 'American': 449, 'Weakness': 122, 'Bible': 119, 'Often': 131, 'Integrity': 146, 'Conflict': 134, 'Fashion': 208, 'Train': 121, 'Action': 361, 'Duty': 132, 'Doubt': 134, 'Laughter': 127, 'Too Much': 193, 'White': 342, 'Competition': 137, 'Moving On': 276, 'Perspective': 169, 'Reason': 506, 'Fiction': 124, 'Career': 140, 'Enjoy': 132, 'Dangerous': 165, 'Listening': 123, 'Looking': 368, 'Street': 230, 'Brother': 143, 'Yourself': 363, 'Room': 179, 'Wonderful': 157, 'Sun': 205, 'Independence': 947, 'Easy': 234, 'Heaven': 157, 'Use': 110, 'Thoughts': 210, 'Everyone': 225, 'Choices': 115, 'Voice': 215, 'Song': 150, 'Earth': 159, 'Desire': 295, 'Sleep': 235, 'Stand': 171, 'Quality': 374, \"Valentine's Day\": 181, 'Graduation': 295, 'Christmas': 1196, 'Accept': 163, 'Strong': 146, 'Them': 375, 'Revolution': 101, 'Environmental': 961, 'Anger': 1168, 'Hurt': 192, 'Other': 169, 'Israel': 150, 'Service': 199, 'Force': 174, 'Table': 101, 'Credit': 101, 'Brave': 126, 'Half': 114, 'Equality': 1206, 'Questions': 138, 'Rise': 143, 'Jealousy': 277, 'Enemies': 135, 'Step': 281, 'Growth': 281, 'Cooking': 115, 'Humility': 113, 'Stage': 104, 'Sacrifice': 173, 'Sound': 138, 'Follow': 102, 'Silence': 135, 'Prayer': 179, 'Communication': 1196, 'Fly': 127, 'Fall': 110, 'Ready': 136, 'Teen': 543, 'Risks': 135, 'Gardening': 278, 'Worry': 139, 'Patriotism': 456, 'Point': 142, 'Words': 479, 'Team': 107, 'Honor': 160, 'Famous': 1136, 'Must': 189, 'Tears': 102, 'Honesty': 114, 'Exist': 203, 'Birth': 108, 'Truth Is': 118, 'Dog': 163, 'Victory': 117, 'Wants': 122, 'Create': 218, 'Realize': 103, 'Commitment': 143, 'Interest': 164, 'Safe': 121, 'Kind': 101, 'Aim': 129, 'Social': 120, 'Eating': 141, 'Film': 472, 'Data': 112, 'Writing': 149, 'Balance': 206, 'Nation': 127, 'Fire': 231, 'System': 224, 'Stupid': 122, 'Wind': 121, 'Big': 584, 'Gay': 101, 'Constitution': 101, 'Economic': 161, 'Thing': 169, 'Negative': 120, 'Used': 161, 'Inspirational': 710, 'Smile': 1216, 'Joy': 469, 'Fast': 122, 'Pretty': 127, 'Most': 113, 'Humble': 124, 'Drive': 216, 'Security': 298, 'Again': 101, 'Sweet': 122, 'Comedy': 211, 'Easter': 177, 'Made': 193, 'Events': 116, 'Angry': 120, 'Thanksgiving': 331, 'Fruit': 114, 'Drama': 152, 'Development': 152, 'Pet': 502, 'Line': 104, 'Celebrate': 157, 'Humor': 1209, 'Down': 107, 'Waste': 114, 'Serious': 188, 'Seeing': 101, 'Lifestyle': 119, 'Sense Of Humor': 284, 'Wedding': 722, 'Facts': 105, 'Anniversary': 205, 'Thank God': 102, 'Mistakes': 227, 'Holiday': 131, 'Foundation': 125, 'Painting': 151, 'Intellectual': 103, 'College': 116, 'Knowing': 135, 'Training': 168, 'Parenting': 515, 'Success Is': 115}\n"
          ]
        }
      ]
    },
    {
      "cell_type": "code",
      "source": [
        "encode_tag_types = {key: idx for idx, (key, value) in enumerate(revised_tag_count.items())}\n",
        "with open(\"tag_types_encoded.json\", \"w\") as fp:\n",
        "  json.dump(encode_tag_types, fp)"
      ],
      "metadata": {
        "id": "--_QThllaiwu"
      },
      "execution_count": null,
      "outputs": []
    },
    {
      "cell_type": "code",
      "source": [
        "print(encode_tag_types)"
      ],
      "metadata": {
        "colab": {
          "base_uri": "https://localhost:8080/"
        },
        "id": "vAcDXOgma8SS",
        "outputId": "a3904885-3284-428f-a1ba-d4170f1c32bf"
      },
      "execution_count": null,
      "outputs": [
        {
          "output_type": "stream",
          "name": "stdout",
          "text": [
            "{'Age': 0, 'Mind': 1, 'Matter': 2, 'Over': 3, 'Birthday': 4, 'Man': 5, 'Never': 6, 'Woman': 7, 'Youth': 8, 'Young': 9, 'Help': 10, 'Old': 11, 'Get': 12, 'Men': 13, 'Grow': 14, 'Attention': 15, 'Pay': 16, 'Strength': 17, 'Opportunity': 18, 'Remember': 19, 'Morning': 20, 'Wake Up': 21, 'School': 22, 'Country': 23, 'Happy': 24, 'Child': 25, 'Lie': 26, 'Live': 27, 'Old Age': 28, 'Place': 29, 'Nothing': 30, 'High': 31, 'Best': 32, 'Improve': 33, 'Soul': 34, 'Change': 35, 'Great': 36, 'People': 37, 'I Am': 38, 'Strange': 39, 'Me': 40, 'Try': 41, 'Environment': 42, 'Growing Up': 43, 'Up': 44, 'Life': 45, 'End': 46, 'Wish': 47, 'Minds': 48, 'Order': 49, 'Very': 50, 'Time': 51, 'Habit': 52, 'Busy': 53, 'Person': 54, 'Women': 55, 'Myself': 56, 'Beautiful': 57, 'Purpose': 58, 'Learning': 59, 'Art': 60, 'Work': 61, 'Nature': 62, 'Gift': 63, 'Good': 64, 'Believe': 65, 'True': 66, 'Light': 67, 'Night': 68, 'Love': 69, 'Does': 70, 'Everything': 71, 'How': 72, 'You': 73, 'Success': 74, 'Start': 75, 'Children': 76, 'Who': 77, 'Those': 78, 'Face': 79, 'Long': 80, 'Important': 81, 'Stop': 82, 'Because': 83, 'Heart': 84, 'Always': 85, 'Same': 86, 'She': 87, 'More': 88, 'Something': 89, 'Whatever': 90, 'Early': 91, 'Happens': 92, 'Lose': 93, 'Friend': 94, 'Enemy': 95, 'Only': 96, 'Sad': 97, 'Nice': 98, 'Look': 99, 'Father': 100, 'Blood': 101, 'Wife': 102, 'Trust': 103, 'Your': 104, 'Our': 105, 'Grace': 106, 'Money': 107, 'Health': 108, 'Others': 109, 'Past': 110, 'Black': 111, 'Book': 112, 'Know': 113, 'Body': 114, 'Mirror': 115, 'Day': 116, 'Energy': 117, 'Simply': 118, 'Enough': 119, 'Hope': 120, 'Without': 121, 'Moment': 122, 'Back': 123, 'Late': 124, 'Year': 125, 'New': 126, 'Giving': 127, 'Knowledge': 128, 'Own': 129, 'Feel': 130, 'Effort': 131, 'Process': 132, 'Company': 133, 'Real': 134, 'Rich': 135, 'Where': 136, 'Should': 137, 'Been': 138, 'Thinking': 139, 'Still': 140, 'Had': 141, 'Sin': 142, 'Being': 143, 'Home': 144, 'World': 145, 'Lost': 146, 'Parents': 147, 'Interesting': 148, 'Journey': 149, 'Road': 150, 'Advice': 151, 'Living': 152, 'Needs': 153, 'Nobody': 154, 'Respect': 155, 'Tomorrow': 156, 'Possible': 157, 'Family': 158, 'Like': 159, 'Cannot': 160, 'Better': 161, 'America': 162, 'Just': 163, 'Green': 164, 'Pride': 165, 'Belief': 166, 'Funny': 167, 'Wrong': 168, 'Play': 169, 'Stars': 170, 'Dress': 171, 'Sky': 172, 'Born': 173, 'Talent': 174, 'Will': 175, 'Struggle': 176, 'Regret': 177, 'Confidence': 178, 'Now': 179, 'Hands': 180, 'Moon': 181, 'Poet': 182, 'Head': 183, 'Business': 184, 'Within': 185, 'Come': 186, 'Dreams': 187, 'Fight': 188, 'Afraid': 189, 'Way': 190, 'Death': 191, 'Attitude': 192, 'Losing': 193, 'Genius': 194, 'Understand': 195, 'Learn': 196, 'Culture': 197, 'Cinema': 198, 'Faith': 199, 'Religion': 200, 'Brainy': 201, 'Happiness': 202, 'Failure': 203, 'Passion': 204, 'First': 205, 'Fun': 206, 'Ideas': 207, 'Sex': 208, 'News': 209, 'Bad': 210, 'Mean': 211, 'Destiny': 212, 'Information': 213, 'Wisdom': 214, 'Fool': 215, 'Spirit': 216, 'Find': 217, 'Next': 218, 'War': 219, 'Violence': 220, 'Imagination': 221, 'Picture': 222, 'Motivational': 223, 'Universe': 224, 'Church': 225, 'Experience': 226, 'Far': 227, 'Education': 228, 'Forget': 229, 'Dead': 230, 'Two': 231, 'He': 232, 'Years': 233, 'Act': 234, 'About': 235, 'Need': 236, 'Us': 237, 'Marriage': 238, 'Which': 239, 'Moments': 240, 'Search': 241, 'Think': 242, 'Unique': 243, 'Special': 244, 'Meaning': 245, 'Right': 246, 'Skill': 247, 'Go': 248, 'Die': 249, 'Someone': 250, 'Today': 251, 'Media': 252, 'Human': 253, 'Poor': 254, 'Progress': 255, 'Vision': 256, 'Wise': 257, 'Away': 258, 'Alone': 259, 'Truth': 260, 'Battle': 261, 'Food': 262, 'Architecture': 263, 'Memories': 264, 'Hard': 265, 'Anything': 266, 'I Think': 267, 'Dad': 268, 'Kindness': 269, 'Emotions': 270, 'Pressure': 271, 'Poverty': 272, 'Evil': 273, 'Well': 274, 'God': 275, 'Three': 276, 'Legal': 277, 'Lawyer': 278, 'Politics': 279, 'Political': 280, 'Feelings': 281, 'Game': 282, 'Walk': 283, 'Character': 284, 'Before': 285, 'Justice': 286, 'Personality': 287, 'Greatness': 288, \"don't Care\": 289, 'Care': 290, 'Much': 291, 'Any': 292, 'Friends': 293, 'Beauty': 294, 'Future': 295, 'Positive': 296, 'Power': 297, 'Door': 298, 'Sometimes': 299, 'Car': 300, 'Going': 301, 'Control': 302, 'Waiting': 303, 'Community': 304, 'Trying': 305, 'Fear': 306, 'Practice': 307, 'Eyes': 308, 'Wonder': 309, 'Talk': 310, 'Value': 311, 'History': 312, 'Poetry': 313, 'Daily': 314, 'Forgiveness': 315, 'Ambition': 316, 'Powerful': 317, 'Little': 318, 'Sympathy': 319, 'Tough': 320, 'Government': 321, 'Society': 322, 'Support': 323, 'Job': 324, 'Weird': 325, 'Artist': 326, 'Mother': 327, 'Behavior': 328, 'Speak': 329, 'Thankful': 330, 'Acting': 331, 'Music': 332, 'Cool': 333, 'Tired': 334, 'Keep': 335, 'Magic': 336, 'Hell': 337, 'Singing': 338, 'Mom': 339, 'Dance': 340, 'Laugh': 341, 'Every Day': 342, 'Technology': 343, 'Romantic': 344, 'Free': 345, 'Medical': 346, 'Situation': 347, 'Fame': 348, 'Language': 349, 'Question': 350, 'Want': 351, 'Meet': 352, 'Rest': 353, 'Travel': 354, 'Fish': 355, 'Values': 356, 'Humanity': 357, 'Problems': 358, 'Achievement': 359, 'Story': 360, 'Feet': 361, 'Leadership': 362, 'Out': 363, 'Social Media': 364, 'Gender': 365, 'Style': 366, 'Key': 367, 'Beginning': 368, 'Doing': 369, 'Even': 370, 'Done': 371, 'Freedom': 372, 'Together': 373, 'Why': 374, 'Childhood': 375, 'Generation': 376, 'Race': 377, 'Direction': 378, 'Discipline': 379, 'Dating': 380, 'Diet': 381, 'Internet': 382, 'Opinion': 383, 'Doctor': 384, 'Days': 385, 'Too': 386, 'Ignorance': 387, 'Winning': 388, 'Memory': 389, 'Sense': 390, 'Courage': 391, 'Impact': 392, 'Wealth': 393, 'Loved': 394, 'See': 395, 'Become': 396, 'Movies': 397, 'Television': 398, 'Gratitude': 399, 'Simple': 400, 'Friendship': 401, 'View': 402, 'Football': 403, 'Space': 404, 'Fitness': 405, 'Peace': 406, 'Present': 407, 'Ahead': 408, 'Blessed': 409, 'Potential': 410, 'Dream': 411, 'Teacher': 412, 'Brain': 413, 'Say': 414, 'Alive': 415, 'Tree': 416, 'Worst': 417, 'Lot': 418, 'Law': 419, 'Bring': 420, 'Intelligence': 421, 'Fighting': 422, 'General': 423, 'Challenges': 424, 'Difficult': 425, 'Hard Work': 426, 'Beyond': 427, 'Result': 428, 'Understanding': 429, 'Things': 430, 'Rather': 431, 'Limits': 432, 'Pain': 433, 'Fans': 434, 'Really': 435, 'Influence': 436, 'Focus': 437, 'Achieve': 438, 'Decision': 439, 'Army': 440, 'Son': 441, 'Hate': 442, 'Ability': 443, 'Cold': 444, 'Tradition': 445, 'Amazing': 446, 'Research': 447, 'Top': 448, 'Loyalty': 449, 'Forever': 450, 'Your Dreams': 451, 'Guitar': 452, 'Every': 453, 'Chance': 454, 'My Life': 455, 'Am': 456, 'Survive': 457, 'Hero': 458, 'Goals': 459, 'Crazy': 460, 'Quite': 461, 'Smart': 462, 'Building': 463, 'City': 464, 'Yes': 465, 'I Can': 466, 'Deep': 467, 'Reality': 468, 'Moving': 469, 'Rights': 470, 'Make': 471, 'Stay': 472, 'Rules': 473, 'Name': 474, 'Impossible': 475, 'Design': 476, 'Build': 477, 'Finance': 478, 'Would': 479, 'Suffering': 480, 'May': 481, 'Science': 482, 'Last': 483, 'Responsibility': 484, 'Than': 485, 'Through': 486, 'Shadow': 487, 'Luck': 488, 'Computers': 489, 'Liberty': 490, 'Love Is': 491, 'Talking': 492, 'Relationship': 493, 'King': 494, 'Sports': 495, 'Literature': 496, 'Many': 497, 'Choice': 498, 'Quiet': 499, 'Democracy': 500, 'Water': 501, 'Path': 502, 'Spiritual': 503, 'Escape': 504, 'Patience': 505, 'American': 506, 'Weakness': 507, 'Bible': 508, 'Often': 509, 'Integrity': 510, 'Conflict': 511, 'Fashion': 512, 'Train': 513, 'Action': 514, 'Duty': 515, 'Doubt': 516, 'Laughter': 517, 'Too Much': 518, 'White': 519, 'Competition': 520, 'Moving On': 521, 'Perspective': 522, 'Reason': 523, 'Fiction': 524, 'Career': 525, 'Enjoy': 526, 'Dangerous': 527, 'Listening': 528, 'Looking': 529, 'Street': 530, 'Brother': 531, 'Yourself': 532, 'Room': 533, 'Wonderful': 534, 'Sun': 535, 'Independence': 536, 'Easy': 537, 'Heaven': 538, 'Use': 539, 'Thoughts': 540, 'Everyone': 541, 'Choices': 542, 'Voice': 543, 'Song': 544, 'Earth': 545, 'Desire': 546, 'Sleep': 547, 'Stand': 548, 'Quality': 549, \"Valentine's Day\": 550, 'Graduation': 551, 'Christmas': 552, 'Accept': 553, 'Strong': 554, 'Them': 555, 'Revolution': 556, 'Environmental': 557, 'Anger': 558, 'Hurt': 559, 'Other': 560, 'Israel': 561, 'Service': 562, 'Force': 563, 'Table': 564, 'Credit': 565, 'Brave': 566, 'Half': 567, 'Equality': 568, 'Questions': 569, 'Rise': 570, 'Jealousy': 571, 'Enemies': 572, 'Step': 573, 'Growth': 574, 'Cooking': 575, 'Humility': 576, 'Stage': 577, 'Sacrifice': 578, 'Sound': 579, 'Follow': 580, 'Silence': 581, 'Prayer': 582, 'Communication': 583, 'Fly': 584, 'Fall': 585, 'Ready': 586, 'Teen': 587, 'Risks': 588, 'Gardening': 589, 'Worry': 590, 'Patriotism': 591, 'Point': 592, 'Words': 593, 'Team': 594, 'Honor': 595, 'Famous': 596, 'Must': 597, 'Tears': 598, 'Honesty': 599, 'Exist': 600, 'Birth': 601, 'Truth Is': 602, 'Dog': 603, 'Victory': 604, 'Wants': 605, 'Create': 606, 'Realize': 607, 'Commitment': 608, 'Interest': 609, 'Safe': 610, 'Kind': 611, 'Aim': 612, 'Social': 613, 'Eating': 614, 'Film': 615, 'Data': 616, 'Writing': 617, 'Balance': 618, 'Nation': 619, 'Fire': 620, 'System': 621, 'Stupid': 622, 'Wind': 623, 'Big': 624, 'Gay': 625, 'Constitution': 626, 'Economic': 627, 'Thing': 628, 'Negative': 629, 'Used': 630, 'Inspirational': 631, 'Smile': 632, 'Joy': 633, 'Fast': 634, 'Pretty': 635, 'Most': 636, 'Humble': 637, 'Drive': 638, 'Security': 639, 'Again': 640, 'Sweet': 641, 'Comedy': 642, 'Easter': 643, 'Made': 644, 'Events': 645, 'Angry': 646, 'Thanksgiving': 647, 'Fruit': 648, 'Drama': 649, 'Development': 650, 'Pet': 651, 'Line': 652, 'Celebrate': 653, 'Humor': 654, 'Down': 655, 'Waste': 656, 'Serious': 657, 'Seeing': 658, 'Lifestyle': 659, 'Sense Of Humor': 660, 'Wedding': 661, 'Facts': 662, 'Anniversary': 663, 'Thank God': 664, 'Mistakes': 665, 'Holiday': 666, 'Foundation': 667, 'Painting': 668, 'Intellectual': 669, 'College': 670, 'Knowing': 671, 'Training': 672, 'Parenting': 673, 'Success Is': 674}\n"
          ]
        }
      ]
    },
    {
      "cell_type": "code",
      "source": [
        "cat_tag_list = []\n",
        "rev_tags_list = df.revised_tags.to_list()\n",
        "\n",
        "for tags in rev_tags_list:\n",
        "  cat_tags_list = [0]* len(encode_tag_types)\n",
        "  for tag in tags:\n",
        "    tag_type_idx = encode_tag_types[tag]\n",
        "    cat_tags_list[tag_type_idx] = 1\n",
        "  cat_tag_list.append(cat_tags_list)"
      ],
      "metadata": {
        "id": "X6GdsMYVX3e3"
      },
      "execution_count": null,
      "outputs": []
    },
    {
      "cell_type": "code",
      "source": [
        "print(cat_tag_list[:5])"
      ],
      "metadata": {
        "colab": {
          "base_uri": "https://localhost:8080/"
        },
        "id": "Lp-vsPMybJfN",
        "outputId": "b4fbb395-7358-4e98-9e34-a01743c6bdda"
      },
      "execution_count": null,
      "outputs": [
        {
          "output_type": "stream",
          "name": "stdout",
          "text": [
            "[[1, 1, 1, 1, 0, 0, 0, 0, 0, 0, 0, 0, 0, 0, 0, 0, 0, 0, 0, 0, 0, 0, 0, 0, 0, 0, 0, 0, 0, 0, 0, 0, 0, 0, 0, 0, 0, 0, 0, 0, 0, 0, 0, 0, 0, 0, 0, 0, 0, 0, 0, 0, 0, 0, 0, 0, 0, 0, 0, 0, 0, 0, 0, 0, 0, 0, 0, 0, 0, 0, 0, 0, 0, 0, 0, 0, 0, 0, 0, 0, 0, 0, 0, 0, 0, 0, 0, 0, 0, 0, 0, 0, 0, 0, 0, 0, 0, 0, 0, 0, 0, 0, 0, 0, 0, 0, 0, 0, 0, 0, 0, 0, 0, 0, 0, 0, 0, 0, 0, 0, 0, 0, 0, 0, 0, 0, 0, 0, 0, 0, 0, 0, 0, 0, 0, 0, 0, 0, 0, 0, 0, 0, 0, 0, 0, 0, 0, 0, 0, 0, 0, 0, 0, 0, 0, 0, 0, 0, 0, 0, 0, 0, 0, 0, 0, 0, 0, 0, 0, 0, 0, 0, 0, 0, 0, 0, 0, 0, 0, 0, 0, 0, 0, 0, 0, 0, 0, 0, 0, 0, 0, 0, 0, 0, 0, 0, 0, 0, 0, 0, 0, 0, 0, 0, 0, 0, 0, 0, 0, 0, 0, 0, 0, 0, 0, 0, 0, 0, 0, 0, 0, 0, 0, 0, 0, 0, 0, 0, 0, 0, 0, 0, 0, 0, 0, 0, 0, 0, 0, 0, 0, 0, 0, 0, 0, 0, 0, 0, 0, 0, 0, 0, 0, 0, 0, 0, 0, 0, 0, 0, 0, 0, 0, 0, 0, 0, 0, 0, 0, 0, 0, 0, 0, 0, 0, 0, 0, 0, 0, 0, 0, 0, 0, 0, 0, 0, 0, 0, 0, 0, 0, 0, 0, 0, 0, 0, 0, 0, 0, 0, 0, 0, 0, 0, 0, 0, 0, 0, 0, 0, 0, 0, 0, 0, 0, 0, 0, 0, 0, 0, 0, 0, 0, 0, 0, 0, 0, 0, 0, 0, 0, 0, 0, 0, 0, 0, 0, 0, 0, 0, 0, 0, 0, 0, 0, 0, 0, 0, 0, 0, 0, 0, 0, 0, 0, 0, 0, 0, 0, 0, 0, 0, 0, 0, 0, 0, 0, 0, 0, 0, 0, 0, 0, 0, 0, 0, 0, 0, 0, 0, 0, 0, 0, 0, 0, 0, 0, 0, 0, 0, 0, 0, 0, 0, 0, 0, 0, 0, 0, 0, 0, 0, 0, 0, 0, 0, 0, 0, 0, 0, 0, 0, 0, 0, 0, 0, 0, 0, 0, 0, 0, 0, 0, 0, 0, 0, 0, 0, 0, 0, 0, 0, 0, 0, 0, 0, 0, 0, 0, 0, 0, 0, 0, 0, 0, 0, 0, 0, 0, 0, 0, 0, 0, 0, 0, 0, 0, 0, 0, 0, 0, 0, 0, 0, 0, 0, 0, 0, 0, 0, 0, 0, 0, 0, 0, 0, 0, 0, 0, 0, 0, 0, 0, 0, 0, 0, 0, 0, 0, 0, 0, 0, 0, 0, 0, 0, 0, 0, 0, 0, 0, 0, 0, 0, 0, 0, 0, 0, 0, 0, 0, 0, 0, 0, 0, 0, 0, 0, 0, 0, 0, 0, 0, 0, 0, 0, 0, 0, 0, 0, 0, 0, 0, 0, 0, 0, 0, 0, 0, 0, 0, 0, 0, 0, 0, 0, 0, 0, 0, 0, 0, 0, 0, 0, 0, 0, 0, 0, 0, 0, 0, 0, 0, 0, 0, 0, 0, 0, 0, 0, 0, 0, 0, 0, 0, 0, 0, 0, 0, 0, 0, 0, 0, 0, 0, 0, 0, 0, 0, 0, 0, 0, 0, 0, 0, 0, 0, 0, 0, 0, 0, 0, 0, 0, 0, 0, 0, 0, 0, 0, 0, 0, 0, 0, 0, 0, 0, 0, 0, 0, 0, 0, 0, 0, 0, 0, 0, 0, 0, 0, 0, 0, 0, 0, 0, 0, 0, 0, 0, 0, 0, 0, 0, 0, 0, 0, 0, 0, 0, 0, 0, 0, 0, 0, 0, 0, 0, 0, 0, 0, 0, 0, 0, 0, 0, 0, 0, 0, 0, 0, 0, 0, 0, 0, 0], [1, 0, 0, 0, 1, 1, 1, 1, 0, 0, 0, 0, 0, 0, 0, 0, 0, 0, 0, 0, 0, 0, 0, 0, 0, 0, 0, 0, 0, 0, 0, 0, 0, 0, 0, 0, 0, 0, 0, 0, 0, 0, 0, 0, 0, 0, 0, 0, 0, 0, 0, 0, 0, 0, 0, 0, 0, 0, 0, 0, 0, 0, 0, 0, 0, 0, 0, 0, 0, 0, 0, 0, 0, 0, 0, 0, 0, 0, 0, 0, 0, 0, 0, 0, 0, 0, 0, 0, 0, 0, 0, 0, 0, 0, 0, 0, 0, 0, 0, 0, 0, 0, 0, 0, 0, 0, 0, 0, 0, 0, 0, 0, 0, 0, 0, 0, 0, 0, 0, 0, 0, 0, 0, 0, 0, 0, 0, 0, 0, 0, 0, 0, 0, 0, 0, 0, 0, 0, 0, 0, 0, 0, 0, 0, 0, 0, 0, 0, 0, 0, 0, 0, 0, 0, 0, 0, 0, 0, 0, 0, 0, 0, 0, 0, 0, 0, 0, 0, 0, 0, 0, 0, 0, 0, 0, 0, 0, 0, 0, 0, 0, 0, 0, 0, 0, 0, 0, 0, 0, 0, 0, 0, 0, 0, 0, 0, 0, 0, 0, 0, 0, 0, 0, 0, 0, 0, 0, 0, 0, 0, 0, 0, 0, 0, 0, 0, 0, 0, 0, 0, 0, 0, 0, 0, 0, 0, 0, 0, 0, 0, 0, 0, 0, 0, 0, 0, 0, 0, 0, 0, 0, 0, 0, 0, 0, 0, 0, 0, 0, 0, 0, 0, 0, 0, 0, 0, 0, 0, 0, 0, 0, 0, 0, 0, 0, 0, 0, 0, 0, 0, 0, 0, 0, 0, 0, 0, 0, 0, 0, 0, 0, 0, 0, 0, 0, 0, 0, 0, 0, 0, 0, 0, 0, 0, 0, 0, 0, 0, 0, 0, 0, 0, 0, 0, 0, 0, 0, 0, 0, 0, 0, 0, 0, 0, 0, 0, 0, 0, 0, 0, 0, 0, 0, 0, 0, 0, 0, 0, 0, 0, 0, 0, 0, 0, 0, 0, 0, 0, 0, 0, 0, 0, 0, 0, 0, 0, 0, 0, 0, 0, 0, 0, 0, 0, 0, 0, 0, 0, 0, 0, 0, 0, 0, 0, 0, 0, 0, 0, 0, 0, 0, 0, 0, 0, 0, 0, 0, 0, 0, 0, 0, 0, 0, 0, 0, 0, 0, 0, 0, 0, 0, 0, 0, 0, 0, 0, 0, 0, 0, 0, 0, 0, 0, 0, 0, 0, 0, 0, 0, 0, 0, 0, 0, 0, 0, 0, 0, 0, 0, 0, 0, 0, 0, 0, 0, 0, 0, 0, 0, 0, 0, 0, 0, 0, 0, 0, 0, 0, 0, 0, 0, 0, 0, 0, 0, 0, 0, 0, 0, 0, 0, 0, 0, 0, 0, 0, 0, 0, 0, 0, 0, 0, 0, 0, 0, 0, 0, 0, 0, 0, 0, 0, 0, 0, 0, 0, 0, 0, 0, 0, 0, 0, 0, 0, 0, 0, 0, 0, 0, 0, 0, 0, 0, 0, 0, 0, 0, 0, 0, 0, 0, 0, 0, 0, 0, 0, 0, 0, 0, 0, 0, 0, 0, 0, 0, 0, 0, 0, 0, 0, 0, 0, 0, 0, 0, 0, 0, 0, 0, 0, 0, 0, 0, 0, 0, 0, 0, 0, 0, 0, 0, 0, 0, 0, 0, 0, 0, 0, 0, 0, 0, 0, 0, 0, 0, 0, 0, 0, 0, 0, 0, 0, 0, 0, 0, 0, 0, 0, 0, 0, 0, 0, 0, 0, 0, 0, 0, 0, 0, 0, 0, 0, 0, 0, 0, 0, 0, 0, 0, 0, 0, 0, 0, 0, 0, 0, 0, 0, 0, 0, 0, 0, 0, 0, 0, 0, 0, 0, 0, 0, 0, 0, 0, 0, 0, 0, 0, 0, 0, 0, 0, 0, 0, 0, 0, 0, 0, 0, 0, 0, 0, 0, 0, 0, 0, 0, 0, 0, 0, 0, 0, 0, 0, 0, 0, 0, 0, 0, 0, 0, 0, 0, 0, 0, 0, 0, 0, 0, 0, 0, 0, 0, 0, 0, 0, 0, 0, 0, 0, 0, 0, 0, 0, 0, 0], [1, 0, 0, 0, 0, 0, 0, 0, 1, 1, 0, 0, 0, 0, 0, 0, 0, 0, 0, 0, 0, 0, 0, 0, 0, 0, 0, 0, 0, 0, 0, 0, 0, 0, 0, 0, 0, 0, 0, 0, 0, 0, 0, 0, 0, 0, 0, 0, 0, 0, 0, 0, 0, 0, 0, 0, 0, 0, 0, 0, 0, 0, 0, 0, 0, 0, 0, 0, 0, 0, 0, 0, 0, 0, 0, 0, 0, 0, 0, 0, 0, 0, 0, 0, 0, 0, 0, 0, 0, 0, 0, 0, 0, 0, 0, 0, 0, 0, 0, 0, 0, 0, 0, 0, 0, 0, 0, 0, 0, 0, 0, 0, 0, 0, 0, 0, 0, 0, 0, 0, 0, 0, 0, 0, 0, 0, 0, 0, 0, 0, 0, 0, 0, 0, 0, 0, 0, 0, 0, 0, 0, 0, 0, 0, 0, 0, 0, 0, 0, 0, 0, 0, 0, 0, 0, 0, 0, 0, 0, 0, 0, 0, 0, 0, 0, 0, 0, 0, 0, 0, 0, 0, 0, 0, 0, 0, 0, 0, 0, 0, 0, 0, 0, 0, 0, 0, 0, 0, 0, 0, 0, 0, 0, 0, 0, 0, 0, 0, 0, 0, 0, 0, 0, 0, 0, 0, 0, 0, 0, 0, 0, 0, 0, 0, 0, 0, 0, 0, 0, 0, 0, 0, 0, 0, 0, 0, 0, 0, 0, 0, 0, 0, 0, 0, 0, 0, 0, 0, 0, 0, 0, 0, 0, 0, 0, 0, 0, 0, 0, 0, 0, 0, 0, 0, 0, 0, 0, 0, 0, 0, 0, 0, 0, 0, 0, 0, 0, 0, 0, 0, 0, 0, 0, 0, 0, 0, 0, 0, 0, 0, 0, 0, 0, 0, 0, 0, 0, 0, 0, 0, 0, 0, 0, 0, 0, 0, 0, 0, 0, 0, 0, 0, 0, 0, 0, 0, 0, 0, 0, 0, 0, 0, 0, 0, 0, 0, 0, 0, 0, 0, 0, 0, 0, 0, 0, 0, 0, 0, 0, 0, 0, 0, 0, 0, 0, 0, 0, 0, 0, 0, 0, 0, 0, 0, 0, 0, 0, 0, 0, 0, 0, 0, 0, 0, 0, 0, 0, 0, 0, 0, 0, 0, 0, 0, 0, 0, 0, 0, 0, 0, 0, 0, 0, 0, 0, 0, 0, 0, 0, 0, 0, 0, 0, 0, 0, 0, 0, 0, 0, 0, 0, 0, 0, 0, 0, 0, 0, 0, 0, 0, 0, 0, 0, 0, 0, 0, 0, 0, 0, 0, 0, 0, 0, 0, 0, 0, 0, 0, 0, 0, 0, 0, 0, 0, 0, 0, 0, 0, 0, 0, 0, 0, 0, 0, 0, 0, 0, 0, 0, 0, 0, 0, 0, 0, 0, 0, 0, 0, 0, 0, 0, 0, 0, 0, 0, 0, 0, 0, 0, 0, 0, 0, 0, 0, 0, 0, 0, 0, 0, 0, 0, 0, 0, 0, 0, 0, 0, 0, 0, 0, 0, 0, 0, 0, 0, 0, 0, 0, 0, 0, 0, 0, 0, 0, 0, 0, 0, 0, 0, 0, 0, 0, 0, 0, 0, 0, 0, 0, 0, 0, 0, 0, 0, 0, 0, 0, 0, 0, 0, 0, 0, 0, 0, 0, 0, 0, 0, 0, 0, 0, 0, 0, 0, 0, 0, 0, 0, 0, 0, 0, 0, 0, 0, 0, 0, 0, 0, 0, 0, 0, 0, 0, 0, 0, 0, 0, 0, 0, 0, 0, 0, 0, 0, 0, 0, 0, 0, 0, 0, 0, 0, 0, 0, 0, 0, 0, 0, 0, 0, 0, 0, 0, 0, 0, 0, 0, 0, 0, 0, 0, 0, 0, 0, 0, 0, 0, 0, 0, 0, 0, 0, 0, 0, 0, 0, 0, 0, 0, 0, 0, 0, 0, 0, 0, 0, 0, 0, 0, 0, 0, 0, 0, 0, 0, 0, 0, 0, 0, 0, 0, 0, 0, 0, 0, 0, 0, 0, 0, 0, 0, 0, 0, 0, 0, 0, 0, 0, 0, 0, 0, 0, 0, 0, 0, 0, 0, 0, 0, 0, 0, 0, 0, 0, 0, 0, 0, 0, 0, 0, 0, 0, 0, 0, 0, 0], [1, 0, 0, 0, 0, 0, 0, 0, 0, 0, 1, 1, 1, 0, 0, 0, 0, 0, 0, 0, 0, 0, 0, 0, 0, 0, 0, 0, 0, 0, 0, 0, 0, 0, 0, 0, 0, 0, 0, 0, 0, 0, 0, 0, 0, 0, 0, 0, 0, 0, 0, 0, 0, 0, 0, 0, 0, 0, 0, 0, 0, 0, 0, 0, 0, 0, 0, 0, 0, 0, 0, 0, 0, 0, 0, 0, 0, 0, 0, 0, 0, 0, 0, 0, 0, 0, 0, 0, 0, 0, 0, 0, 0, 0, 0, 0, 0, 0, 0, 0, 0, 0, 0, 0, 0, 0, 0, 0, 0, 0, 0, 0, 0, 0, 0, 0, 0, 0, 0, 0, 0, 0, 0, 0, 0, 0, 0, 0, 0, 0, 0, 0, 0, 0, 0, 0, 0, 0, 0, 0, 0, 0, 0, 0, 0, 0, 0, 0, 0, 0, 0, 0, 0, 0, 0, 0, 0, 0, 0, 0, 0, 0, 0, 0, 0, 0, 0, 0, 0, 0, 0, 0, 0, 0, 0, 0, 0, 0, 0, 0, 0, 0, 0, 0, 0, 0, 0, 0, 0, 0, 0, 0, 0, 0, 0, 0, 0, 0, 0, 0, 0, 0, 0, 0, 0, 0, 0, 0, 0, 0, 0, 0, 0, 0, 0, 0, 0, 0, 0, 0, 0, 0, 0, 0, 0, 0, 0, 0, 0, 0, 0, 0, 0, 0, 0, 0, 0, 0, 0, 0, 0, 0, 0, 0, 0, 0, 0, 0, 0, 0, 0, 0, 0, 0, 0, 0, 0, 0, 0, 0, 0, 0, 0, 0, 0, 0, 0, 0, 0, 0, 0, 0, 0, 0, 0, 0, 0, 0, 0, 0, 0, 0, 0, 0, 0, 0, 0, 0, 0, 0, 0, 0, 0, 0, 0, 0, 0, 0, 0, 0, 0, 0, 0, 0, 0, 0, 0, 0, 0, 0, 0, 0, 0, 0, 0, 0, 0, 0, 0, 0, 0, 0, 0, 0, 0, 0, 0, 0, 0, 0, 0, 0, 0, 0, 0, 0, 0, 0, 0, 0, 0, 0, 0, 0, 0, 0, 0, 0, 0, 0, 0, 0, 0, 0, 0, 0, 0, 0, 0, 0, 0, 0, 0, 0, 0, 0, 0, 0, 0, 0, 0, 0, 0, 0, 0, 0, 0, 0, 0, 0, 0, 0, 0, 0, 0, 0, 0, 0, 0, 0, 0, 0, 0, 0, 0, 0, 0, 0, 0, 0, 0, 0, 0, 0, 0, 0, 0, 0, 0, 0, 0, 0, 0, 0, 0, 0, 0, 0, 0, 0, 0, 0, 0, 0, 0, 0, 0, 0, 0, 0, 0, 0, 0, 0, 0, 0, 0, 0, 0, 0, 0, 0, 0, 0, 0, 0, 0, 0, 0, 0, 0, 0, 0, 0, 0, 0, 0, 0, 0, 0, 0, 0, 0, 0, 0, 0, 0, 0, 0, 0, 0, 0, 0, 0, 0, 0, 0, 0, 0, 0, 0, 0, 0, 0, 0, 0, 0, 0, 0, 0, 0, 0, 0, 0, 0, 0, 0, 0, 0, 0, 0, 0, 0, 0, 0, 0, 0, 0, 0, 0, 0, 0, 0, 0, 0, 0, 0, 0, 0, 0, 0, 0, 0, 0, 0, 0, 0, 0, 0, 0, 0, 0, 0, 0, 0, 0, 0, 0, 0, 0, 0, 0, 0, 0, 0, 0, 0, 0, 0, 0, 0, 0, 0, 0, 0, 0, 0, 0, 0, 0, 0, 0, 0, 0, 0, 0, 0, 0, 0, 0, 0, 0, 0, 0, 0, 0, 0, 0, 0, 0, 0, 0, 0, 0, 0, 0, 0, 0, 0, 0, 0, 0, 0, 0, 0, 0, 0, 0, 0, 0, 0, 0, 0, 0, 0, 0, 0, 0, 0, 0, 0, 0, 0, 0, 0, 0, 0, 0, 0, 0, 0, 0, 0, 0, 0, 0, 0, 0, 0, 0, 0, 0, 0, 0, 0, 0, 0, 0, 0, 0, 0, 0, 0, 0, 0, 0, 0, 0, 0, 0, 0, 0, 0, 0, 0, 0, 0, 0, 0, 0, 0, 0, 0, 0, 0, 0, 0, 0, 0, 0, 0, 0, 0, 0, 0], [1, 0, 0, 0, 0, 0, 0, 0, 0, 0, 0, 0, 0, 1, 1, 1, 1, 0, 0, 0, 0, 0, 0, 0, 0, 0, 0, 0, 0, 0, 0, 0, 0, 0, 0, 0, 0, 0, 0, 0, 0, 0, 0, 0, 0, 0, 0, 0, 0, 0, 0, 0, 0, 0, 0, 0, 0, 0, 0, 0, 0, 0, 0, 0, 0, 0, 0, 0, 0, 0, 0, 0, 0, 0, 0, 0, 0, 0, 0, 0, 0, 0, 0, 0, 0, 0, 0, 0, 0, 0, 0, 0, 0, 0, 0, 0, 0, 0, 0, 0, 0, 0, 0, 0, 0, 0, 0, 0, 0, 0, 0, 0, 0, 0, 0, 0, 0, 0, 0, 0, 0, 0, 0, 0, 0, 0, 0, 0, 0, 0, 0, 0, 0, 0, 0, 0, 0, 0, 0, 0, 0, 0, 0, 0, 0, 0, 0, 0, 0, 0, 0, 0, 0, 0, 0, 0, 0, 0, 0, 0, 0, 0, 0, 0, 0, 0, 0, 0, 0, 0, 0, 0, 0, 0, 0, 0, 0, 0, 0, 0, 0, 0, 0, 0, 0, 0, 0, 0, 0, 0, 0, 0, 0, 0, 0, 0, 0, 0, 0, 0, 0, 0, 0, 0, 0, 0, 0, 0, 0, 0, 0, 0, 0, 0, 0, 0, 0, 0, 0, 0, 0, 0, 0, 0, 0, 0, 0, 0, 0, 0, 0, 0, 0, 0, 0, 0, 0, 0, 0, 0, 0, 0, 0, 0, 0, 0, 0, 0, 0, 0, 0, 0, 0, 0, 0, 0, 0, 0, 0, 0, 0, 0, 0, 0, 0, 0, 0, 0, 0, 0, 0, 0, 0, 0, 0, 0, 0, 0, 0, 0, 0, 0, 0, 0, 0, 0, 0, 0, 0, 0, 0, 0, 0, 0, 0, 0, 0, 0, 0, 0, 0, 0, 0, 0, 0, 0, 0, 0, 0, 0, 0, 0, 0, 0, 0, 0, 0, 0, 0, 0, 0, 0, 0, 0, 0, 0, 0, 0, 0, 0, 0, 0, 0, 0, 0, 0, 0, 0, 0, 0, 0, 0, 0, 0, 0, 0, 0, 0, 0, 0, 0, 0, 0, 0, 0, 0, 0, 0, 0, 0, 0, 0, 0, 0, 0, 0, 0, 0, 0, 0, 0, 0, 0, 0, 0, 0, 0, 0, 0, 0, 0, 0, 0, 0, 0, 0, 0, 0, 0, 0, 0, 0, 0, 0, 0, 0, 0, 0, 0, 0, 0, 0, 0, 0, 0, 0, 0, 0, 0, 0, 0, 0, 0, 0, 0, 0, 0, 0, 0, 0, 0, 0, 0, 0, 0, 0, 0, 0, 0, 0, 0, 0, 0, 0, 0, 0, 0, 0, 0, 0, 0, 0, 0, 0, 0, 0, 0, 0, 0, 0, 0, 0, 0, 0, 0, 0, 0, 0, 0, 0, 0, 0, 0, 0, 0, 0, 0, 0, 0, 0, 0, 0, 0, 0, 0, 0, 0, 0, 0, 0, 0, 0, 0, 0, 0, 0, 0, 0, 0, 0, 0, 0, 0, 0, 0, 0, 0, 0, 0, 0, 0, 0, 0, 0, 0, 0, 0, 0, 0, 0, 0, 0, 0, 0, 0, 0, 0, 0, 0, 0, 0, 0, 0, 0, 0, 0, 0, 0, 0, 0, 0, 0, 0, 0, 0, 0, 0, 0, 0, 0, 0, 0, 0, 0, 0, 0, 0, 0, 0, 0, 0, 0, 0, 0, 0, 0, 0, 0, 0, 0, 0, 0, 0, 0, 0, 0, 0, 0, 0, 0, 0, 0, 0, 0, 0, 0, 0, 0, 0, 0, 0, 0, 0, 0, 0, 0, 0, 0, 0, 0, 0, 0, 0, 0, 0, 0, 0, 0, 0, 0, 0, 0, 0, 0, 0, 0, 0, 0, 0, 0, 0, 0, 0, 0, 0, 0, 0, 0, 0, 0, 0, 0, 0, 0, 0, 0, 0, 0, 0, 0, 0, 0, 0, 0, 0, 0, 0, 0, 0, 0, 0, 0, 0, 0, 0, 0, 0, 0, 0, 0, 0, 0, 0, 0, 0, 0, 0, 0, 0, 0, 0, 0, 0, 0, 0, 0, 0, 0, 0, 0, 0, 0, 0, 0, 0]]\n"
          ]
        }
      ]
    },
    {
      "cell_type": "code",
      "source": [
        "df['labels'] = cat_tag_list"
      ],
      "metadata": {
        "id": "-9GJl7m_dTOk"
      },
      "execution_count": null,
      "outputs": []
    },
    {
      "cell_type": "code",
      "source": [
        "df.head()"
      ],
      "metadata": {
        "colab": {
          "base_uri": "https://localhost:8080/",
          "height": 1000
        },
        "id": "GXNcmPf-dl6T",
        "outputId": "2fce9d56-3255-42da-8744-2783f0d7f8e1"
      },
      "execution_count": null,
      "outputs": [
        {
          "output_type": "execute_result",
          "data": {
            "text/plain": [
              "                                                                                      Quote  \\\n",
              "0                Age is an issue of mind over matter. If you don't mind, it doesn't matter.   \n",
              "1  A diplomat is a man who always remembers a woman's birthday but never remembers her age.   \n",
              "2                                                             Youth is wasted on the young.   \n",
              "3                              You can't help getting older, but you don't have to get old.   \n",
              "4         As I grow older, I pay less attention to what men say. I just watch what they do.   \n",
              "\n",
              "                Author Category  \\\n",
              "0           Mark Twain      Age   \n",
              "1         Robert Frost      Age   \n",
              "2  George Bernard Shaw      Age   \n",
              "3         George Burns      Age   \n",
              "4      Andrew Carnegie      Age   \n",
              "\n",
              "                                                                       Url  \\\n",
              "0           https://www.brainyquote.com/quotes/mark_twain_103892?src=t_age   \n",
              "1         https://www.brainyquote.com/quotes/robert_frost_107290?src=t_age   \n",
              "2  https://www.brainyquote.com/quotes/george_bernard_shaw_131494?src=t_age   \n",
              "3         https://www.brainyquote.com/quotes/george_burns_103932?src=t_age   \n",
              "4      https://www.brainyquote.com/quotes/andrew_carnegie_106123?src=t_age   \n",
              "\n",
              "                                             Tags  \\\n",
              "0      ['Age', 'Mind', 'Matter', 'Over', 'Issue']   \n",
              "1    ['Birthday', 'Age', 'Man', 'Never', 'Woman']   \n",
              "2             ['Age', 'Youth', 'Young', 'Wasted']   \n",
              "3  ['Age', 'Getting Older', 'Help', 'Old', 'Get']   \n",
              "4      ['Age', 'Men', 'Grow', 'Attention', 'Pay']   \n",
              "\n",
              "                         revised_tags  \\\n",
              "0           [Age, Mind, Matter, Over]   \n",
              "1  [Birthday, Age, Man, Never, Woman]   \n",
              "2                 [Age, Youth, Young]   \n",
              "3               [Age, Help, Old, Get]   \n",
              "4    [Age, Men, Grow, Attention, Pay]   \n",
              "\n",
              "                                                                                                                                                                                                                                                                                                              labels  \n",
              "0  [1, 1, 1, 1, 0, 0, 0, 0, 0, 0, 0, 0, 0, 0, 0, 0, 0, 0, 0, 0, 0, 0, 0, 0, 0, 0, 0, 0, 0, 0, 0, 0, 0, 0, 0, 0, 0, 0, 0, 0, 0, 0, 0, 0, 0, 0, 0, 0, 0, 0, 0, 0, 0, 0, 0, 0, 0, 0, 0, 0, 0, 0, 0, 0, 0, 0, 0, 0, 0, 0, 0, 0, 0, 0, 0, 0, 0, 0, 0, 0, 0, 0, 0, 0, 0, 0, 0, 0, 0, 0, 0, 0, 0, 0, 0, 0, 0, 0, 0, 0, ...]  \n",
              "1  [1, 0, 0, 0, 1, 1, 1, 1, 0, 0, 0, 0, 0, 0, 0, 0, 0, 0, 0, 0, 0, 0, 0, 0, 0, 0, 0, 0, 0, 0, 0, 0, 0, 0, 0, 0, 0, 0, 0, 0, 0, 0, 0, 0, 0, 0, 0, 0, 0, 0, 0, 0, 0, 0, 0, 0, 0, 0, 0, 0, 0, 0, 0, 0, 0, 0, 0, 0, 0, 0, 0, 0, 0, 0, 0, 0, 0, 0, 0, 0, 0, 0, 0, 0, 0, 0, 0, 0, 0, 0, 0, 0, 0, 0, 0, 0, 0, 0, 0, 0, ...]  \n",
              "2  [1, 0, 0, 0, 0, 0, 0, 0, 1, 1, 0, 0, 0, 0, 0, 0, 0, 0, 0, 0, 0, 0, 0, 0, 0, 0, 0, 0, 0, 0, 0, 0, 0, 0, 0, 0, 0, 0, 0, 0, 0, 0, 0, 0, 0, 0, 0, 0, 0, 0, 0, 0, 0, 0, 0, 0, 0, 0, 0, 0, 0, 0, 0, 0, 0, 0, 0, 0, 0, 0, 0, 0, 0, 0, 0, 0, 0, 0, 0, 0, 0, 0, 0, 0, 0, 0, 0, 0, 0, 0, 0, 0, 0, 0, 0, 0, 0, 0, 0, 0, ...]  \n",
              "3  [1, 0, 0, 0, 0, 0, 0, 0, 0, 0, 1, 1, 1, 0, 0, 0, 0, 0, 0, 0, 0, 0, 0, 0, 0, 0, 0, 0, 0, 0, 0, 0, 0, 0, 0, 0, 0, 0, 0, 0, 0, 0, 0, 0, 0, 0, 0, 0, 0, 0, 0, 0, 0, 0, 0, 0, 0, 0, 0, 0, 0, 0, 0, 0, 0, 0, 0, 0, 0, 0, 0, 0, 0, 0, 0, 0, 0, 0, 0, 0, 0, 0, 0, 0, 0, 0, 0, 0, 0, 0, 0, 0, 0, 0, 0, 0, 0, 0, 0, 0, ...]  \n",
              "4  [1, 0, 0, 0, 0, 0, 0, 0, 0, 0, 0, 0, 0, 1, 1, 1, 1, 0, 0, 0, 0, 0, 0, 0, 0, 0, 0, 0, 0, 0, 0, 0, 0, 0, 0, 0, 0, 0, 0, 0, 0, 0, 0, 0, 0, 0, 0, 0, 0, 0, 0, 0, 0, 0, 0, 0, 0, 0, 0, 0, 0, 0, 0, 0, 0, 0, 0, 0, 0, 0, 0, 0, 0, 0, 0, 0, 0, 0, 0, 0, 0, 0, 0, 0, 0, 0, 0, 0, 0, 0, 0, 0, 0, 0, 0, 0, 0, 0, 0, 0, ...]  "
            ],
            "text/html": [
              "\n",
              "  <div id=\"df-632038d0-13b1-4e5e-9ade-51cbe81e762b\" class=\"colab-df-container\">\n",
              "    <div>\n",
              "<style scoped>\n",
              "    .dataframe tbody tr th:only-of-type {\n",
              "        vertical-align: middle;\n",
              "    }\n",
              "\n",
              "    .dataframe tbody tr th {\n",
              "        vertical-align: top;\n",
              "    }\n",
              "\n",
              "    .dataframe thead th {\n",
              "        text-align: right;\n",
              "    }\n",
              "</style>\n",
              "<table border=\"1\" class=\"dataframe\">\n",
              "  <thead>\n",
              "    <tr style=\"text-align: right;\">\n",
              "      <th></th>\n",
              "      <th>Quote</th>\n",
              "      <th>Author</th>\n",
              "      <th>Category</th>\n",
              "      <th>Url</th>\n",
              "      <th>Tags</th>\n",
              "      <th>revised_tags</th>\n",
              "      <th>labels</th>\n",
              "    </tr>\n",
              "  </thead>\n",
              "  <tbody>\n",
              "    <tr>\n",
              "      <th>0</th>\n",
              "      <td>Age is an issue of mind over matter. If you don't mind, it doesn't matter.</td>\n",
              "      <td>Mark Twain</td>\n",
              "      <td>Age</td>\n",
              "      <td>https://www.brainyquote.com/quotes/mark_twain_103892?src=t_age</td>\n",
              "      <td>['Age', 'Mind', 'Matter', 'Over', 'Issue']</td>\n",
              "      <td>[Age, Mind, Matter, Over]</td>\n",
              "      <td>[1, 1, 1, 1, 0, 0, 0, 0, 0, 0, 0, 0, 0, 0, 0, 0, 0, 0, 0, 0, 0, 0, 0, 0, 0, 0, 0, 0, 0, 0, 0, 0, 0, 0, 0, 0, 0, 0, 0, 0, 0, 0, 0, 0, 0, 0, 0, 0, 0, 0, 0, 0, 0, 0, 0, 0, 0, 0, 0, 0, 0, 0, 0, 0, 0, 0, 0, 0, 0, 0, 0, 0, 0, 0, 0, 0, 0, 0, 0, 0, 0, 0, 0, 0, 0, 0, 0, 0, 0, 0, 0, 0, 0, 0, 0, 0, 0, 0, 0, 0, ...]</td>\n",
              "    </tr>\n",
              "    <tr>\n",
              "      <th>1</th>\n",
              "      <td>A diplomat is a man who always remembers a woman's birthday but never remembers her age.</td>\n",
              "      <td>Robert Frost</td>\n",
              "      <td>Age</td>\n",
              "      <td>https://www.brainyquote.com/quotes/robert_frost_107290?src=t_age</td>\n",
              "      <td>['Birthday', 'Age', 'Man', 'Never', 'Woman']</td>\n",
              "      <td>[Birthday, Age, Man, Never, Woman]</td>\n",
              "      <td>[1, 0, 0, 0, 1, 1, 1, 1, 0, 0, 0, 0, 0, 0, 0, 0, 0, 0, 0, 0, 0, 0, 0, 0, 0, 0, 0, 0, 0, 0, 0, 0, 0, 0, 0, 0, 0, 0, 0, 0, 0, 0, 0, 0, 0, 0, 0, 0, 0, 0, 0, 0, 0, 0, 0, 0, 0, 0, 0, 0, 0, 0, 0, 0, 0, 0, 0, 0, 0, 0, 0, 0, 0, 0, 0, 0, 0, 0, 0, 0, 0, 0, 0, 0, 0, 0, 0, 0, 0, 0, 0, 0, 0, 0, 0, 0, 0, 0, 0, 0, ...]</td>\n",
              "    </tr>\n",
              "    <tr>\n",
              "      <th>2</th>\n",
              "      <td>Youth is wasted on the young.</td>\n",
              "      <td>George Bernard Shaw</td>\n",
              "      <td>Age</td>\n",
              "      <td>https://www.brainyquote.com/quotes/george_bernard_shaw_131494?src=t_age</td>\n",
              "      <td>['Age', 'Youth', 'Young', 'Wasted']</td>\n",
              "      <td>[Age, Youth, Young]</td>\n",
              "      <td>[1, 0, 0, 0, 0, 0, 0, 0, 1, 1, 0, 0, 0, 0, 0, 0, 0, 0, 0, 0, 0, 0, 0, 0, 0, 0, 0, 0, 0, 0, 0, 0, 0, 0, 0, 0, 0, 0, 0, 0, 0, 0, 0, 0, 0, 0, 0, 0, 0, 0, 0, 0, 0, 0, 0, 0, 0, 0, 0, 0, 0, 0, 0, 0, 0, 0, 0, 0, 0, 0, 0, 0, 0, 0, 0, 0, 0, 0, 0, 0, 0, 0, 0, 0, 0, 0, 0, 0, 0, 0, 0, 0, 0, 0, 0, 0, 0, 0, 0, 0, ...]</td>\n",
              "    </tr>\n",
              "    <tr>\n",
              "      <th>3</th>\n",
              "      <td>You can't help getting older, but you don't have to get old.</td>\n",
              "      <td>George Burns</td>\n",
              "      <td>Age</td>\n",
              "      <td>https://www.brainyquote.com/quotes/george_burns_103932?src=t_age</td>\n",
              "      <td>['Age', 'Getting Older', 'Help', 'Old', 'Get']</td>\n",
              "      <td>[Age, Help, Old, Get]</td>\n",
              "      <td>[1, 0, 0, 0, 0, 0, 0, 0, 0, 0, 1, 1, 1, 0, 0, 0, 0, 0, 0, 0, 0, 0, 0, 0, 0, 0, 0, 0, 0, 0, 0, 0, 0, 0, 0, 0, 0, 0, 0, 0, 0, 0, 0, 0, 0, 0, 0, 0, 0, 0, 0, 0, 0, 0, 0, 0, 0, 0, 0, 0, 0, 0, 0, 0, 0, 0, 0, 0, 0, 0, 0, 0, 0, 0, 0, 0, 0, 0, 0, 0, 0, 0, 0, 0, 0, 0, 0, 0, 0, 0, 0, 0, 0, 0, 0, 0, 0, 0, 0, 0, ...]</td>\n",
              "    </tr>\n",
              "    <tr>\n",
              "      <th>4</th>\n",
              "      <td>As I grow older, I pay less attention to what men say. I just watch what they do.</td>\n",
              "      <td>Andrew Carnegie</td>\n",
              "      <td>Age</td>\n",
              "      <td>https://www.brainyquote.com/quotes/andrew_carnegie_106123?src=t_age</td>\n",
              "      <td>['Age', 'Men', 'Grow', 'Attention', 'Pay']</td>\n",
              "      <td>[Age, Men, Grow, Attention, Pay]</td>\n",
              "      <td>[1, 0, 0, 0, 0, 0, 0, 0, 0, 0, 0, 0, 0, 1, 1, 1, 1, 0, 0, 0, 0, 0, 0, 0, 0, 0, 0, 0, 0, 0, 0, 0, 0, 0, 0, 0, 0, 0, 0, 0, 0, 0, 0, 0, 0, 0, 0, 0, 0, 0, 0, 0, 0, 0, 0, 0, 0, 0, 0, 0, 0, 0, 0, 0, 0, 0, 0, 0, 0, 0, 0, 0, 0, 0, 0, 0, 0, 0, 0, 0, 0, 0, 0, 0, 0, 0, 0, 0, 0, 0, 0, 0, 0, 0, 0, 0, 0, 0, 0, 0, ...]</td>\n",
              "    </tr>\n",
              "  </tbody>\n",
              "</table>\n",
              "</div>\n",
              "    <div class=\"colab-df-buttons\">\n",
              "\n",
              "  <div class=\"colab-df-container\">\n",
              "    <button class=\"colab-df-convert\" onclick=\"convertToInteractive('df-632038d0-13b1-4e5e-9ade-51cbe81e762b')\"\n",
              "            title=\"Convert this dataframe to an interactive table.\"\n",
              "            style=\"display:none;\">\n",
              "\n",
              "  <svg xmlns=\"http://www.w3.org/2000/svg\" height=\"24px\" viewBox=\"0 -960 960 960\">\n",
              "    <path d=\"M120-120v-720h720v720H120Zm60-500h600v-160H180v160Zm220 220h160v-160H400v160Zm0 220h160v-160H400v160ZM180-400h160v-160H180v160Zm440 0h160v-160H620v160ZM180-180h160v-160H180v160Zm440 0h160v-160H620v160Z\"/>\n",
              "  </svg>\n",
              "    </button>\n",
              "\n",
              "  <style>\n",
              "    .colab-df-container {\n",
              "      display:flex;\n",
              "      gap: 12px;\n",
              "    }\n",
              "\n",
              "    .colab-df-convert {\n",
              "      background-color: #E8F0FE;\n",
              "      border: none;\n",
              "      border-radius: 50%;\n",
              "      cursor: pointer;\n",
              "      display: none;\n",
              "      fill: #1967D2;\n",
              "      height: 32px;\n",
              "      padding: 0 0 0 0;\n",
              "      width: 32px;\n",
              "    }\n",
              "\n",
              "    .colab-df-convert:hover {\n",
              "      background-color: #E2EBFA;\n",
              "      box-shadow: 0px 1px 2px rgba(60, 64, 67, 0.3), 0px 1px 3px 1px rgba(60, 64, 67, 0.15);\n",
              "      fill: #174EA6;\n",
              "    }\n",
              "\n",
              "    .colab-df-buttons div {\n",
              "      margin-bottom: 4px;\n",
              "    }\n",
              "\n",
              "    [theme=dark] .colab-df-convert {\n",
              "      background-color: #3B4455;\n",
              "      fill: #D2E3FC;\n",
              "    }\n",
              "\n",
              "    [theme=dark] .colab-df-convert:hover {\n",
              "      background-color: #434B5C;\n",
              "      box-shadow: 0px 1px 3px 1px rgba(0, 0, 0, 0.15);\n",
              "      filter: drop-shadow(0px 1px 2px rgba(0, 0, 0, 0.3));\n",
              "      fill: #FFFFFF;\n",
              "    }\n",
              "  </style>\n",
              "\n",
              "    <script>\n",
              "      const buttonEl =\n",
              "        document.querySelector('#df-632038d0-13b1-4e5e-9ade-51cbe81e762b button.colab-df-convert');\n",
              "      buttonEl.style.display =\n",
              "        google.colab.kernel.accessAllowed ? 'block' : 'none';\n",
              "\n",
              "      async function convertToInteractive(key) {\n",
              "        const element = document.querySelector('#df-632038d0-13b1-4e5e-9ade-51cbe81e762b');\n",
              "        const dataTable =\n",
              "          await google.colab.kernel.invokeFunction('convertToInteractive',\n",
              "                                                    [key], {});\n",
              "        if (!dataTable) return;\n",
              "\n",
              "        const docLinkHtml = 'Like what you see? Visit the ' +\n",
              "          '<a target=\"_blank\" href=https://colab.research.google.com/notebooks/data_table.ipynb>data table notebook</a>'\n",
              "          + ' to learn more about interactive tables.';\n",
              "        element.innerHTML = '';\n",
              "        dataTable['output_type'] = 'display_data';\n",
              "        await google.colab.output.renderOutput(dataTable, element);\n",
              "        const docLink = document.createElement('div');\n",
              "        docLink.innerHTML = docLinkHtml;\n",
              "        element.appendChild(docLink);\n",
              "      }\n",
              "    </script>\n",
              "  </div>\n",
              "\n",
              "\n",
              "<div id=\"df-c10bc4c6-4bc3-4fd5-bf24-76cec9675a2a\">\n",
              "  <button class=\"colab-df-quickchart\" onclick=\"quickchart('df-c10bc4c6-4bc3-4fd5-bf24-76cec9675a2a')\"\n",
              "            title=\"Suggest charts\"\n",
              "            style=\"display:none;\">\n",
              "\n",
              "<svg xmlns=\"http://www.w3.org/2000/svg\" height=\"24px\"viewBox=\"0 0 24 24\"\n",
              "     width=\"24px\">\n",
              "    <g>\n",
              "        <path d=\"M19 3H5c-1.1 0-2 .9-2 2v14c0 1.1.9 2 2 2h14c1.1 0 2-.9 2-2V5c0-1.1-.9-2-2-2zM9 17H7v-7h2v7zm4 0h-2V7h2v10zm4 0h-2v-4h2v4z\"/>\n",
              "    </g>\n",
              "</svg>\n",
              "  </button>\n",
              "\n",
              "<style>\n",
              "  .colab-df-quickchart {\n",
              "      --bg-color: #E8F0FE;\n",
              "      --fill-color: #1967D2;\n",
              "      --hover-bg-color: #E2EBFA;\n",
              "      --hover-fill-color: #174EA6;\n",
              "      --disabled-fill-color: #AAA;\n",
              "      --disabled-bg-color: #DDD;\n",
              "  }\n",
              "\n",
              "  [theme=dark] .colab-df-quickchart {\n",
              "      --bg-color: #3B4455;\n",
              "      --fill-color: #D2E3FC;\n",
              "      --hover-bg-color: #434B5C;\n",
              "      --hover-fill-color: #FFFFFF;\n",
              "      --disabled-bg-color: #3B4455;\n",
              "      --disabled-fill-color: #666;\n",
              "  }\n",
              "\n",
              "  .colab-df-quickchart {\n",
              "    background-color: var(--bg-color);\n",
              "    border: none;\n",
              "    border-radius: 50%;\n",
              "    cursor: pointer;\n",
              "    display: none;\n",
              "    fill: var(--fill-color);\n",
              "    height: 32px;\n",
              "    padding: 0;\n",
              "    width: 32px;\n",
              "  }\n",
              "\n",
              "  .colab-df-quickchart:hover {\n",
              "    background-color: var(--hover-bg-color);\n",
              "    box-shadow: 0 1px 2px rgba(60, 64, 67, 0.3), 0 1px 3px 1px rgba(60, 64, 67, 0.15);\n",
              "    fill: var(--button-hover-fill-color);\n",
              "  }\n",
              "\n",
              "  .colab-df-quickchart-complete:disabled,\n",
              "  .colab-df-quickchart-complete:disabled:hover {\n",
              "    background-color: var(--disabled-bg-color);\n",
              "    fill: var(--disabled-fill-color);\n",
              "    box-shadow: none;\n",
              "  }\n",
              "\n",
              "  .colab-df-spinner {\n",
              "    border: 2px solid var(--fill-color);\n",
              "    border-color: transparent;\n",
              "    border-bottom-color: var(--fill-color);\n",
              "    animation:\n",
              "      spin 1s steps(1) infinite;\n",
              "  }\n",
              "\n",
              "  @keyframes spin {\n",
              "    0% {\n",
              "      border-color: transparent;\n",
              "      border-bottom-color: var(--fill-color);\n",
              "      border-left-color: var(--fill-color);\n",
              "    }\n",
              "    20% {\n",
              "      border-color: transparent;\n",
              "      border-left-color: var(--fill-color);\n",
              "      border-top-color: var(--fill-color);\n",
              "    }\n",
              "    30% {\n",
              "      border-color: transparent;\n",
              "      border-left-color: var(--fill-color);\n",
              "      border-top-color: var(--fill-color);\n",
              "      border-right-color: var(--fill-color);\n",
              "    }\n",
              "    40% {\n",
              "      border-color: transparent;\n",
              "      border-right-color: var(--fill-color);\n",
              "      border-top-color: var(--fill-color);\n",
              "    }\n",
              "    60% {\n",
              "      border-color: transparent;\n",
              "      border-right-color: var(--fill-color);\n",
              "    }\n",
              "    80% {\n",
              "      border-color: transparent;\n",
              "      border-right-color: var(--fill-color);\n",
              "      border-bottom-color: var(--fill-color);\n",
              "    }\n",
              "    90% {\n",
              "      border-color: transparent;\n",
              "      border-bottom-color: var(--fill-color);\n",
              "    }\n",
              "  }\n",
              "</style>\n",
              "\n",
              "  <script>\n",
              "    async function quickchart(key) {\n",
              "      const quickchartButtonEl =\n",
              "        document.querySelector('#' + key + ' button');\n",
              "      quickchartButtonEl.disabled = true;  // To prevent multiple clicks.\n",
              "      quickchartButtonEl.classList.add('colab-df-spinner');\n",
              "      try {\n",
              "        const charts = await google.colab.kernel.invokeFunction(\n",
              "            'suggestCharts', [key], {});\n",
              "      } catch (error) {\n",
              "        console.error('Error during call to suggestCharts:', error);\n",
              "      }\n",
              "      quickchartButtonEl.classList.remove('colab-df-spinner');\n",
              "      quickchartButtonEl.classList.add('colab-df-quickchart-complete');\n",
              "    }\n",
              "    (() => {\n",
              "      let quickchartButtonEl =\n",
              "        document.querySelector('#df-c10bc4c6-4bc3-4fd5-bf24-76cec9675a2a button');\n",
              "      quickchartButtonEl.style.display =\n",
              "        google.colab.kernel.accessAllowed ? 'block' : 'none';\n",
              "    })();\n",
              "  </script>\n",
              "</div>\n",
              "\n",
              "    </div>\n",
              "  </div>\n"
            ]
          },
          "metadata": {},
          "execution_count": 38
        }
      ]
    },
    {
      "cell_type": "code",
      "source": [
        "df.to_csv(\"prep_quotes.csv\", index = False)"
      ],
      "metadata": {
        "id": "h3wcEGQedtT6"
      },
      "execution_count": null,
      "outputs": []
    },
    {
      "cell_type": "markdown",
      "source": [
        "# Dataloader"
      ],
      "metadata": {
        "id": "Zonn7cbmeQxF"
      }
    },
    {
      "cell_type": "code",
      "source": [
        "os.listdir()"
      ],
      "metadata": {
        "colab": {
          "base_uri": "https://localhost:8080/"
        },
        "id": "ieU7aZhReaPl",
        "outputId": "c53e5cb0-b33a-4e3d-8cb3-65ef5ec56f71"
      },
      "execution_count": null,
      "outputs": [
        {
          "output_type": "execute_result",
          "data": {
            "text/plain": [
              "['quotes_data.csv',\n",
              " 'tag_types_encoded.json',\n",
              " 'prep_quotes.csv',\n",
              " 'dataloaders',\n",
              " 'models',\n",
              " 'quotes.ipynb']"
            ]
          },
          "metadata": {},
          "execution_count": 8
        }
      ]
    },
    {
      "cell_type": "code",
      "source": [
        "df = pd.read_csv('prep_quotes.csv')"
      ],
      "metadata": {
        "id": "D5EFQi1Od71U"
      },
      "execution_count": null,
      "outputs": []
    },
    {
      "cell_type": "code",
      "source": [
        "len(df)"
      ],
      "metadata": {
        "id": "jEiwXLXAkCtL",
        "outputId": "cf82395a-e2f9-45e4-808f-9baf188a2282",
        "colab": {
          "base_uri": "https://localhost:8080/"
        }
      },
      "execution_count": null,
      "outputs": [
        {
          "output_type": "execute_result",
          "data": {
            "text/plain": [
              "101201"
            ]
          },
          "metadata": {},
          "execution_count": 14
        }
      ]
    },
    {
      "cell_type": "code",
      "source": [
        "df.head()"
      ],
      "metadata": {
        "id": "PqdenH0KeiGV",
        "colab": {
          "base_uri": "https://localhost:8080/",
          "height": 1000
        },
        "outputId": "43b5811d-50db-41d6-c59b-020442746cf5"
      },
      "execution_count": null,
      "outputs": [
        {
          "output_type": "execute_result",
          "data": {
            "text/plain": [
              "                                                                                      Quote  \\\n",
              "0                Age is an issue of mind over matter. If you don't mind, it doesn't matter.   \n",
              "1  A diplomat is a man who always remembers a woman's birthday but never remembers her age.   \n",
              "2                                                             Youth is wasted on the young.   \n",
              "3                              You can't help getting older, but you don't have to get old.   \n",
              "4         As I grow older, I pay less attention to what men say. I just watch what they do.   \n",
              "\n",
              "                Author Category  \\\n",
              "0           Mark Twain      Age   \n",
              "1         Robert Frost      Age   \n",
              "2  George Bernard Shaw      Age   \n",
              "3         George Burns      Age   \n",
              "4      Andrew Carnegie      Age   \n",
              "\n",
              "                                                                       Url  \\\n",
              "0           https://www.brainyquote.com/quotes/mark_twain_103892?src=t_age   \n",
              "1         https://www.brainyquote.com/quotes/robert_frost_107290?src=t_age   \n",
              "2  https://www.brainyquote.com/quotes/george_bernard_shaw_131494?src=t_age   \n",
              "3         https://www.brainyquote.com/quotes/george_burns_103932?src=t_age   \n",
              "4      https://www.brainyquote.com/quotes/andrew_carnegie_106123?src=t_age   \n",
              "\n",
              "                                             Tags  \\\n",
              "0      ['Age', 'Mind', 'Matter', 'Over', 'Issue']   \n",
              "1    ['Birthday', 'Age', 'Man', 'Never', 'Woman']   \n",
              "2             ['Age', 'Youth', 'Young', 'Wasted']   \n",
              "3  ['Age', 'Getting Older', 'Help', 'Old', 'Get']   \n",
              "4      ['Age', 'Men', 'Grow', 'Attention', 'Pay']   \n",
              "\n",
              "                                   revised_tags  \\\n",
              "0             ['Age', 'Mind', 'Matter', 'Over']   \n",
              "1  ['Birthday', 'Age', 'Man', 'Never', 'Woman']   \n",
              "2                     ['Age', 'Youth', 'Young']   \n",
              "3                 ['Age', 'Help', 'Old', 'Get']   \n",
              "4    ['Age', 'Men', 'Grow', 'Attention', 'Pay']   \n",
              "\n",
              "                                                                                                                                                                                                                                                                                                                                                                                                                                                                                                                                                                                                                    labels  \n",
              "0  [1, 1, 1, 1, 0, 0, 0, 0, 0, 0, 0, 0, 0, 0, 0, 0, 0, 0, 0, 0, 0, 0, 0, 0, 0, 0, 0, 0, 0, 0, 0, 0, 0, 0, 0, 0, 0, 0, 0, 0, 0, 0, 0, 0, 0, 0, 0, 0, 0, 0, 0, 0, 0, 0, 0, 0, 0, 0, 0, 0, 0, 0, 0, 0, 0, 0, 0, 0, 0, 0, 0, 0, 0, 0, 0, 0, 0, 0, 0, 0, 0, 0, 0, 0, 0, 0, 0, 0, 0, 0, 0, 0, 0, 0, 0, 0, 0, 0, 0, 0, 0, 0, 0, 0, 0, 0, 0, 0, 0, 0, 0, 0, 0, 0, 0, 0, 0, 0, 0, 0, 0, 0, 0, 0, 0, 0, 0, 0, 0, 0, 0, 0, 0, 0, 0, 0, 0, 0, 0, 0, 0, 0, 0, 0, 0, 0, 0, 0, 0, 0, 0, 0, 0, 0, 0, 0, 0, 0, 0, 0, 0, 0, 0, 0, 0, 0, 0, 0, 0, 0, 0, 0, 0, 0, 0, 0, 0, 0, 0, 0, 0, 0, 0, 0, 0, 0, 0, 0, 0, 0, 0, 0, 0, 0, 0, 0, 0, 0, 0...  \n",
              "1  [1, 0, 0, 0, 1, 1, 1, 1, 0, 0, 0, 0, 0, 0, 0, 0, 0, 0, 0, 0, 0, 0, 0, 0, 0, 0, 0, 0, 0, 0, 0, 0, 0, 0, 0, 0, 0, 0, 0, 0, 0, 0, 0, 0, 0, 0, 0, 0, 0, 0, 0, 0, 0, 0, 0, 0, 0, 0, 0, 0, 0, 0, 0, 0, 0, 0, 0, 0, 0, 0, 0, 0, 0, 0, 0, 0, 0, 0, 0, 0, 0, 0, 0, 0, 0, 0, 0, 0, 0, 0, 0, 0, 0, 0, 0, 0, 0, 0, 0, 0, 0, 0, 0, 0, 0, 0, 0, 0, 0, 0, 0, 0, 0, 0, 0, 0, 0, 0, 0, 0, 0, 0, 0, 0, 0, 0, 0, 0, 0, 0, 0, 0, 0, 0, 0, 0, 0, 0, 0, 0, 0, 0, 0, 0, 0, 0, 0, 0, 0, 0, 0, 0, 0, 0, 0, 0, 0, 0, 0, 0, 0, 0, 0, 0, 0, 0, 0, 0, 0, 0, 0, 0, 0, 0, 0, 0, 0, 0, 0, 0, 0, 0, 0, 0, 0, 0, 0, 0, 0, 0, 0, 0, 0, 0, 0, 0, 0, 0, 0...  \n",
              "2  [1, 0, 0, 0, 0, 0, 0, 0, 1, 1, 0, 0, 0, 0, 0, 0, 0, 0, 0, 0, 0, 0, 0, 0, 0, 0, 0, 0, 0, 0, 0, 0, 0, 0, 0, 0, 0, 0, 0, 0, 0, 0, 0, 0, 0, 0, 0, 0, 0, 0, 0, 0, 0, 0, 0, 0, 0, 0, 0, 0, 0, 0, 0, 0, 0, 0, 0, 0, 0, 0, 0, 0, 0, 0, 0, 0, 0, 0, 0, 0, 0, 0, 0, 0, 0, 0, 0, 0, 0, 0, 0, 0, 0, 0, 0, 0, 0, 0, 0, 0, 0, 0, 0, 0, 0, 0, 0, 0, 0, 0, 0, 0, 0, 0, 0, 0, 0, 0, 0, 0, 0, 0, 0, 0, 0, 0, 0, 0, 0, 0, 0, 0, 0, 0, 0, 0, 0, 0, 0, 0, 0, 0, 0, 0, 0, 0, 0, 0, 0, 0, 0, 0, 0, 0, 0, 0, 0, 0, 0, 0, 0, 0, 0, 0, 0, 0, 0, 0, 0, 0, 0, 0, 0, 0, 0, 0, 0, 0, 0, 0, 0, 0, 0, 0, 0, 0, 0, 0, 0, 0, 0, 0, 0, 0, 0, 0, 0, 0, 0...  \n",
              "3  [1, 0, 0, 0, 0, 0, 0, 0, 0, 0, 1, 1, 1, 0, 0, 0, 0, 0, 0, 0, 0, 0, 0, 0, 0, 0, 0, 0, 0, 0, 0, 0, 0, 0, 0, 0, 0, 0, 0, 0, 0, 0, 0, 0, 0, 0, 0, 0, 0, 0, 0, 0, 0, 0, 0, 0, 0, 0, 0, 0, 0, 0, 0, 0, 0, 0, 0, 0, 0, 0, 0, 0, 0, 0, 0, 0, 0, 0, 0, 0, 0, 0, 0, 0, 0, 0, 0, 0, 0, 0, 0, 0, 0, 0, 0, 0, 0, 0, 0, 0, 0, 0, 0, 0, 0, 0, 0, 0, 0, 0, 0, 0, 0, 0, 0, 0, 0, 0, 0, 0, 0, 0, 0, 0, 0, 0, 0, 0, 0, 0, 0, 0, 0, 0, 0, 0, 0, 0, 0, 0, 0, 0, 0, 0, 0, 0, 0, 0, 0, 0, 0, 0, 0, 0, 0, 0, 0, 0, 0, 0, 0, 0, 0, 0, 0, 0, 0, 0, 0, 0, 0, 0, 0, 0, 0, 0, 0, 0, 0, 0, 0, 0, 0, 0, 0, 0, 0, 0, 0, 0, 0, 0, 0, 0, 0, 0, 0, 0, 0...  \n",
              "4  [1, 0, 0, 0, 0, 0, 0, 0, 0, 0, 0, 0, 0, 1, 1, 1, 1, 0, 0, 0, 0, 0, 0, 0, 0, 0, 0, 0, 0, 0, 0, 0, 0, 0, 0, 0, 0, 0, 0, 0, 0, 0, 0, 0, 0, 0, 0, 0, 0, 0, 0, 0, 0, 0, 0, 0, 0, 0, 0, 0, 0, 0, 0, 0, 0, 0, 0, 0, 0, 0, 0, 0, 0, 0, 0, 0, 0, 0, 0, 0, 0, 0, 0, 0, 0, 0, 0, 0, 0, 0, 0, 0, 0, 0, 0, 0, 0, 0, 0, 0, 0, 0, 0, 0, 0, 0, 0, 0, 0, 0, 0, 0, 0, 0, 0, 0, 0, 0, 0, 0, 0, 0, 0, 0, 0, 0, 0, 0, 0, 0, 0, 0, 0, 0, 0, 0, 0, 0, 0, 0, 0, 0, 0, 0, 0, 0, 0, 0, 0, 0, 0, 0, 0, 0, 0, 0, 0, 0, 0, 0, 0, 0, 0, 0, 0, 0, 0, 0, 0, 0, 0, 0, 0, 0, 0, 0, 0, 0, 0, 0, 0, 0, 0, 0, 0, 0, 0, 0, 0, 0, 0, 0, 0, 0, 0, 0, 0, 0, 0...  "
            ],
            "text/html": [
              "\n",
              "  <div id=\"df-5562d0f4-1d81-46c6-9dc2-a5d9e2a70914\" class=\"colab-df-container\">\n",
              "    <div>\n",
              "<style scoped>\n",
              "    .dataframe tbody tr th:only-of-type {\n",
              "        vertical-align: middle;\n",
              "    }\n",
              "\n",
              "    .dataframe tbody tr th {\n",
              "        vertical-align: top;\n",
              "    }\n",
              "\n",
              "    .dataframe thead th {\n",
              "        text-align: right;\n",
              "    }\n",
              "</style>\n",
              "<table border=\"1\" class=\"dataframe\">\n",
              "  <thead>\n",
              "    <tr style=\"text-align: right;\">\n",
              "      <th></th>\n",
              "      <th>Quote</th>\n",
              "      <th>Author</th>\n",
              "      <th>Category</th>\n",
              "      <th>Url</th>\n",
              "      <th>Tags</th>\n",
              "      <th>revised_tags</th>\n",
              "      <th>labels</th>\n",
              "    </tr>\n",
              "  </thead>\n",
              "  <tbody>\n",
              "    <tr>\n",
              "      <th>0</th>\n",
              "      <td>Age is an issue of mind over matter. If you don't mind, it doesn't matter.</td>\n",
              "      <td>Mark Twain</td>\n",
              "      <td>Age</td>\n",
              "      <td>https://www.brainyquote.com/quotes/mark_twain_103892?src=t_age</td>\n",
              "      <td>['Age', 'Mind', 'Matter', 'Over', 'Issue']</td>\n",
              "      <td>['Age', 'Mind', 'Matter', 'Over']</td>\n",
              "      <td>[1, 1, 1, 1, 0, 0, 0, 0, 0, 0, 0, 0, 0, 0, 0, 0, 0, 0, 0, 0, 0, 0, 0, 0, 0, 0, 0, 0, 0, 0, 0, 0, 0, 0, 0, 0, 0, 0, 0, 0, 0, 0, 0, 0, 0, 0, 0, 0, 0, 0, 0, 0, 0, 0, 0, 0, 0, 0, 0, 0, 0, 0, 0, 0, 0, 0, 0, 0, 0, 0, 0, 0, 0, 0, 0, 0, 0, 0, 0, 0, 0, 0, 0, 0, 0, 0, 0, 0, 0, 0, 0, 0, 0, 0, 0, 0, 0, 0, 0, 0, 0, 0, 0, 0, 0, 0, 0, 0, 0, 0, 0, 0, 0, 0, 0, 0, 0, 0, 0, 0, 0, 0, 0, 0, 0, 0, 0, 0, 0, 0, 0, 0, 0, 0, 0, 0, 0, 0, 0, 0, 0, 0, 0, 0, 0, 0, 0, 0, 0, 0, 0, 0, 0, 0, 0, 0, 0, 0, 0, 0, 0, 0, 0, 0, 0, 0, 0, 0, 0, 0, 0, 0, 0, 0, 0, 0, 0, 0, 0, 0, 0, 0, 0, 0, 0, 0, 0, 0, 0, 0, 0, 0, 0, 0, 0, 0, 0, 0, 0...</td>\n",
              "    </tr>\n",
              "    <tr>\n",
              "      <th>1</th>\n",
              "      <td>A diplomat is a man who always remembers a woman's birthday but never remembers her age.</td>\n",
              "      <td>Robert Frost</td>\n",
              "      <td>Age</td>\n",
              "      <td>https://www.brainyquote.com/quotes/robert_frost_107290?src=t_age</td>\n",
              "      <td>['Birthday', 'Age', 'Man', 'Never', 'Woman']</td>\n",
              "      <td>['Birthday', 'Age', 'Man', 'Never', 'Woman']</td>\n",
              "      <td>[1, 0, 0, 0, 1, 1, 1, 1, 0, 0, 0, 0, 0, 0, 0, 0, 0, 0, 0, 0, 0, 0, 0, 0, 0, 0, 0, 0, 0, 0, 0, 0, 0, 0, 0, 0, 0, 0, 0, 0, 0, 0, 0, 0, 0, 0, 0, 0, 0, 0, 0, 0, 0, 0, 0, 0, 0, 0, 0, 0, 0, 0, 0, 0, 0, 0, 0, 0, 0, 0, 0, 0, 0, 0, 0, 0, 0, 0, 0, 0, 0, 0, 0, 0, 0, 0, 0, 0, 0, 0, 0, 0, 0, 0, 0, 0, 0, 0, 0, 0, 0, 0, 0, 0, 0, 0, 0, 0, 0, 0, 0, 0, 0, 0, 0, 0, 0, 0, 0, 0, 0, 0, 0, 0, 0, 0, 0, 0, 0, 0, 0, 0, 0, 0, 0, 0, 0, 0, 0, 0, 0, 0, 0, 0, 0, 0, 0, 0, 0, 0, 0, 0, 0, 0, 0, 0, 0, 0, 0, 0, 0, 0, 0, 0, 0, 0, 0, 0, 0, 0, 0, 0, 0, 0, 0, 0, 0, 0, 0, 0, 0, 0, 0, 0, 0, 0, 0, 0, 0, 0, 0, 0, 0, 0, 0, 0, 0, 0, 0...</td>\n",
              "    </tr>\n",
              "    <tr>\n",
              "      <th>2</th>\n",
              "      <td>Youth is wasted on the young.</td>\n",
              "      <td>George Bernard Shaw</td>\n",
              "      <td>Age</td>\n",
              "      <td>https://www.brainyquote.com/quotes/george_bernard_shaw_131494?src=t_age</td>\n",
              "      <td>['Age', 'Youth', 'Young', 'Wasted']</td>\n",
              "      <td>['Age', 'Youth', 'Young']</td>\n",
              "      <td>[1, 0, 0, 0, 0, 0, 0, 0, 1, 1, 0, 0, 0, 0, 0, 0, 0, 0, 0, 0, 0, 0, 0, 0, 0, 0, 0, 0, 0, 0, 0, 0, 0, 0, 0, 0, 0, 0, 0, 0, 0, 0, 0, 0, 0, 0, 0, 0, 0, 0, 0, 0, 0, 0, 0, 0, 0, 0, 0, 0, 0, 0, 0, 0, 0, 0, 0, 0, 0, 0, 0, 0, 0, 0, 0, 0, 0, 0, 0, 0, 0, 0, 0, 0, 0, 0, 0, 0, 0, 0, 0, 0, 0, 0, 0, 0, 0, 0, 0, 0, 0, 0, 0, 0, 0, 0, 0, 0, 0, 0, 0, 0, 0, 0, 0, 0, 0, 0, 0, 0, 0, 0, 0, 0, 0, 0, 0, 0, 0, 0, 0, 0, 0, 0, 0, 0, 0, 0, 0, 0, 0, 0, 0, 0, 0, 0, 0, 0, 0, 0, 0, 0, 0, 0, 0, 0, 0, 0, 0, 0, 0, 0, 0, 0, 0, 0, 0, 0, 0, 0, 0, 0, 0, 0, 0, 0, 0, 0, 0, 0, 0, 0, 0, 0, 0, 0, 0, 0, 0, 0, 0, 0, 0, 0, 0, 0, 0, 0, 0...</td>\n",
              "    </tr>\n",
              "    <tr>\n",
              "      <th>3</th>\n",
              "      <td>You can't help getting older, but you don't have to get old.</td>\n",
              "      <td>George Burns</td>\n",
              "      <td>Age</td>\n",
              "      <td>https://www.brainyquote.com/quotes/george_burns_103932?src=t_age</td>\n",
              "      <td>['Age', 'Getting Older', 'Help', 'Old', 'Get']</td>\n",
              "      <td>['Age', 'Help', 'Old', 'Get']</td>\n",
              "      <td>[1, 0, 0, 0, 0, 0, 0, 0, 0, 0, 1, 1, 1, 0, 0, 0, 0, 0, 0, 0, 0, 0, 0, 0, 0, 0, 0, 0, 0, 0, 0, 0, 0, 0, 0, 0, 0, 0, 0, 0, 0, 0, 0, 0, 0, 0, 0, 0, 0, 0, 0, 0, 0, 0, 0, 0, 0, 0, 0, 0, 0, 0, 0, 0, 0, 0, 0, 0, 0, 0, 0, 0, 0, 0, 0, 0, 0, 0, 0, 0, 0, 0, 0, 0, 0, 0, 0, 0, 0, 0, 0, 0, 0, 0, 0, 0, 0, 0, 0, 0, 0, 0, 0, 0, 0, 0, 0, 0, 0, 0, 0, 0, 0, 0, 0, 0, 0, 0, 0, 0, 0, 0, 0, 0, 0, 0, 0, 0, 0, 0, 0, 0, 0, 0, 0, 0, 0, 0, 0, 0, 0, 0, 0, 0, 0, 0, 0, 0, 0, 0, 0, 0, 0, 0, 0, 0, 0, 0, 0, 0, 0, 0, 0, 0, 0, 0, 0, 0, 0, 0, 0, 0, 0, 0, 0, 0, 0, 0, 0, 0, 0, 0, 0, 0, 0, 0, 0, 0, 0, 0, 0, 0, 0, 0, 0, 0, 0, 0, 0...</td>\n",
              "    </tr>\n",
              "    <tr>\n",
              "      <th>4</th>\n",
              "      <td>As I grow older, I pay less attention to what men say. I just watch what they do.</td>\n",
              "      <td>Andrew Carnegie</td>\n",
              "      <td>Age</td>\n",
              "      <td>https://www.brainyquote.com/quotes/andrew_carnegie_106123?src=t_age</td>\n",
              "      <td>['Age', 'Men', 'Grow', 'Attention', 'Pay']</td>\n",
              "      <td>['Age', 'Men', 'Grow', 'Attention', 'Pay']</td>\n",
              "      <td>[1, 0, 0, 0, 0, 0, 0, 0, 0, 0, 0, 0, 0, 1, 1, 1, 1, 0, 0, 0, 0, 0, 0, 0, 0, 0, 0, 0, 0, 0, 0, 0, 0, 0, 0, 0, 0, 0, 0, 0, 0, 0, 0, 0, 0, 0, 0, 0, 0, 0, 0, 0, 0, 0, 0, 0, 0, 0, 0, 0, 0, 0, 0, 0, 0, 0, 0, 0, 0, 0, 0, 0, 0, 0, 0, 0, 0, 0, 0, 0, 0, 0, 0, 0, 0, 0, 0, 0, 0, 0, 0, 0, 0, 0, 0, 0, 0, 0, 0, 0, 0, 0, 0, 0, 0, 0, 0, 0, 0, 0, 0, 0, 0, 0, 0, 0, 0, 0, 0, 0, 0, 0, 0, 0, 0, 0, 0, 0, 0, 0, 0, 0, 0, 0, 0, 0, 0, 0, 0, 0, 0, 0, 0, 0, 0, 0, 0, 0, 0, 0, 0, 0, 0, 0, 0, 0, 0, 0, 0, 0, 0, 0, 0, 0, 0, 0, 0, 0, 0, 0, 0, 0, 0, 0, 0, 0, 0, 0, 0, 0, 0, 0, 0, 0, 0, 0, 0, 0, 0, 0, 0, 0, 0, 0, 0, 0, 0, 0, 0...</td>\n",
              "    </tr>\n",
              "  </tbody>\n",
              "</table>\n",
              "</div>\n",
              "    <div class=\"colab-df-buttons\">\n",
              "\n",
              "  <div class=\"colab-df-container\">\n",
              "    <button class=\"colab-df-convert\" onclick=\"convertToInteractive('df-5562d0f4-1d81-46c6-9dc2-a5d9e2a70914')\"\n",
              "            title=\"Convert this dataframe to an interactive table.\"\n",
              "            style=\"display:none;\">\n",
              "\n",
              "  <svg xmlns=\"http://www.w3.org/2000/svg\" height=\"24px\" viewBox=\"0 -960 960 960\">\n",
              "    <path d=\"M120-120v-720h720v720H120Zm60-500h600v-160H180v160Zm220 220h160v-160H400v160Zm0 220h160v-160H400v160ZM180-400h160v-160H180v160Zm440 0h160v-160H620v160ZM180-180h160v-160H180v160Zm440 0h160v-160H620v160Z\"/>\n",
              "  </svg>\n",
              "    </button>\n",
              "\n",
              "  <style>\n",
              "    .colab-df-container {\n",
              "      display:flex;\n",
              "      gap: 12px;\n",
              "    }\n",
              "\n",
              "    .colab-df-convert {\n",
              "      background-color: #E8F0FE;\n",
              "      border: none;\n",
              "      border-radius: 50%;\n",
              "      cursor: pointer;\n",
              "      display: none;\n",
              "      fill: #1967D2;\n",
              "      height: 32px;\n",
              "      padding: 0 0 0 0;\n",
              "      width: 32px;\n",
              "    }\n",
              "\n",
              "    .colab-df-convert:hover {\n",
              "      background-color: #E2EBFA;\n",
              "      box-shadow: 0px 1px 2px rgba(60, 64, 67, 0.3), 0px 1px 3px 1px rgba(60, 64, 67, 0.15);\n",
              "      fill: #174EA6;\n",
              "    }\n",
              "\n",
              "    .colab-df-buttons div {\n",
              "      margin-bottom: 4px;\n",
              "    }\n",
              "\n",
              "    [theme=dark] .colab-df-convert {\n",
              "      background-color: #3B4455;\n",
              "      fill: #D2E3FC;\n",
              "    }\n",
              "\n",
              "    [theme=dark] .colab-df-convert:hover {\n",
              "      background-color: #434B5C;\n",
              "      box-shadow: 0px 1px 3px 1px rgba(0, 0, 0, 0.15);\n",
              "      filter: drop-shadow(0px 1px 2px rgba(0, 0, 0, 0.3));\n",
              "      fill: #FFFFFF;\n",
              "    }\n",
              "  </style>\n",
              "\n",
              "    <script>\n",
              "      const buttonEl =\n",
              "        document.querySelector('#df-5562d0f4-1d81-46c6-9dc2-a5d9e2a70914 button.colab-df-convert');\n",
              "      buttonEl.style.display =\n",
              "        google.colab.kernel.accessAllowed ? 'block' : 'none';\n",
              "\n",
              "      async function convertToInteractive(key) {\n",
              "        const element = document.querySelector('#df-5562d0f4-1d81-46c6-9dc2-a5d9e2a70914');\n",
              "        const dataTable =\n",
              "          await google.colab.kernel.invokeFunction('convertToInteractive',\n",
              "                                                    [key], {});\n",
              "        if (!dataTable) return;\n",
              "\n",
              "        const docLinkHtml = 'Like what you see? Visit the ' +\n",
              "          '<a target=\"_blank\" href=https://colab.research.google.com/notebooks/data_table.ipynb>data table notebook</a>'\n",
              "          + ' to learn more about interactive tables.';\n",
              "        element.innerHTML = '';\n",
              "        dataTable['output_type'] = 'display_data';\n",
              "        await google.colab.output.renderOutput(dataTable, element);\n",
              "        const docLink = document.createElement('div');\n",
              "        docLink.innerHTML = docLinkHtml;\n",
              "        element.appendChild(docLink);\n",
              "      }\n",
              "    </script>\n",
              "  </div>\n",
              "\n",
              "\n",
              "<div id=\"df-17bb0f66-8fe4-427a-b43d-4a8162b6910f\">\n",
              "  <button class=\"colab-df-quickchart\" onclick=\"quickchart('df-17bb0f66-8fe4-427a-b43d-4a8162b6910f')\"\n",
              "            title=\"Suggest charts\"\n",
              "            style=\"display:none;\">\n",
              "\n",
              "<svg xmlns=\"http://www.w3.org/2000/svg\" height=\"24px\"viewBox=\"0 0 24 24\"\n",
              "     width=\"24px\">\n",
              "    <g>\n",
              "        <path d=\"M19 3H5c-1.1 0-2 .9-2 2v14c0 1.1.9 2 2 2h14c1.1 0 2-.9 2-2V5c0-1.1-.9-2-2-2zM9 17H7v-7h2v7zm4 0h-2V7h2v10zm4 0h-2v-4h2v4z\"/>\n",
              "    </g>\n",
              "</svg>\n",
              "  </button>\n",
              "\n",
              "<style>\n",
              "  .colab-df-quickchart {\n",
              "      --bg-color: #E8F0FE;\n",
              "      --fill-color: #1967D2;\n",
              "      --hover-bg-color: #E2EBFA;\n",
              "      --hover-fill-color: #174EA6;\n",
              "      --disabled-fill-color: #AAA;\n",
              "      --disabled-bg-color: #DDD;\n",
              "  }\n",
              "\n",
              "  [theme=dark] .colab-df-quickchart {\n",
              "      --bg-color: #3B4455;\n",
              "      --fill-color: #D2E3FC;\n",
              "      --hover-bg-color: #434B5C;\n",
              "      --hover-fill-color: #FFFFFF;\n",
              "      --disabled-bg-color: #3B4455;\n",
              "      --disabled-fill-color: #666;\n",
              "  }\n",
              "\n",
              "  .colab-df-quickchart {\n",
              "    background-color: var(--bg-color);\n",
              "    border: none;\n",
              "    border-radius: 50%;\n",
              "    cursor: pointer;\n",
              "    display: none;\n",
              "    fill: var(--fill-color);\n",
              "    height: 32px;\n",
              "    padding: 0;\n",
              "    width: 32px;\n",
              "  }\n",
              "\n",
              "  .colab-df-quickchart:hover {\n",
              "    background-color: var(--hover-bg-color);\n",
              "    box-shadow: 0 1px 2px rgba(60, 64, 67, 0.3), 0 1px 3px 1px rgba(60, 64, 67, 0.15);\n",
              "    fill: var(--button-hover-fill-color);\n",
              "  }\n",
              "\n",
              "  .colab-df-quickchart-complete:disabled,\n",
              "  .colab-df-quickchart-complete:disabled:hover {\n",
              "    background-color: var(--disabled-bg-color);\n",
              "    fill: var(--disabled-fill-color);\n",
              "    box-shadow: none;\n",
              "  }\n",
              "\n",
              "  .colab-df-spinner {\n",
              "    border: 2px solid var(--fill-color);\n",
              "    border-color: transparent;\n",
              "    border-bottom-color: var(--fill-color);\n",
              "    animation:\n",
              "      spin 1s steps(1) infinite;\n",
              "  }\n",
              "\n",
              "  @keyframes spin {\n",
              "    0% {\n",
              "      border-color: transparent;\n",
              "      border-bottom-color: var(--fill-color);\n",
              "      border-left-color: var(--fill-color);\n",
              "    }\n",
              "    20% {\n",
              "      border-color: transparent;\n",
              "      border-left-color: var(--fill-color);\n",
              "      border-top-color: var(--fill-color);\n",
              "    }\n",
              "    30% {\n",
              "      border-color: transparent;\n",
              "      border-left-color: var(--fill-color);\n",
              "      border-top-color: var(--fill-color);\n",
              "      border-right-color: var(--fill-color);\n",
              "    }\n",
              "    40% {\n",
              "      border-color: transparent;\n",
              "      border-right-color: var(--fill-color);\n",
              "      border-top-color: var(--fill-color);\n",
              "    }\n",
              "    60% {\n",
              "      border-color: transparent;\n",
              "      border-right-color: var(--fill-color);\n",
              "    }\n",
              "    80% {\n",
              "      border-color: transparent;\n",
              "      border-right-color: var(--fill-color);\n",
              "      border-bottom-color: var(--fill-color);\n",
              "    }\n",
              "    90% {\n",
              "      border-color: transparent;\n",
              "      border-bottom-color: var(--fill-color);\n",
              "    }\n",
              "  }\n",
              "</style>\n",
              "\n",
              "  <script>\n",
              "    async function quickchart(key) {\n",
              "      const quickchartButtonEl =\n",
              "        document.querySelector('#' + key + ' button');\n",
              "      quickchartButtonEl.disabled = true;  // To prevent multiple clicks.\n",
              "      quickchartButtonEl.classList.add('colab-df-spinner');\n",
              "      try {\n",
              "        const charts = await google.colab.kernel.invokeFunction(\n",
              "            'suggestCharts', [key], {});\n",
              "      } catch (error) {\n",
              "        console.error('Error during call to suggestCharts:', error);\n",
              "      }\n",
              "      quickchartButtonEl.classList.remove('colab-df-spinner');\n",
              "      quickchartButtonEl.classList.add('colab-df-quickchart-complete');\n",
              "    }\n",
              "    (() => {\n",
              "      let quickchartButtonEl =\n",
              "        document.querySelector('#df-17bb0f66-8fe4-427a-b43d-4a8162b6910f button');\n",
              "      quickchartButtonEl.style.display =\n",
              "        google.colab.kernel.accessAllowed ? 'block' : 'none';\n",
              "    })();\n",
              "  </script>\n",
              "</div>\n",
              "\n",
              "    </div>\n",
              "  </div>\n"
            ]
          },
          "metadata": {},
          "execution_count": 10
        }
      ]
    },
    {
      "cell_type": "code",
      "source": [
        "import json\n",
        "import numpy as np"
      ],
      "metadata": {
        "id": "jL3h9pqN1vQE"
      },
      "execution_count": null,
      "outputs": []
    },
    {
      "cell_type": "code",
      "source": [
        "with open('tag_types_encoded.json', 'r') as file:\n",
        "  tag_encoder = json.load(file)"
      ],
      "metadata": {
        "id": "Lyg5XEzm1xkH"
      },
      "execution_count": null,
      "outputs": []
    },
    {
      "cell_type": "code",
      "source": [
        "print(tag_encoder)"
      ],
      "metadata": {
        "colab": {
          "base_uri": "https://localhost:8080/"
        },
        "id": "LY6Xozxh2LrL",
        "outputId": "f3ce23e9-b1ed-4861-ab7f-b16253877e30"
      },
      "execution_count": null,
      "outputs": [
        {
          "output_type": "stream",
          "name": "stdout",
          "text": [
            "{'Age': 0, 'Mind': 1, 'Matter': 2, 'Over': 3, 'Birthday': 4, 'Man': 5, 'Never': 6, 'Woman': 7, 'Youth': 8, 'Young': 9, 'Help': 10, 'Old': 11, 'Get': 12, 'Men': 13, 'Grow': 14, 'Attention': 15, 'Pay': 16, 'Strength': 17, 'Opportunity': 18, 'Remember': 19, 'Morning': 20, 'Wake Up': 21, 'School': 22, 'Country': 23, 'Happy': 24, 'Child': 25, 'Lie': 26, 'Live': 27, 'Old Age': 28, 'Place': 29, 'Nothing': 30, 'High': 31, 'Best': 32, 'Improve': 33, 'Soul': 34, 'Change': 35, 'Great': 36, 'People': 37, 'I Am': 38, 'Strange': 39, 'Me': 40, 'Try': 41, 'Environment': 42, 'Growing Up': 43, 'Up': 44, 'Life': 45, 'End': 46, 'Wish': 47, 'Minds': 48, 'Order': 49, 'Very': 50, 'Time': 51, 'Habit': 52, 'Busy': 53, 'Person': 54, 'Women': 55, 'Myself': 56, 'Beautiful': 57, 'Purpose': 58, 'Learning': 59, 'Art': 60, 'Work': 61, 'Nature': 62, 'Gift': 63, 'Good': 64, 'Believe': 65, 'True': 66, 'Light': 67, 'Night': 68, 'Love': 69, 'Does': 70, 'Everything': 71, 'How': 72, 'You': 73, 'Success': 74, 'Start': 75, 'Children': 76, 'Who': 77, 'Those': 78, 'Face': 79, 'Long': 80, 'Important': 81, 'Stop': 82, 'Because': 83, 'Heart': 84, 'Always': 85, 'Same': 86, 'She': 87, 'More': 88, 'Something': 89, 'Whatever': 90, 'Early': 91, 'Happens': 92, 'Lose': 93, 'Friend': 94, 'Enemy': 95, 'Only': 96, 'Sad': 97, 'Nice': 98, 'Look': 99, 'Father': 100, 'Blood': 101, 'Wife': 102, 'Trust': 103, 'Your': 104, 'Our': 105, 'Grace': 106, 'Money': 107, 'Health': 108, 'Others': 109, 'Past': 110, 'Black': 111, 'Book': 112, 'Know': 113, 'Body': 114, 'Mirror': 115, 'Day': 116, 'Energy': 117, 'Simply': 118, 'Enough': 119, 'Hope': 120, 'Without': 121, 'Moment': 122, 'Back': 123, 'Late': 124, 'Year': 125, 'New': 126, 'Giving': 127, 'Knowledge': 128, 'Own': 129, 'Feel': 130, 'Effort': 131, 'Process': 132, 'Company': 133, 'Real': 134, 'Rich': 135, 'Where': 136, 'Should': 137, 'Been': 138, 'Thinking': 139, 'Still': 140, 'Had': 141, 'Sin': 142, 'Being': 143, 'Home': 144, 'World': 145, 'Lost': 146, 'Parents': 147, 'Interesting': 148, 'Journey': 149, 'Road': 150, 'Advice': 151, 'Living': 152, 'Needs': 153, 'Nobody': 154, 'Respect': 155, 'Tomorrow': 156, 'Possible': 157, 'Family': 158, 'Like': 159, 'Cannot': 160, 'Better': 161, 'America': 162, 'Just': 163, 'Green': 164, 'Pride': 165, 'Belief': 166, 'Funny': 167, 'Wrong': 168, 'Play': 169, 'Stars': 170, 'Dress': 171, 'Sky': 172, 'Born': 173, 'Talent': 174, 'Will': 175, 'Struggle': 176, 'Regret': 177, 'Confidence': 178, 'Now': 179, 'Hands': 180, 'Moon': 181, 'Poet': 182, 'Head': 183, 'Business': 184, 'Within': 185, 'Come': 186, 'Dreams': 187, 'Fight': 188, 'Afraid': 189, 'Way': 190, 'Death': 191, 'Attitude': 192, 'Losing': 193, 'Genius': 194, 'Understand': 195, 'Learn': 196, 'Culture': 197, 'Cinema': 198, 'Faith': 199, 'Religion': 200, 'Brainy': 201, 'Happiness': 202, 'Failure': 203, 'Passion': 204, 'First': 205, 'Fun': 206, 'Ideas': 207, 'Sex': 208, 'News': 209, 'Bad': 210, 'Mean': 211, 'Destiny': 212, 'Information': 213, 'Wisdom': 214, 'Fool': 215, 'Spirit': 216, 'Find': 217, 'Next': 218, 'War': 219, 'Violence': 220, 'Imagination': 221, 'Picture': 222, 'Motivational': 223, 'Universe': 224, 'Church': 225, 'Experience': 226, 'Far': 227, 'Education': 228, 'Forget': 229, 'Dead': 230, 'Two': 231, 'He': 232, 'Years': 233, 'Act': 234, 'About': 235, 'Need': 236, 'Us': 237, 'Marriage': 238, 'Which': 239, 'Moments': 240, 'Search': 241, 'Think': 242, 'Unique': 243, 'Special': 244, 'Meaning': 245, 'Right': 246, 'Skill': 247, 'Go': 248, 'Die': 249, 'Someone': 250, 'Today': 251, 'Media': 252, 'Human': 253, 'Poor': 254, 'Progress': 255, 'Vision': 256, 'Wise': 257, 'Away': 258, 'Alone': 259, 'Truth': 260, 'Battle': 261, 'Food': 262, 'Architecture': 263, 'Memories': 264, 'Hard': 265, 'Anything': 266, 'I Think': 267, 'Dad': 268, 'Kindness': 269, 'Emotions': 270, 'Pressure': 271, 'Poverty': 272, 'Evil': 273, 'Well': 274, 'God': 275, 'Three': 276, 'Legal': 277, 'Lawyer': 278, 'Politics': 279, 'Political': 280, 'Feelings': 281, 'Game': 282, 'Walk': 283, 'Character': 284, 'Before': 285, 'Justice': 286, 'Personality': 287, 'Greatness': 288, \"don't Care\": 289, 'Care': 290, 'Much': 291, 'Any': 292, 'Friends': 293, 'Beauty': 294, 'Future': 295, 'Positive': 296, 'Power': 297, 'Door': 298, 'Sometimes': 299, 'Car': 300, 'Going': 301, 'Control': 302, 'Waiting': 303, 'Community': 304, 'Trying': 305, 'Fear': 306, 'Practice': 307, 'Eyes': 308, 'Wonder': 309, 'Talk': 310, 'Value': 311, 'History': 312, 'Poetry': 313, 'Daily': 314, 'Forgiveness': 315, 'Ambition': 316, 'Powerful': 317, 'Little': 318, 'Sympathy': 319, 'Tough': 320, 'Government': 321, 'Society': 322, 'Support': 323, 'Job': 324, 'Weird': 325, 'Artist': 326, 'Mother': 327, 'Behavior': 328, 'Speak': 329, 'Thankful': 330, 'Acting': 331, 'Music': 332, 'Cool': 333, 'Tired': 334, 'Keep': 335, 'Magic': 336, 'Hell': 337, 'Singing': 338, 'Mom': 339, 'Dance': 340, 'Laugh': 341, 'Every Day': 342, 'Technology': 343, 'Romantic': 344, 'Free': 345, 'Medical': 346, 'Situation': 347, 'Fame': 348, 'Language': 349, 'Question': 350, 'Want': 351, 'Meet': 352, 'Rest': 353, 'Travel': 354, 'Fish': 355, 'Values': 356, 'Humanity': 357, 'Problems': 358, 'Achievement': 359, 'Story': 360, 'Feet': 361, 'Leadership': 362, 'Out': 363, 'Social Media': 364, 'Gender': 365, 'Style': 366, 'Key': 367, 'Beginning': 368, 'Doing': 369, 'Even': 370, 'Done': 371, 'Freedom': 372, 'Together': 373, 'Why': 374, 'Childhood': 375, 'Generation': 376, 'Race': 377, 'Direction': 378, 'Discipline': 379, 'Dating': 380, 'Diet': 381, 'Internet': 382, 'Opinion': 383, 'Doctor': 384, 'Days': 385, 'Too': 386, 'Ignorance': 387, 'Winning': 388, 'Memory': 389, 'Sense': 390, 'Courage': 391, 'Impact': 392, 'Wealth': 393, 'Loved': 394, 'See': 395, 'Become': 396, 'Movies': 397, 'Television': 398, 'Gratitude': 399, 'Simple': 400, 'Friendship': 401, 'View': 402, 'Football': 403, 'Space': 404, 'Fitness': 405, 'Peace': 406, 'Present': 407, 'Ahead': 408, 'Blessed': 409, 'Potential': 410, 'Dream': 411, 'Teacher': 412, 'Brain': 413, 'Say': 414, 'Alive': 415, 'Tree': 416, 'Worst': 417, 'Lot': 418, 'Law': 419, 'Bring': 420, 'Intelligence': 421, 'Fighting': 422, 'General': 423, 'Challenges': 424, 'Difficult': 425, 'Hard Work': 426, 'Beyond': 427, 'Result': 428, 'Understanding': 429, 'Things': 430, 'Rather': 431, 'Limits': 432, 'Pain': 433, 'Fans': 434, 'Really': 435, 'Influence': 436, 'Focus': 437, 'Achieve': 438, 'Decision': 439, 'Army': 440, 'Son': 441, 'Hate': 442, 'Ability': 443, 'Cold': 444, 'Tradition': 445, 'Amazing': 446, 'Research': 447, 'Top': 448, 'Loyalty': 449, 'Forever': 450, 'Your Dreams': 451, 'Guitar': 452, 'Every': 453, 'Chance': 454, 'My Life': 455, 'Am': 456, 'Survive': 457, 'Hero': 458, 'Goals': 459, 'Crazy': 460, 'Quite': 461, 'Smart': 462, 'Building': 463, 'City': 464, 'Yes': 465, 'I Can': 466, 'Deep': 467, 'Reality': 468, 'Moving': 469, 'Rights': 470, 'Make': 471, 'Stay': 472, 'Rules': 473, 'Name': 474, 'Impossible': 475, 'Design': 476, 'Build': 477, 'Finance': 478, 'Would': 479, 'Suffering': 480, 'May': 481, 'Science': 482, 'Last': 483, 'Responsibility': 484, 'Than': 485, 'Through': 486, 'Shadow': 487, 'Luck': 488, 'Computers': 489, 'Liberty': 490, 'Love Is': 491, 'Talking': 492, 'Relationship': 493, 'King': 494, 'Sports': 495, 'Literature': 496, 'Many': 497, 'Choice': 498, 'Quiet': 499, 'Democracy': 500, 'Water': 501, 'Path': 502, 'Spiritual': 503, 'Escape': 504, 'Patience': 505, 'American': 506, 'Weakness': 507, 'Bible': 508, 'Often': 509, 'Integrity': 510, 'Conflict': 511, 'Fashion': 512, 'Train': 513, 'Action': 514, 'Duty': 515, 'Doubt': 516, 'Laughter': 517, 'Too Much': 518, 'White': 519, 'Competition': 520, 'Moving On': 521, 'Perspective': 522, 'Reason': 523, 'Fiction': 524, 'Career': 525, 'Enjoy': 526, 'Dangerous': 527, 'Listening': 528, 'Looking': 529, 'Street': 530, 'Brother': 531, 'Yourself': 532, 'Room': 533, 'Wonderful': 534, 'Sun': 535, 'Independence': 536, 'Easy': 537, 'Heaven': 538, 'Use': 539, 'Thoughts': 540, 'Everyone': 541, 'Choices': 542, 'Voice': 543, 'Song': 544, 'Earth': 545, 'Desire': 546, 'Sleep': 547, 'Stand': 548, 'Quality': 549, \"Valentine's Day\": 550, 'Graduation': 551, 'Christmas': 552, 'Accept': 553, 'Strong': 554, 'Them': 555, 'Revolution': 556, 'Environmental': 557, 'Anger': 558, 'Hurt': 559, 'Other': 560, 'Israel': 561, 'Service': 562, 'Force': 563, 'Table': 564, 'Credit': 565, 'Brave': 566, 'Half': 567, 'Equality': 568, 'Questions': 569, 'Rise': 570, 'Jealousy': 571, 'Enemies': 572, 'Step': 573, 'Growth': 574, 'Cooking': 575, 'Humility': 576, 'Stage': 577, 'Sacrifice': 578, 'Sound': 579, 'Follow': 580, 'Silence': 581, 'Prayer': 582, 'Communication': 583, 'Fly': 584, 'Fall': 585, 'Ready': 586, 'Teen': 587, 'Risks': 588, 'Gardening': 589, 'Worry': 590, 'Patriotism': 591, 'Point': 592, 'Words': 593, 'Team': 594, 'Honor': 595, 'Famous': 596, 'Must': 597, 'Tears': 598, 'Honesty': 599, 'Exist': 600, 'Birth': 601, 'Truth Is': 602, 'Dog': 603, 'Victory': 604, 'Wants': 605, 'Create': 606, 'Realize': 607, 'Commitment': 608, 'Interest': 609, 'Safe': 610, 'Kind': 611, 'Aim': 612, 'Social': 613, 'Eating': 614, 'Film': 615, 'Data': 616, 'Writing': 617, 'Balance': 618, 'Nation': 619, 'Fire': 620, 'System': 621, 'Stupid': 622, 'Wind': 623, 'Big': 624, 'Gay': 625, 'Constitution': 626, 'Economic': 627, 'Thing': 628, 'Negative': 629, 'Used': 630, 'Inspirational': 631, 'Smile': 632, 'Joy': 633, 'Fast': 634, 'Pretty': 635, 'Most': 636, 'Humble': 637, 'Drive': 638, 'Security': 639, 'Again': 640, 'Sweet': 641, 'Comedy': 642, 'Easter': 643, 'Made': 644, 'Events': 645, 'Angry': 646, 'Thanksgiving': 647, 'Fruit': 648, 'Drama': 649, 'Development': 650, 'Pet': 651, 'Line': 652, 'Celebrate': 653, 'Humor': 654, 'Down': 655, 'Waste': 656, 'Serious': 657, 'Seeing': 658, 'Lifestyle': 659, 'Sense Of Humor': 660, 'Wedding': 661, 'Facts': 662, 'Anniversary': 663, 'Thank God': 664, 'Mistakes': 665, 'Holiday': 666, 'Foundation': 667, 'Painting': 668, 'Intellectual': 669, 'College': 670, 'Knowing': 671, 'Training': 672, 'Parenting': 673, 'Success Is': 674}\n"
          ]
        }
      ]
    },
    {
      "cell_type": "code",
      "source": [
        "labels = list(tag_encoder.keys())"
      ],
      "metadata": {
        "id": "HytFiF5Qeki-"
      },
      "execution_count": null,
      "outputs": []
    },
    {
      "cell_type": "code",
      "source": [
        "print(labels)"
      ],
      "metadata": {
        "colab": {
          "base_uri": "https://localhost:8080/"
        },
        "id": "HX16p9xe2T8u",
        "outputId": "edf67ce5-b09d-4bd9-9605-127a20e7b5c3"
      },
      "execution_count": null,
      "outputs": [
        {
          "output_type": "stream",
          "name": "stdout",
          "text": [
            "['Age', 'Mind', 'Matter', 'Over', 'Birthday', 'Man', 'Never', 'Woman', 'Youth', 'Young', 'Help', 'Old', 'Get', 'Men', 'Grow', 'Attention', 'Pay', 'Strength', 'Opportunity', 'Remember', 'Morning', 'Wake Up', 'School', 'Country', 'Happy', 'Child', 'Lie', 'Live', 'Old Age', 'Place', 'Nothing', 'High', 'Best', 'Improve', 'Soul', 'Change', 'Great', 'People', 'I Am', 'Strange', 'Me', 'Try', 'Environment', 'Growing Up', 'Up', 'Life', 'End', 'Wish', 'Minds', 'Order', 'Very', 'Time', 'Habit', 'Busy', 'Person', 'Women', 'Myself', 'Beautiful', 'Purpose', 'Learning', 'Art', 'Work', 'Nature', 'Gift', 'Good', 'Believe', 'True', 'Light', 'Night', 'Love', 'Does', 'Everything', 'How', 'You', 'Success', 'Start', 'Children', 'Who', 'Those', 'Face', 'Long', 'Important', 'Stop', 'Because', 'Heart', 'Always', 'Same', 'She', 'More', 'Something', 'Whatever', 'Early', 'Happens', 'Lose', 'Friend', 'Enemy', 'Only', 'Sad', 'Nice', 'Look', 'Father', 'Blood', 'Wife', 'Trust', 'Your', 'Our', 'Grace', 'Money', 'Health', 'Others', 'Past', 'Black', 'Book', 'Know', 'Body', 'Mirror', 'Day', 'Energy', 'Simply', 'Enough', 'Hope', 'Without', 'Moment', 'Back', 'Late', 'Year', 'New', 'Giving', 'Knowledge', 'Own', 'Feel', 'Effort', 'Process', 'Company', 'Real', 'Rich', 'Where', 'Should', 'Been', 'Thinking', 'Still', 'Had', 'Sin', 'Being', 'Home', 'World', 'Lost', 'Parents', 'Interesting', 'Journey', 'Road', 'Advice', 'Living', 'Needs', 'Nobody', 'Respect', 'Tomorrow', 'Possible', 'Family', 'Like', 'Cannot', 'Better', 'America', 'Just', 'Green', 'Pride', 'Belief', 'Funny', 'Wrong', 'Play', 'Stars', 'Dress', 'Sky', 'Born', 'Talent', 'Will', 'Struggle', 'Regret', 'Confidence', 'Now', 'Hands', 'Moon', 'Poet', 'Head', 'Business', 'Within', 'Come', 'Dreams', 'Fight', 'Afraid', 'Way', 'Death', 'Attitude', 'Losing', 'Genius', 'Understand', 'Learn', 'Culture', 'Cinema', 'Faith', 'Religion', 'Brainy', 'Happiness', 'Failure', 'Passion', 'First', 'Fun', 'Ideas', 'Sex', 'News', 'Bad', 'Mean', 'Destiny', 'Information', 'Wisdom', 'Fool', 'Spirit', 'Find', 'Next', 'War', 'Violence', 'Imagination', 'Picture', 'Motivational', 'Universe', 'Church', 'Experience', 'Far', 'Education', 'Forget', 'Dead', 'Two', 'He', 'Years', 'Act', 'About', 'Need', 'Us', 'Marriage', 'Which', 'Moments', 'Search', 'Think', 'Unique', 'Special', 'Meaning', 'Right', 'Skill', 'Go', 'Die', 'Someone', 'Today', 'Media', 'Human', 'Poor', 'Progress', 'Vision', 'Wise', 'Away', 'Alone', 'Truth', 'Battle', 'Food', 'Architecture', 'Memories', 'Hard', 'Anything', 'I Think', 'Dad', 'Kindness', 'Emotions', 'Pressure', 'Poverty', 'Evil', 'Well', 'God', 'Three', 'Legal', 'Lawyer', 'Politics', 'Political', 'Feelings', 'Game', 'Walk', 'Character', 'Before', 'Justice', 'Personality', 'Greatness', \"don't Care\", 'Care', 'Much', 'Any', 'Friends', 'Beauty', 'Future', 'Positive', 'Power', 'Door', 'Sometimes', 'Car', 'Going', 'Control', 'Waiting', 'Community', 'Trying', 'Fear', 'Practice', 'Eyes', 'Wonder', 'Talk', 'Value', 'History', 'Poetry', 'Daily', 'Forgiveness', 'Ambition', 'Powerful', 'Little', 'Sympathy', 'Tough', 'Government', 'Society', 'Support', 'Job', 'Weird', 'Artist', 'Mother', 'Behavior', 'Speak', 'Thankful', 'Acting', 'Music', 'Cool', 'Tired', 'Keep', 'Magic', 'Hell', 'Singing', 'Mom', 'Dance', 'Laugh', 'Every Day', 'Technology', 'Romantic', 'Free', 'Medical', 'Situation', 'Fame', 'Language', 'Question', 'Want', 'Meet', 'Rest', 'Travel', 'Fish', 'Values', 'Humanity', 'Problems', 'Achievement', 'Story', 'Feet', 'Leadership', 'Out', 'Social Media', 'Gender', 'Style', 'Key', 'Beginning', 'Doing', 'Even', 'Done', 'Freedom', 'Together', 'Why', 'Childhood', 'Generation', 'Race', 'Direction', 'Discipline', 'Dating', 'Diet', 'Internet', 'Opinion', 'Doctor', 'Days', 'Too', 'Ignorance', 'Winning', 'Memory', 'Sense', 'Courage', 'Impact', 'Wealth', 'Loved', 'See', 'Become', 'Movies', 'Television', 'Gratitude', 'Simple', 'Friendship', 'View', 'Football', 'Space', 'Fitness', 'Peace', 'Present', 'Ahead', 'Blessed', 'Potential', 'Dream', 'Teacher', 'Brain', 'Say', 'Alive', 'Tree', 'Worst', 'Lot', 'Law', 'Bring', 'Intelligence', 'Fighting', 'General', 'Challenges', 'Difficult', 'Hard Work', 'Beyond', 'Result', 'Understanding', 'Things', 'Rather', 'Limits', 'Pain', 'Fans', 'Really', 'Influence', 'Focus', 'Achieve', 'Decision', 'Army', 'Son', 'Hate', 'Ability', 'Cold', 'Tradition', 'Amazing', 'Research', 'Top', 'Loyalty', 'Forever', 'Your Dreams', 'Guitar', 'Every', 'Chance', 'My Life', 'Am', 'Survive', 'Hero', 'Goals', 'Crazy', 'Quite', 'Smart', 'Building', 'City', 'Yes', 'I Can', 'Deep', 'Reality', 'Moving', 'Rights', 'Make', 'Stay', 'Rules', 'Name', 'Impossible', 'Design', 'Build', 'Finance', 'Would', 'Suffering', 'May', 'Science', 'Last', 'Responsibility', 'Than', 'Through', 'Shadow', 'Luck', 'Computers', 'Liberty', 'Love Is', 'Talking', 'Relationship', 'King', 'Sports', 'Literature', 'Many', 'Choice', 'Quiet', 'Democracy', 'Water', 'Path', 'Spiritual', 'Escape', 'Patience', 'American', 'Weakness', 'Bible', 'Often', 'Integrity', 'Conflict', 'Fashion', 'Train', 'Action', 'Duty', 'Doubt', 'Laughter', 'Too Much', 'White', 'Competition', 'Moving On', 'Perspective', 'Reason', 'Fiction', 'Career', 'Enjoy', 'Dangerous', 'Listening', 'Looking', 'Street', 'Brother', 'Yourself', 'Room', 'Wonderful', 'Sun', 'Independence', 'Easy', 'Heaven', 'Use', 'Thoughts', 'Everyone', 'Choices', 'Voice', 'Song', 'Earth', 'Desire', 'Sleep', 'Stand', 'Quality', \"Valentine's Day\", 'Graduation', 'Christmas', 'Accept', 'Strong', 'Them', 'Revolution', 'Environmental', 'Anger', 'Hurt', 'Other', 'Israel', 'Service', 'Force', 'Table', 'Credit', 'Brave', 'Half', 'Equality', 'Questions', 'Rise', 'Jealousy', 'Enemies', 'Step', 'Growth', 'Cooking', 'Humility', 'Stage', 'Sacrifice', 'Sound', 'Follow', 'Silence', 'Prayer', 'Communication', 'Fly', 'Fall', 'Ready', 'Teen', 'Risks', 'Gardening', 'Worry', 'Patriotism', 'Point', 'Words', 'Team', 'Honor', 'Famous', 'Must', 'Tears', 'Honesty', 'Exist', 'Birth', 'Truth Is', 'Dog', 'Victory', 'Wants', 'Create', 'Realize', 'Commitment', 'Interest', 'Safe', 'Kind', 'Aim', 'Social', 'Eating', 'Film', 'Data', 'Writing', 'Balance', 'Nation', 'Fire', 'System', 'Stupid', 'Wind', 'Big', 'Gay', 'Constitution', 'Economic', 'Thing', 'Negative', 'Used', 'Inspirational', 'Smile', 'Joy', 'Fast', 'Pretty', 'Most', 'Humble', 'Drive', 'Security', 'Again', 'Sweet', 'Comedy', 'Easter', 'Made', 'Events', 'Angry', 'Thanksgiving', 'Fruit', 'Drama', 'Development', 'Pet', 'Line', 'Celebrate', 'Humor', 'Down', 'Waste', 'Serious', 'Seeing', 'Lifestyle', 'Sense Of Humor', 'Wedding', 'Facts', 'Anniversary', 'Thank God', 'Mistakes', 'Holiday', 'Foundation', 'Painting', 'Intellectual', 'College', 'Knowing', 'Training', 'Parenting', 'Success Is']\n"
          ]
        }
      ]
    },
    {
      "cell_type": "code",
      "source": [
        "model_name = \"distilroberta-base\"\n",
        "model_cls = AutoModelForSequenceClassification\n",
        "config = AutoConfig.from_pretrained(model_name)\n",
        "config.num_labels = len(labels)\n",
        "\n",
        "hf_arch, hf_config, hf_tokenizer, hf_model = get_hf_objects(model_name, model_cls = model_cls, config = config)\n",
        "hf_model.config.problem_type = \"multi_label_classification\""
      ],
      "metadata": {
        "colab": {
          "base_uri": "https://localhost:8080/",
          "height": 301,
          "referenced_widgets": [
            "76dc1bf548544606a98a76f1fd58fb90",
            "de93c6ebb0074a57a72e3da5e37feb4a",
            "aac4365f1bd141d6b6e52cbde0a34ec3",
            "64c03b505c154413a4d4852cdf29dc23",
            "f6b9a5823a9b4e5d84401f3e01a7468d",
            "67dc351d8b6f44e08e514711a302786f",
            "be643efdf4654118a44b61f13dc17b50",
            "13b121b7dec74746888a23cde16d2863",
            "91a1d7f5e7bf4752989c389ed3589738",
            "9b78fc6f49ab4bc99050bcdc5fbe8aa0",
            "c71882039a274732a8b34e2214a911d2",
            "dd0f3ecec600474d9280fbb89df12c3b",
            "92e4ef182d8a455daa95e1f010bb58c2",
            "7e95ec0c03a541da9c87bbb4cc2b207d",
            "5d463f5941364efc89821fcdc7a54e71",
            "8d8a30b8cebb41468c29b290d2fca7dd",
            "16b7913c62984486afa6caf23fa470e8",
            "ed781b6e24e14905bf988e93dc79b7a2",
            "4d2ceb67fd2d45cba93bff84c54293e9",
            "211516c1df1043a29cc26648056e10af",
            "d43c42f86a52446ea3d74a2ac71ee586",
            "9386c98090864f0d89d2afb0e075f8de",
            "7b9c68d9fa724088ba9c83b4f3d84e4c",
            "f60cc4a890044d2f911d80ed47d2ab67",
            "02a8bd3f68634a7aa5b48cd1175c5874",
            "72e06b289913460eb29e11e8e434ff73",
            "101a681d18b240f5a83e9cf18bb4c0f5",
            "69f60e88d703460e9d31b85aae65b8af",
            "0a55feb57bd845a29fcbfd35463339f9",
            "7b7438ef45f044609df5da4e2539267b",
            "ec03cafe863f4c31b6fd67b32e6cc1d3",
            "f8d1ede7b3f441bf8ecca770122cf424",
            "3cbcb1e1bdeb46259f21642019c88b37",
            "9bb8f4371251475c8148429d33a48564",
            "7722637c15b64d66b1011a9d5b806c93",
            "177d6e9c269f4ddcafef1359fd94a1a3",
            "e886b64545d64d3e938441cf6f6efa28",
            "43bff5bfc2eb4a3e86f39537ec7841ab",
            "4c06780db0ca4861babe005277c95669",
            "319f6c76617743338c177b249aa283be",
            "866f19e68d2448578759d8d888553b69",
            "c9699c6db3734821a6118fce9ebce471",
            "8797c74d2c274581ba0e1881e10077d9",
            "1b1564c255944d77b27614220e42bb47",
            "5a14775ec8244699a110b60467d8ea1c",
            "a08825fa08d4490b9bfdb1a0ea99c892",
            "2e492e80071041948efcfe980c9c7fd4",
            "54366b50e6274039a6ee84cff6f931ef",
            "414beeb20c7d4d86a5fa073dc911b79e",
            "71dd542b9b824dbda99b310b19a45835",
            "479248e737924a7da476a4b49ba60225",
            "6c77a52e4e0c478c8040357ec852cd0e",
            "f58215a9c06b483a907d292624a332e7",
            "ca926f3eca1649fe9bb86f0dc99e459b",
            "c8dbab39087646bab2a55c419eec2afd"
          ]
        },
        "id": "yrEgOS2N2Vbs",
        "outputId": "a7d08efb-62f3-4dc4-86bc-7faa4c137358"
      },
      "execution_count": null,
      "outputs": [
        {
          "output_type": "stream",
          "name": "stderr",
          "text": [
            "/usr/local/lib/python3.10/dist-packages/huggingface_hub/utils/_token.py:72: UserWarning: \n",
            "The secret `HF_TOKEN` does not exist in your Colab secrets.\n",
            "To authenticate with the Hugging Face Hub, create a token in your settings tab (https://huggingface.co/settings/tokens), set it as secret in your Google Colab and restart your session.\n",
            "You will be able to reuse this secret in all of your notebooks.\n",
            "Please note that authentication is recommended but still optional to access public models or datasets.\n",
            "  warnings.warn(\n"
          ]
        },
        {
          "output_type": "display_data",
          "data": {
            "text/plain": [
              "config.json:   0%|          | 0.00/480 [00:00<?, ?B/s]"
            ],
            "application/vnd.jupyter.widget-view+json": {
              "version_major": 2,
              "version_minor": 0,
              "model_id": "76dc1bf548544606a98a76f1fd58fb90"
            }
          },
          "metadata": {}
        },
        {
          "output_type": "display_data",
          "data": {
            "text/plain": [
              "vocab.json:   0%|          | 0.00/899k [00:00<?, ?B/s]"
            ],
            "application/vnd.jupyter.widget-view+json": {
              "version_major": 2,
              "version_minor": 0,
              "model_id": "dd0f3ecec600474d9280fbb89df12c3b"
            }
          },
          "metadata": {}
        },
        {
          "output_type": "display_data",
          "data": {
            "text/plain": [
              "merges.txt:   0%|          | 0.00/456k [00:00<?, ?B/s]"
            ],
            "application/vnd.jupyter.widget-view+json": {
              "version_major": 2,
              "version_minor": 0,
              "model_id": "7b9c68d9fa724088ba9c83b4f3d84e4c"
            }
          },
          "metadata": {}
        },
        {
          "output_type": "display_data",
          "data": {
            "text/plain": [
              "tokenizer.json:   0%|          | 0.00/1.36M [00:00<?, ?B/s]"
            ],
            "application/vnd.jupyter.widget-view+json": {
              "version_major": 2,
              "version_minor": 0,
              "model_id": "9bb8f4371251475c8148429d33a48564"
            }
          },
          "metadata": {}
        },
        {
          "output_type": "display_data",
          "data": {
            "text/plain": [
              "model.safetensors:   0%|          | 0.00/331M [00:00<?, ?B/s]"
            ],
            "application/vnd.jupyter.widget-view+json": {
              "version_major": 2,
              "version_minor": 0,
              "model_id": "5a14775ec8244699a110b60467d8ea1c"
            }
          },
          "metadata": {}
        }
      ]
    },
    {
      "cell_type": "code",
      "source": [
        "df.columns"
      ],
      "metadata": {
        "colab": {
          "base_uri": "https://localhost:8080/"
        },
        "id": "tOk9RF1w4-gi",
        "outputId": "4798b19f-f911-4a46-c361-32232a99552e"
      },
      "execution_count": null,
      "outputs": [
        {
          "output_type": "execute_result",
          "data": {
            "text/plain": [
              "Index(['Quote', 'Author', 'Category', 'Url', 'Tags', 'revised_tags', 'labels'], dtype='object')"
            ]
          },
          "metadata": {},
          "execution_count": 17
        }
      ]
    },
    {
      "cell_type": "code",
      "source": [
        "df.dtypes"
      ],
      "metadata": {
        "colab": {
          "base_uri": "https://localhost:8080/"
        },
        "id": "mSnl-3P65oGN",
        "outputId": "75bfba5e-5184-4ac8-e2ce-d8688ce12166"
      },
      "execution_count": null,
      "outputs": [
        {
          "output_type": "execute_result",
          "data": {
            "text/plain": [
              "Quote           object\n",
              "Author          object\n",
              "Category        object\n",
              "Url             object\n",
              "Tags            object\n",
              "revised_tags    object\n",
              "labels          object\n",
              "dtype: object"
            ]
          },
          "metadata": {},
          "execution_count": 18
        }
      ]
    },
    {
      "cell_type": "code",
      "source": [
        "def convert_to_int(arr):\n",
        "  arr = np.array(eval(arr))\n",
        "  return arr.astype(np.int64)"
      ],
      "metadata": {
        "id": "kMdax1sE6OM1"
      },
      "execution_count": null,
      "outputs": []
    },
    {
      "cell_type": "code",
      "source": [
        "df['labels'] = df['labels'].apply(convert_to_int)"
      ],
      "metadata": {
        "id": "dr7lhHog5r-V"
      },
      "execution_count": null,
      "outputs": []
    },
    {
      "cell_type": "code",
      "source": [
        "df.head()"
      ],
      "metadata": {
        "colab": {
          "base_uri": "https://localhost:8080/",
          "height": 1000
        },
        "id": "gYkJKveo6x3p",
        "outputId": "412d4132-a808-4776-884e-2a96d785a094"
      },
      "execution_count": null,
      "outputs": [
        {
          "output_type": "execute_result",
          "data": {
            "text/plain": [
              "                                                                                      Quote  \\\n",
              "0                Age is an issue of mind over matter. If you don't mind, it doesn't matter.   \n",
              "1  A diplomat is a man who always remembers a woman's birthday but never remembers her age.   \n",
              "2                                                             Youth is wasted on the young.   \n",
              "3                              You can't help getting older, but you don't have to get old.   \n",
              "4         As I grow older, I pay less attention to what men say. I just watch what they do.   \n",
              "\n",
              "                Author Category  \\\n",
              "0           Mark Twain      Age   \n",
              "1         Robert Frost      Age   \n",
              "2  George Bernard Shaw      Age   \n",
              "3         George Burns      Age   \n",
              "4      Andrew Carnegie      Age   \n",
              "\n",
              "                                                                       Url  \\\n",
              "0           https://www.brainyquote.com/quotes/mark_twain_103892?src=t_age   \n",
              "1         https://www.brainyquote.com/quotes/robert_frost_107290?src=t_age   \n",
              "2  https://www.brainyquote.com/quotes/george_bernard_shaw_131494?src=t_age   \n",
              "3         https://www.brainyquote.com/quotes/george_burns_103932?src=t_age   \n",
              "4      https://www.brainyquote.com/quotes/andrew_carnegie_106123?src=t_age   \n",
              "\n",
              "                                             Tags  \\\n",
              "0      ['Age', 'Mind', 'Matter', 'Over', 'Issue']   \n",
              "1    ['Birthday', 'Age', 'Man', 'Never', 'Woman']   \n",
              "2             ['Age', 'Youth', 'Young', 'Wasted']   \n",
              "3  ['Age', 'Getting Older', 'Help', 'Old', 'Get']   \n",
              "4      ['Age', 'Men', 'Grow', 'Attention', 'Pay']   \n",
              "\n",
              "                                   revised_tags  \\\n",
              "0             ['Age', 'Mind', 'Matter', 'Over']   \n",
              "1  ['Birthday', 'Age', 'Man', 'Never', 'Woman']   \n",
              "2                     ['Age', 'Youth', 'Young']   \n",
              "3                 ['Age', 'Help', 'Old', 'Get']   \n",
              "4    ['Age', 'Men', 'Grow', 'Attention', 'Pay']   \n",
              "\n",
              "                                                                                                                                                                                                                                                                                                              labels  \n",
              "0  [1, 1, 1, 1, 0, 0, 0, 0, 0, 0, 0, 0, 0, 0, 0, 0, 0, 0, 0, 0, 0, 0, 0, 0, 0, 0, 0, 0, 0, 0, 0, 0, 0, 0, 0, 0, 0, 0, 0, 0, 0, 0, 0, 0, 0, 0, 0, 0, 0, 0, 0, 0, 0, 0, 0, 0, 0, 0, 0, 0, 0, 0, 0, 0, 0, 0, 0, 0, 0, 0, 0, 0, 0, 0, 0, 0, 0, 0, 0, 0, 0, 0, 0, 0, 0, 0, 0, 0, 0, 0, 0, 0, 0, 0, 0, 0, 0, 0, 0, 0, ...]  \n",
              "1  [1, 0, 0, 0, 1, 1, 1, 1, 0, 0, 0, 0, 0, 0, 0, 0, 0, 0, 0, 0, 0, 0, 0, 0, 0, 0, 0, 0, 0, 0, 0, 0, 0, 0, 0, 0, 0, 0, 0, 0, 0, 0, 0, 0, 0, 0, 0, 0, 0, 0, 0, 0, 0, 0, 0, 0, 0, 0, 0, 0, 0, 0, 0, 0, 0, 0, 0, 0, 0, 0, 0, 0, 0, 0, 0, 0, 0, 0, 0, 0, 0, 0, 0, 0, 0, 0, 0, 0, 0, 0, 0, 0, 0, 0, 0, 0, 0, 0, 0, 0, ...]  \n",
              "2  [1, 0, 0, 0, 0, 0, 0, 0, 1, 1, 0, 0, 0, 0, 0, 0, 0, 0, 0, 0, 0, 0, 0, 0, 0, 0, 0, 0, 0, 0, 0, 0, 0, 0, 0, 0, 0, 0, 0, 0, 0, 0, 0, 0, 0, 0, 0, 0, 0, 0, 0, 0, 0, 0, 0, 0, 0, 0, 0, 0, 0, 0, 0, 0, 0, 0, 0, 0, 0, 0, 0, 0, 0, 0, 0, 0, 0, 0, 0, 0, 0, 0, 0, 0, 0, 0, 0, 0, 0, 0, 0, 0, 0, 0, 0, 0, 0, 0, 0, 0, ...]  \n",
              "3  [1, 0, 0, 0, 0, 0, 0, 0, 0, 0, 1, 1, 1, 0, 0, 0, 0, 0, 0, 0, 0, 0, 0, 0, 0, 0, 0, 0, 0, 0, 0, 0, 0, 0, 0, 0, 0, 0, 0, 0, 0, 0, 0, 0, 0, 0, 0, 0, 0, 0, 0, 0, 0, 0, 0, 0, 0, 0, 0, 0, 0, 0, 0, 0, 0, 0, 0, 0, 0, 0, 0, 0, 0, 0, 0, 0, 0, 0, 0, 0, 0, 0, 0, 0, 0, 0, 0, 0, 0, 0, 0, 0, 0, 0, 0, 0, 0, 0, 0, 0, ...]  \n",
              "4  [1, 0, 0, 0, 0, 0, 0, 0, 0, 0, 0, 0, 0, 1, 1, 1, 1, 0, 0, 0, 0, 0, 0, 0, 0, 0, 0, 0, 0, 0, 0, 0, 0, 0, 0, 0, 0, 0, 0, 0, 0, 0, 0, 0, 0, 0, 0, 0, 0, 0, 0, 0, 0, 0, 0, 0, 0, 0, 0, 0, 0, 0, 0, 0, 0, 0, 0, 0, 0, 0, 0, 0, 0, 0, 0, 0, 0, 0, 0, 0, 0, 0, 0, 0, 0, 0, 0, 0, 0, 0, 0, 0, 0, 0, 0, 0, 0, 0, 0, 0, ...]  "
            ],
            "text/html": [
              "\n",
              "  <div id=\"df-41ee8a64-f153-48ca-ba98-87776887d927\" class=\"colab-df-container\">\n",
              "    <div>\n",
              "<style scoped>\n",
              "    .dataframe tbody tr th:only-of-type {\n",
              "        vertical-align: middle;\n",
              "    }\n",
              "\n",
              "    .dataframe tbody tr th {\n",
              "        vertical-align: top;\n",
              "    }\n",
              "\n",
              "    .dataframe thead th {\n",
              "        text-align: right;\n",
              "    }\n",
              "</style>\n",
              "<table border=\"1\" class=\"dataframe\">\n",
              "  <thead>\n",
              "    <tr style=\"text-align: right;\">\n",
              "      <th></th>\n",
              "      <th>Quote</th>\n",
              "      <th>Author</th>\n",
              "      <th>Category</th>\n",
              "      <th>Url</th>\n",
              "      <th>Tags</th>\n",
              "      <th>revised_tags</th>\n",
              "      <th>labels</th>\n",
              "    </tr>\n",
              "  </thead>\n",
              "  <tbody>\n",
              "    <tr>\n",
              "      <th>0</th>\n",
              "      <td>Age is an issue of mind over matter. If you don't mind, it doesn't matter.</td>\n",
              "      <td>Mark Twain</td>\n",
              "      <td>Age</td>\n",
              "      <td>https://www.brainyquote.com/quotes/mark_twain_103892?src=t_age</td>\n",
              "      <td>['Age', 'Mind', 'Matter', 'Over', 'Issue']</td>\n",
              "      <td>['Age', 'Mind', 'Matter', 'Over']</td>\n",
              "      <td>[1, 1, 1, 1, 0, 0, 0, 0, 0, 0, 0, 0, 0, 0, 0, 0, 0, 0, 0, 0, 0, 0, 0, 0, 0, 0, 0, 0, 0, 0, 0, 0, 0, 0, 0, 0, 0, 0, 0, 0, 0, 0, 0, 0, 0, 0, 0, 0, 0, 0, 0, 0, 0, 0, 0, 0, 0, 0, 0, 0, 0, 0, 0, 0, 0, 0, 0, 0, 0, 0, 0, 0, 0, 0, 0, 0, 0, 0, 0, 0, 0, 0, 0, 0, 0, 0, 0, 0, 0, 0, 0, 0, 0, 0, 0, 0, 0, 0, 0, 0, ...]</td>\n",
              "    </tr>\n",
              "    <tr>\n",
              "      <th>1</th>\n",
              "      <td>A diplomat is a man who always remembers a woman's birthday but never remembers her age.</td>\n",
              "      <td>Robert Frost</td>\n",
              "      <td>Age</td>\n",
              "      <td>https://www.brainyquote.com/quotes/robert_frost_107290?src=t_age</td>\n",
              "      <td>['Birthday', 'Age', 'Man', 'Never', 'Woman']</td>\n",
              "      <td>['Birthday', 'Age', 'Man', 'Never', 'Woman']</td>\n",
              "      <td>[1, 0, 0, 0, 1, 1, 1, 1, 0, 0, 0, 0, 0, 0, 0, 0, 0, 0, 0, 0, 0, 0, 0, 0, 0, 0, 0, 0, 0, 0, 0, 0, 0, 0, 0, 0, 0, 0, 0, 0, 0, 0, 0, 0, 0, 0, 0, 0, 0, 0, 0, 0, 0, 0, 0, 0, 0, 0, 0, 0, 0, 0, 0, 0, 0, 0, 0, 0, 0, 0, 0, 0, 0, 0, 0, 0, 0, 0, 0, 0, 0, 0, 0, 0, 0, 0, 0, 0, 0, 0, 0, 0, 0, 0, 0, 0, 0, 0, 0, 0, ...]</td>\n",
              "    </tr>\n",
              "    <tr>\n",
              "      <th>2</th>\n",
              "      <td>Youth is wasted on the young.</td>\n",
              "      <td>George Bernard Shaw</td>\n",
              "      <td>Age</td>\n",
              "      <td>https://www.brainyquote.com/quotes/george_bernard_shaw_131494?src=t_age</td>\n",
              "      <td>['Age', 'Youth', 'Young', 'Wasted']</td>\n",
              "      <td>['Age', 'Youth', 'Young']</td>\n",
              "      <td>[1, 0, 0, 0, 0, 0, 0, 0, 1, 1, 0, 0, 0, 0, 0, 0, 0, 0, 0, 0, 0, 0, 0, 0, 0, 0, 0, 0, 0, 0, 0, 0, 0, 0, 0, 0, 0, 0, 0, 0, 0, 0, 0, 0, 0, 0, 0, 0, 0, 0, 0, 0, 0, 0, 0, 0, 0, 0, 0, 0, 0, 0, 0, 0, 0, 0, 0, 0, 0, 0, 0, 0, 0, 0, 0, 0, 0, 0, 0, 0, 0, 0, 0, 0, 0, 0, 0, 0, 0, 0, 0, 0, 0, 0, 0, 0, 0, 0, 0, 0, ...]</td>\n",
              "    </tr>\n",
              "    <tr>\n",
              "      <th>3</th>\n",
              "      <td>You can't help getting older, but you don't have to get old.</td>\n",
              "      <td>George Burns</td>\n",
              "      <td>Age</td>\n",
              "      <td>https://www.brainyquote.com/quotes/george_burns_103932?src=t_age</td>\n",
              "      <td>['Age', 'Getting Older', 'Help', 'Old', 'Get']</td>\n",
              "      <td>['Age', 'Help', 'Old', 'Get']</td>\n",
              "      <td>[1, 0, 0, 0, 0, 0, 0, 0, 0, 0, 1, 1, 1, 0, 0, 0, 0, 0, 0, 0, 0, 0, 0, 0, 0, 0, 0, 0, 0, 0, 0, 0, 0, 0, 0, 0, 0, 0, 0, 0, 0, 0, 0, 0, 0, 0, 0, 0, 0, 0, 0, 0, 0, 0, 0, 0, 0, 0, 0, 0, 0, 0, 0, 0, 0, 0, 0, 0, 0, 0, 0, 0, 0, 0, 0, 0, 0, 0, 0, 0, 0, 0, 0, 0, 0, 0, 0, 0, 0, 0, 0, 0, 0, 0, 0, 0, 0, 0, 0, 0, ...]</td>\n",
              "    </tr>\n",
              "    <tr>\n",
              "      <th>4</th>\n",
              "      <td>As I grow older, I pay less attention to what men say. I just watch what they do.</td>\n",
              "      <td>Andrew Carnegie</td>\n",
              "      <td>Age</td>\n",
              "      <td>https://www.brainyquote.com/quotes/andrew_carnegie_106123?src=t_age</td>\n",
              "      <td>['Age', 'Men', 'Grow', 'Attention', 'Pay']</td>\n",
              "      <td>['Age', 'Men', 'Grow', 'Attention', 'Pay']</td>\n",
              "      <td>[1, 0, 0, 0, 0, 0, 0, 0, 0, 0, 0, 0, 0, 1, 1, 1, 1, 0, 0, 0, 0, 0, 0, 0, 0, 0, 0, 0, 0, 0, 0, 0, 0, 0, 0, 0, 0, 0, 0, 0, 0, 0, 0, 0, 0, 0, 0, 0, 0, 0, 0, 0, 0, 0, 0, 0, 0, 0, 0, 0, 0, 0, 0, 0, 0, 0, 0, 0, 0, 0, 0, 0, 0, 0, 0, 0, 0, 0, 0, 0, 0, 0, 0, 0, 0, 0, 0, 0, 0, 0, 0, 0, 0, 0, 0, 0, 0, 0, 0, 0, ...]</td>\n",
              "    </tr>\n",
              "  </tbody>\n",
              "</table>\n",
              "</div>\n",
              "    <div class=\"colab-df-buttons\">\n",
              "\n",
              "  <div class=\"colab-df-container\">\n",
              "    <button class=\"colab-df-convert\" onclick=\"convertToInteractive('df-41ee8a64-f153-48ca-ba98-87776887d927')\"\n",
              "            title=\"Convert this dataframe to an interactive table.\"\n",
              "            style=\"display:none;\">\n",
              "\n",
              "  <svg xmlns=\"http://www.w3.org/2000/svg\" height=\"24px\" viewBox=\"0 -960 960 960\">\n",
              "    <path d=\"M120-120v-720h720v720H120Zm60-500h600v-160H180v160Zm220 220h160v-160H400v160Zm0 220h160v-160H400v160ZM180-400h160v-160H180v160Zm440 0h160v-160H620v160ZM180-180h160v-160H180v160Zm440 0h160v-160H620v160Z\"/>\n",
              "  </svg>\n",
              "    </button>\n",
              "\n",
              "  <style>\n",
              "    .colab-df-container {\n",
              "      display:flex;\n",
              "      gap: 12px;\n",
              "    }\n",
              "\n",
              "    .colab-df-convert {\n",
              "      background-color: #E8F0FE;\n",
              "      border: none;\n",
              "      border-radius: 50%;\n",
              "      cursor: pointer;\n",
              "      display: none;\n",
              "      fill: #1967D2;\n",
              "      height: 32px;\n",
              "      padding: 0 0 0 0;\n",
              "      width: 32px;\n",
              "    }\n",
              "\n",
              "    .colab-df-convert:hover {\n",
              "      background-color: #E2EBFA;\n",
              "      box-shadow: 0px 1px 2px rgba(60, 64, 67, 0.3), 0px 1px 3px 1px rgba(60, 64, 67, 0.15);\n",
              "      fill: #174EA6;\n",
              "    }\n",
              "\n",
              "    .colab-df-buttons div {\n",
              "      margin-bottom: 4px;\n",
              "    }\n",
              "\n",
              "    [theme=dark] .colab-df-convert {\n",
              "      background-color: #3B4455;\n",
              "      fill: #D2E3FC;\n",
              "    }\n",
              "\n",
              "    [theme=dark] .colab-df-convert:hover {\n",
              "      background-color: #434B5C;\n",
              "      box-shadow: 0px 1px 3px 1px rgba(0, 0, 0, 0.15);\n",
              "      filter: drop-shadow(0px 1px 2px rgba(0, 0, 0, 0.3));\n",
              "      fill: #FFFFFF;\n",
              "    }\n",
              "  </style>\n",
              "\n",
              "    <script>\n",
              "      const buttonEl =\n",
              "        document.querySelector('#df-41ee8a64-f153-48ca-ba98-87776887d927 button.colab-df-convert');\n",
              "      buttonEl.style.display =\n",
              "        google.colab.kernel.accessAllowed ? 'block' : 'none';\n",
              "\n",
              "      async function convertToInteractive(key) {\n",
              "        const element = document.querySelector('#df-41ee8a64-f153-48ca-ba98-87776887d927');\n",
              "        const dataTable =\n",
              "          await google.colab.kernel.invokeFunction('convertToInteractive',\n",
              "                                                    [key], {});\n",
              "        if (!dataTable) return;\n",
              "\n",
              "        const docLinkHtml = 'Like what you see? Visit the ' +\n",
              "          '<a target=\"_blank\" href=https://colab.research.google.com/notebooks/data_table.ipynb>data table notebook</a>'\n",
              "          + ' to learn more about interactive tables.';\n",
              "        element.innerHTML = '';\n",
              "        dataTable['output_type'] = 'display_data';\n",
              "        await google.colab.output.renderOutput(dataTable, element);\n",
              "        const docLink = document.createElement('div');\n",
              "        docLink.innerHTML = docLinkHtml;\n",
              "        element.appendChild(docLink);\n",
              "      }\n",
              "    </script>\n",
              "  </div>\n",
              "\n",
              "\n",
              "<div id=\"df-8c5e630c-6e9d-4557-b34a-e555569e3372\">\n",
              "  <button class=\"colab-df-quickchart\" onclick=\"quickchart('df-8c5e630c-6e9d-4557-b34a-e555569e3372')\"\n",
              "            title=\"Suggest charts\"\n",
              "            style=\"display:none;\">\n",
              "\n",
              "<svg xmlns=\"http://www.w3.org/2000/svg\" height=\"24px\"viewBox=\"0 0 24 24\"\n",
              "     width=\"24px\">\n",
              "    <g>\n",
              "        <path d=\"M19 3H5c-1.1 0-2 .9-2 2v14c0 1.1.9 2 2 2h14c1.1 0 2-.9 2-2V5c0-1.1-.9-2-2-2zM9 17H7v-7h2v7zm4 0h-2V7h2v10zm4 0h-2v-4h2v4z\"/>\n",
              "    </g>\n",
              "</svg>\n",
              "  </button>\n",
              "\n",
              "<style>\n",
              "  .colab-df-quickchart {\n",
              "      --bg-color: #E8F0FE;\n",
              "      --fill-color: #1967D2;\n",
              "      --hover-bg-color: #E2EBFA;\n",
              "      --hover-fill-color: #174EA6;\n",
              "      --disabled-fill-color: #AAA;\n",
              "      --disabled-bg-color: #DDD;\n",
              "  }\n",
              "\n",
              "  [theme=dark] .colab-df-quickchart {\n",
              "      --bg-color: #3B4455;\n",
              "      --fill-color: #D2E3FC;\n",
              "      --hover-bg-color: #434B5C;\n",
              "      --hover-fill-color: #FFFFFF;\n",
              "      --disabled-bg-color: #3B4455;\n",
              "      --disabled-fill-color: #666;\n",
              "  }\n",
              "\n",
              "  .colab-df-quickchart {\n",
              "    background-color: var(--bg-color);\n",
              "    border: none;\n",
              "    border-radius: 50%;\n",
              "    cursor: pointer;\n",
              "    display: none;\n",
              "    fill: var(--fill-color);\n",
              "    height: 32px;\n",
              "    padding: 0;\n",
              "    width: 32px;\n",
              "  }\n",
              "\n",
              "  .colab-df-quickchart:hover {\n",
              "    background-color: var(--hover-bg-color);\n",
              "    box-shadow: 0 1px 2px rgba(60, 64, 67, 0.3), 0 1px 3px 1px rgba(60, 64, 67, 0.15);\n",
              "    fill: var(--button-hover-fill-color);\n",
              "  }\n",
              "\n",
              "  .colab-df-quickchart-complete:disabled,\n",
              "  .colab-df-quickchart-complete:disabled:hover {\n",
              "    background-color: var(--disabled-bg-color);\n",
              "    fill: var(--disabled-fill-color);\n",
              "    box-shadow: none;\n",
              "  }\n",
              "\n",
              "  .colab-df-spinner {\n",
              "    border: 2px solid var(--fill-color);\n",
              "    border-color: transparent;\n",
              "    border-bottom-color: var(--fill-color);\n",
              "    animation:\n",
              "      spin 1s steps(1) infinite;\n",
              "  }\n",
              "\n",
              "  @keyframes spin {\n",
              "    0% {\n",
              "      border-color: transparent;\n",
              "      border-bottom-color: var(--fill-color);\n",
              "      border-left-color: var(--fill-color);\n",
              "    }\n",
              "    20% {\n",
              "      border-color: transparent;\n",
              "      border-left-color: var(--fill-color);\n",
              "      border-top-color: var(--fill-color);\n",
              "    }\n",
              "    30% {\n",
              "      border-color: transparent;\n",
              "      border-left-color: var(--fill-color);\n",
              "      border-top-color: var(--fill-color);\n",
              "      border-right-color: var(--fill-color);\n",
              "    }\n",
              "    40% {\n",
              "      border-color: transparent;\n",
              "      border-right-color: var(--fill-color);\n",
              "      border-top-color: var(--fill-color);\n",
              "    }\n",
              "    60% {\n",
              "      border-color: transparent;\n",
              "      border-right-color: var(--fill-color);\n",
              "    }\n",
              "    80% {\n",
              "      border-color: transparent;\n",
              "      border-right-color: var(--fill-color);\n",
              "      border-bottom-color: var(--fill-color);\n",
              "    }\n",
              "    90% {\n",
              "      border-color: transparent;\n",
              "      border-bottom-color: var(--fill-color);\n",
              "    }\n",
              "  }\n",
              "</style>\n",
              "\n",
              "  <script>\n",
              "    async function quickchart(key) {\n",
              "      const quickchartButtonEl =\n",
              "        document.querySelector('#' + key + ' button');\n",
              "      quickchartButtonEl.disabled = true;  // To prevent multiple clicks.\n",
              "      quickchartButtonEl.classList.add('colab-df-spinner');\n",
              "      try {\n",
              "        const charts = await google.colab.kernel.invokeFunction(\n",
              "            'suggestCharts', [key], {});\n",
              "      } catch (error) {\n",
              "        console.error('Error during call to suggestCharts:', error);\n",
              "      }\n",
              "      quickchartButtonEl.classList.remove('colab-df-spinner');\n",
              "      quickchartButtonEl.classList.add('colab-df-quickchart-complete');\n",
              "    }\n",
              "    (() => {\n",
              "      let quickchartButtonEl =\n",
              "        document.querySelector('#df-8c5e630c-6e9d-4557-b34a-e555569e3372 button');\n",
              "      quickchartButtonEl.style.display =\n",
              "        google.colab.kernel.accessAllowed ? 'block' : 'none';\n",
              "    })();\n",
              "  </script>\n",
              "</div>\n",
              "\n",
              "    </div>\n",
              "  </div>\n"
            ]
          },
          "metadata": {},
          "execution_count": 21
        }
      ]
    },
    {
      "cell_type": "code",
      "source": [
        "blocks = (TextBlock(hf_arch, hf_config, hf_tokenizer, hf_model), MultiCategoryBlock(encoded = True, vocab = labels))\n",
        "dblock = DataBlock(blocks = blocks, get_x = ColReader('Quote'), get_y = ColReader('labels'), splitter = RandomSplitter(valid_pct = 0.2, seed = 42))"
      ],
      "metadata": {
        "id": "VBhehlYl3fiF"
      },
      "execution_count": null,
      "outputs": []
    },
    {
      "cell_type": "code",
      "source": [
        "dls = dblock.dataloaders(df, bs = 32)"
      ],
      "metadata": {
        "id": "xITNy8gL5NHo"
      },
      "execution_count": null,
      "outputs": []
    },
    {
      "cell_type": "code",
      "source": [
        "dls_path = \"dataloaders\"\n",
        "if not os.path.exists(dls_path):\n",
        "  os.makedirs(dls_path)\n",
        "torch.save(dls, \"dataloaders/dls-multilabel-quote-classifier.pkl\")"
      ],
      "metadata": {
        "id": "ovyLzI7C5TP1"
      },
      "execution_count": null,
      "outputs": []
    },
    {
      "cell_type": "code",
      "source": [
        "dls.vocab"
      ],
      "metadata": {
        "colab": {
          "base_uri": "https://localhost:8080/"
        },
        "id": "-DZjns6o8Igy",
        "outputId": "b7c56486-88db-49fc-a7a9-cd54e22c375e"
      },
      "execution_count": null,
      "outputs": [
        {
          "output_type": "execute_result",
          "data": {
            "text/plain": [
              "['Age', 'Mind', 'Matter', 'Over', 'Birthday', 'Man', 'Never', 'Woman', 'Youth', 'Young', 'Help', 'Old', 'Get', 'Men', 'Grow', 'Attention', 'Pay', 'Strength', 'Opportunity', 'Remember', 'Morning', 'Wake Up', 'School', 'Country', 'Happy', 'Child', 'Lie', 'Live', 'Old Age', 'Place', 'Nothing', 'High', 'Best', 'Improve', 'Soul', 'Change', 'Great', 'People', 'I Am', 'Strange', 'Me', 'Try', 'Environment', 'Growing Up', 'Up', 'Life', 'End', 'Wish', 'Minds', 'Order', 'Very', 'Time', 'Habit', 'Busy', 'Person', 'Women', 'Myself', 'Beautiful', 'Purpose', 'Learning', 'Art', 'Work', 'Nature', 'Gift', 'Good', 'Believe', 'True', 'Light', 'Night', 'Love', 'Does', 'Everything', 'How', 'You', 'Success', 'Start', 'Children', 'Who', 'Those', 'Face', 'Long', 'Important', 'Stop', 'Because', 'Heart', 'Always', 'Same', 'She', 'More', 'Something', 'Whatever', 'Early', 'Happens', 'Lose', 'Friend', 'Enemy', 'Only', 'Sad', 'Nice', 'Look', 'Father', 'Blood', 'Wife', 'Trust', 'Your', 'Our', 'Grace', 'Money', 'Health', 'Others', 'Past', 'Black', 'Book', 'Know', 'Body', 'Mirror', 'Day', 'Energy', 'Simply', 'Enough', 'Hope', 'Without', 'Moment', 'Back', 'Late', 'Year', 'New', 'Giving', 'Knowledge', 'Own', 'Feel', 'Effort', 'Process', 'Company', 'Real', 'Rich', 'Where', 'Should', 'Been', 'Thinking', 'Still', 'Had', 'Sin', 'Being', 'Home', 'World', 'Lost', 'Parents', 'Interesting', 'Journey', 'Road', 'Advice', 'Living', 'Needs', 'Nobody', 'Respect', 'Tomorrow', 'Possible', 'Family', 'Like', 'Cannot', 'Better', 'America', 'Just', 'Green', 'Pride', 'Belief', 'Funny', 'Wrong', 'Play', 'Stars', 'Dress', 'Sky', 'Born', 'Talent', 'Will', 'Struggle', 'Regret', 'Confidence', 'Now', 'Hands', 'Moon', 'Poet', 'Head', 'Business', 'Within', 'Come', 'Dreams', 'Fight', 'Afraid', 'Way', 'Death', 'Attitude', 'Losing', 'Genius', 'Understand', 'Learn', 'Culture', 'Cinema', 'Faith', 'Religion', 'Brainy', 'Happiness', 'Failure', 'Passion', 'First', 'Fun', 'Ideas', 'Sex', 'News', 'Bad', 'Mean', 'Destiny', 'Information', 'Wisdom', 'Fool', 'Spirit', 'Find', 'Next', 'War', 'Violence', 'Imagination', 'Picture', 'Motivational', 'Universe', 'Church', 'Experience', 'Far', 'Education', 'Forget', 'Dead', 'Two', 'He', 'Years', 'Act', 'About', 'Need', 'Us', 'Marriage', 'Which', 'Moments', 'Search', 'Think', 'Unique', 'Special', 'Meaning', 'Right', 'Skill', 'Go', 'Die', 'Someone', 'Today', 'Media', 'Human', 'Poor', 'Progress', 'Vision', 'Wise', 'Away', 'Alone', 'Truth', 'Battle', 'Food', 'Architecture', 'Memories', 'Hard', 'Anything', 'I Think', 'Dad', 'Kindness', 'Emotions', 'Pressure', 'Poverty', 'Evil', 'Well', 'God', 'Three', 'Legal', 'Lawyer', 'Politics', 'Political', 'Feelings', 'Game', 'Walk', 'Character', 'Before', 'Justice', 'Personality', 'Greatness', \"don't Care\", 'Care', 'Much', 'Any', 'Friends', 'Beauty', 'Future', 'Positive', 'Power', 'Door', 'Sometimes', 'Car', 'Going', 'Control', 'Waiting', 'Community', 'Trying', 'Fear', 'Practice', 'Eyes', 'Wonder', 'Talk', 'Value', 'History', 'Poetry', 'Daily', 'Forgiveness', 'Ambition', 'Powerful', 'Little', 'Sympathy', 'Tough', 'Government', 'Society', 'Support', 'Job', 'Weird', 'Artist', 'Mother', 'Behavior', 'Speak', 'Thankful', 'Acting', 'Music', 'Cool', 'Tired', 'Keep', 'Magic', 'Hell', 'Singing', 'Mom', 'Dance', 'Laugh', 'Every Day', 'Technology', 'Romantic', 'Free', 'Medical', 'Situation', 'Fame', 'Language', 'Question', 'Want', 'Meet', 'Rest', 'Travel', 'Fish', 'Values', 'Humanity', 'Problems', 'Achievement', 'Story', 'Feet', 'Leadership', 'Out', 'Social Media', 'Gender', 'Style', 'Key', 'Beginning', 'Doing', 'Even', 'Done', 'Freedom', 'Together', 'Why', 'Childhood', 'Generation', 'Race', 'Direction', 'Discipline', 'Dating', 'Diet', 'Internet', 'Opinion', 'Doctor', 'Days', 'Too', 'Ignorance', 'Winning', 'Memory', 'Sense', 'Courage', 'Impact', 'Wealth', 'Loved', 'See', 'Become', 'Movies', 'Television', 'Gratitude', 'Simple', 'Friendship', 'View', 'Football', 'Space', 'Fitness', 'Peace', 'Present', 'Ahead', 'Blessed', 'Potential', 'Dream', 'Teacher', 'Brain', 'Say', 'Alive', 'Tree', 'Worst', 'Lot', 'Law', 'Bring', 'Intelligence', 'Fighting', 'General', 'Challenges', 'Difficult', 'Hard Work', 'Beyond', 'Result', 'Understanding', 'Things', 'Rather', 'Limits', 'Pain', 'Fans', 'Really', 'Influence', 'Focus', 'Achieve', 'Decision', 'Army', 'Son', 'Hate', 'Ability', 'Cold', 'Tradition', 'Amazing', 'Research', 'Top', 'Loyalty', 'Forever', 'Your Dreams', 'Guitar', 'Every', 'Chance', 'My Life', 'Am', 'Survive', 'Hero', 'Goals', 'Crazy', 'Quite', 'Smart', 'Building', 'City', 'Yes', 'I Can', 'Deep', 'Reality', 'Moving', 'Rights', 'Make', 'Stay', 'Rules', 'Name', 'Impossible', 'Design', 'Build', 'Finance', 'Would', 'Suffering', 'May', 'Science', 'Last', 'Responsibility', 'Than', 'Through', 'Shadow', 'Luck', 'Computers', 'Liberty', 'Love Is', 'Talking', 'Relationship', 'King', 'Sports', 'Literature', 'Many', 'Choice', 'Quiet', 'Democracy', 'Water', 'Path', 'Spiritual', 'Escape', 'Patience', 'American', 'Weakness', 'Bible', 'Often', 'Integrity', 'Conflict', 'Fashion', 'Train', 'Action', 'Duty', 'Doubt', 'Laughter', 'Too Much', 'White', 'Competition', 'Moving On', 'Perspective', 'Reason', 'Fiction', 'Career', 'Enjoy', 'Dangerous', 'Listening', 'Looking', 'Street', 'Brother', 'Yourself', 'Room', 'Wonderful', 'Sun', 'Independence', 'Easy', 'Heaven', 'Use', 'Thoughts', 'Everyone', 'Choices', 'Voice', 'Song', 'Earth', 'Desire', 'Sleep', 'Stand', 'Quality', \"Valentine's Day\", 'Graduation', 'Christmas', 'Accept', 'Strong', 'Them', 'Revolution', 'Environmental', 'Anger', 'Hurt', 'Other', 'Israel', 'Service', 'Force', 'Table', 'Credit', 'Brave', 'Half', 'Equality', 'Questions', 'Rise', 'Jealousy', 'Enemies', 'Step', 'Growth', 'Cooking', 'Humility', 'Stage', 'Sacrifice', 'Sound', 'Follow', 'Silence', 'Prayer', 'Communication', 'Fly', 'Fall', 'Ready', 'Teen', 'Risks', 'Gardening', 'Worry', 'Patriotism', 'Point', 'Words', 'Team', 'Honor', 'Famous', 'Must', 'Tears', 'Honesty', 'Exist', 'Birth', 'Truth Is', 'Dog', 'Victory', 'Wants', 'Create', 'Realize', 'Commitment', 'Interest', 'Safe', 'Kind', 'Aim', 'Social', 'Eating', 'Film', 'Data', 'Writing', 'Balance', 'Nation', 'Fire', 'System', 'Stupid', 'Wind', 'Big', 'Gay', 'Constitution', 'Economic', 'Thing', 'Negative', 'Used', 'Inspirational', 'Smile', 'Joy', 'Fast', 'Pretty', 'Most', 'Humble', 'Drive', 'Security', 'Again', 'Sweet', 'Comedy', 'Easter', 'Made', 'Events', 'Angry', 'Thanksgiving', 'Fruit', 'Drama', 'Development', 'Pet', 'Line', 'Celebrate', 'Humor', 'Down', 'Waste', 'Serious', 'Seeing', 'Lifestyle', 'Sense Of Humor', 'Wedding', 'Facts', 'Anniversary', 'Thank God', 'Mistakes', 'Holiday', 'Foundation', 'Painting', 'Intellectual', 'College', 'Knowing', 'Training', 'Parenting', 'Success Is']"
            ]
          },
          "metadata": {},
          "execution_count": 25
        }
      ]
    },
    {
      "cell_type": "code",
      "source": [
        "dls.show_batch(dataloaders=dls, max_n=4, trunc_at=512)"
      ],
      "metadata": {
        "colab": {
          "base_uri": "https://localhost:8080/",
          "height": 314
        },
        "id": "J2bzQEqM9Dd4",
        "outputId": "78b9dcb5-1bf4-4fe4-fae3-15dcb3da3e50"
      },
      "execution_count": null,
      "outputs": [
        {
          "output_type": "display_data",
          "data": {
            "text/plain": [
              "<IPython.core.display.HTML object>"
            ],
            "text/html": [
              "<table border=\"1\" class=\"dataframe\">\n",
              "  <thead>\n",
              "    <tr style=\"text-align: right;\">\n",
              "      <th></th>\n",
              "      <th>text</th>\n",
              "      <th>target</th>\n",
              "    </tr>\n",
              "  </thead>\n",
              "  <tbody>\n",
              "    <tr>\n",
              "      <th>0</th>\n",
              "      <td>You can scroll through my iTunes and I've got everything. I've got Ace Hood, Alt-J, Annie Lennox, Arctic Monkeys, Beanie Sigel, the Beatles, Beth Hart, Big Sean, Bob Dylan, Bon Iver, Chief Keef, Coldplay, the Flaming Lips, Mariah Carey, Miley Cyrus, Nicki Minaj, OutKast, Pet Shop Boys, Peter Gabriel, the Smiths, and the list goes on from there.</td>\n",
              "      <td>[Everything, Big, Pet]</td>\n",
              "    </tr>\n",
              "    <tr>\n",
              "      <th>1</th>\n",
              "      <td>Oftentimes, it feels like we spend so much of our life waiting to make art, waiting for somebody to let us do something. You don't really have to do that. You can make it all the time. And 99 percent of the time, it's not going to be a big deal on a global scale. But 100 percent of the time, it's going to make you feel amazing.</td>\n",
              "      <td>[Life, Time, Art, Waiting, Amazing]</td>\n",
              "    </tr>\n",
              "    <tr>\n",
              "      <th>2</th>\n",
              "      <td>I was a vegan for two years, and I really enjoyed it. Then, I got to a point in my life at which I wanted to do something else, so now I'm a vegetarian. You should make your diet one that best fits you and how you feel. Listen to your body. The most important thing is to exercise, drink lots of water, and take really good care of yourself.</td>\n",
              "      <td>[Best, Life, Good, Diet, Water]</td>\n",
              "    </tr>\n",
              "    <tr>\n",
              "      <th>3</th>\n",
              "      <td>I have no problem with the idea of comfort, but it is not an important thing aesthetically. If you look at a shoe and immediately say it looks very comfortable, in terms of design, it is not going to excite me. Of course, I am not putting nails in my shoes to ensure everybody is in pain, but a heel is not a pair of slippers and never will be.</td>\n",
              "      <td>[I Am, Look, Pain, Design]</td>\n",
              "    </tr>\n",
              "  </tbody>\n",
              "</table>"
            ]
          },
          "metadata": {}
        }
      ]
    },
    {
      "cell_type": "code",
      "source": [
        "doc(accuracy_multi)"
      ],
      "metadata": {
        "colab": {
          "base_uri": "https://localhost:8080/",
          "height": 155
        },
        "id": "qqMXGw3Q9LLT",
        "outputId": "bd607fa2-f4a5-4ff1-9558-d1272b85ce2f"
      },
      "execution_count": null,
      "outputs": [
        {
          "output_type": "display_data",
          "data": {
            "text/plain": [
              "<IPython.core.display.HTML object>"
            ],
            "text/html": [
              "<hr/>\n",
              "<h3>accuracy_multi</h3>\n",
              "<blockquote><pre><code>accuracy_multi(inp, targ, thresh=0.5, sigmoid=True)</code></pre></blockquote><p>Compute accuracy when `inp` and `targ` are the same size.</p>\n",
              "<p><a href=\"https://docs.fast.ai/metrics.html#accuracy_multi\" target=\"_blank\" rel=\"noreferrer noopener\">Show in docs</a></p>"
            ]
          },
          "metadata": {}
        }
      ]
    },
    {
      "cell_type": "code",
      "source": [
        "model = BaseModelWrapper(hf_model)\n",
        "\n",
        "acc_02 = partial(accuracy_multi, thresh=0.2)\n",
        "\n",
        "learner = Learner(dls,\n",
        "                  model,\n",
        "                  opt_func=partial(OptimWrapper, opt=torch.optim.AdamW),\n",
        "                  loss_func=BCEWithLogitsLossFlat(),\n",
        "                  metrics=[acc_02],\n",
        "                  cbs=[BaseModelCallback],\n",
        "                  splitter=blurr_splitter\n",
        "                  ).to_fp16()"
      ],
      "metadata": {
        "id": "Zj43uH8W9n9x"
      },
      "execution_count": null,
      "outputs": []
    },
    {
      "cell_type": "markdown",
      "source": [
        "Stage - 0"
      ],
      "metadata": {
        "id": "XyXaffvi91mq"
      }
    },
    {
      "cell_type": "code",
      "source": [
        "learner.freeze()\n",
        "learner.lr_find(suggest_funcs=[slide, valley])"
      ],
      "metadata": {
        "colab": {
          "base_uri": "https://localhost:8080/",
          "height": 471
        },
        "id": "Dh_J98hT9yy2",
        "outputId": "017da8e0-c8b7-41b7-e9fc-0f3bc5214409"
      },
      "execution_count": null,
      "outputs": [
        {
          "output_type": "display_data",
          "data": {
            "text/plain": [
              "<IPython.core.display.HTML object>"
            ],
            "text/html": [
              "\n",
              "<style>\n",
              "    /* Turns off some styling */\n",
              "    progress {\n",
              "        /* gets rid of default border in Firefox and Opera. */\n",
              "        border: none;\n",
              "        /* Needs to be in here for Safari polyfill so background images work as expected. */\n",
              "        background-size: auto;\n",
              "    }\n",
              "    progress:not([value]), progress:not([value])::-webkit-progress-bar {\n",
              "        background: repeating-linear-gradient(45deg, #7e7e7e, #7e7e7e 10px, #5c5c5c 10px, #5c5c5c 20px);\n",
              "    }\n",
              "    .progress-bar-interrupted, .progress-bar-interrupted::-webkit-progress-bar {\n",
              "        background: #F44336;\n",
              "    }\n",
              "</style>\n"
            ]
          },
          "metadata": {}
        },
        {
          "output_type": "display_data",
          "data": {
            "text/plain": [
              "<IPython.core.display.HTML object>"
            ],
            "text/html": []
          },
          "metadata": {}
        },
        {
          "output_type": "execute_result",
          "data": {
            "text/plain": [
              "SuggestedLRs(slide=0.0008317637839354575, valley=0.0002754228771664202)"
            ]
          },
          "metadata": {},
          "execution_count": 29
        },
        {
          "output_type": "display_data",
          "data": {
            "text/plain": [
              "<Figure size 640x480 with 1 Axes>"
            ],
            "image/png": "[encoded data removed]"
          },
          "metadata": {}
        }
      ]
    },
    {
      "cell_type": "code",
      "source": [
        "learner.fit_one_cycle(2,6.5e-4)"
      ],
      "metadata": {
        "colab": {
          "base_uri": "https://localhost:8080/",
          "height": 112
        },
        "id": "NjEmOyvH95Hb",
        "outputId": "d52bff2c-7f2f-4800-e527-388e7a8d0d36"
      },
      "execution_count": null,
      "outputs": [
        {
          "output_type": "display_data",
          "data": {
            "text/plain": [
              "<IPython.core.display.HTML object>"
            ],
            "text/html": [
              "\n",
              "<style>\n",
              "    /* Turns off some styling */\n",
              "    progress {\n",
              "        /* gets rid of default border in Firefox and Opera. */\n",
              "        border: none;\n",
              "        /* Needs to be in here for Safari polyfill so background images work as expected. */\n",
              "        background-size: auto;\n",
              "    }\n",
              "    progress:not([value]), progress:not([value])::-webkit-progress-bar {\n",
              "        background: repeating-linear-gradient(45deg, #7e7e7e, #7e7e7e 10px, #5c5c5c 10px, #5c5c5c 20px);\n",
              "    }\n",
              "    .progress-bar-interrupted, .progress-bar-interrupted::-webkit-progress-bar {\n",
              "        background: #F44336;\n",
              "    }\n",
              "</style>\n"
            ]
          },
          "metadata": {}
        },
        {
          "output_type": "display_data",
          "data": {
            "text/plain": [
              "<IPython.core.display.HTML object>"
            ],
            "text/html": [
              "<table border=\"1\" class=\"dataframe\">\n",
              "  <thead>\n",
              "    <tr style=\"text-align: left;\">\n",
              "      <th>epoch</th>\n",
              "      <th>train_loss</th>\n",
              "      <th>valid_loss</th>\n",
              "      <th>accuracy_multi</th>\n",
              "      <th>time</th>\n",
              "    </tr>\n",
              "  </thead>\n",
              "  <tbody>\n",
              "    <tr>\n",
              "      <td>0</td>\n",
              "      <td>0.020789</td>\n",
              "      <td>0.019205</td>\n",
              "      <td>0.995697</td>\n",
              "      <td>03:58</td>\n",
              "    </tr>\n",
              "    <tr>\n",
              "      <td>1</td>\n",
              "      <td>0.015094</td>\n",
              "      <td>0.013820</td>\n",
              "      <td>0.996482</td>\n",
              "      <td>02:33</td>\n",
              "    </tr>\n",
              "  </tbody>\n",
              "</table>"
            ]
          },
          "metadata": {}
        }
      ]
    },
    {
      "cell_type": "code",
      "source": [
        "model_path = \"models\"\n",
        "if not os.path.exists(model_path):\n",
        "  os.makedirs(model_path)"
      ],
      "metadata": {
        "id": "uEE-swyPVHLy"
      },
      "execution_count": null,
      "outputs": []
    },
    {
      "cell_type": "code",
      "source": [
        "learner.save(\"quote-classifier-stage-0\")"
      ],
      "metadata": {
        "colab": {
          "base_uri": "https://localhost:8080/"
        },
        "id": "zpNmYOIfU4QA",
        "outputId": "87e8b15d-787c-458a-f3e9-9ad85ac8ec47"
      },
      "execution_count": null,
      "outputs": [
        {
          "output_type": "execute_result",
          "data": {
            "text/plain": [
              "Path('models/quote-classifier-stage-0.pth')"
            ]
          },
          "metadata": {},
          "execution_count": 35
        }
      ]
    },
    {
      "cell_type": "code",
      "source": [
        "learner.export(\"models/quote-classifier-stage-0.pkl\")"
      ],
      "metadata": {
        "id": "9MBCAiqhVFU4"
      },
      "execution_count": null,
      "outputs": []
    },
    {
      "cell_type": "markdown",
      "source": [
        "Stage - 1"
      ],
      "metadata": {
        "id": "Qzw4d_ozVZ1j"
      }
    },
    {
      "cell_type": "code",
      "source": [
        "learner.unfreeze()"
      ],
      "metadata": {
        "id": "eJCEZmaHVb7j"
      },
      "execution_count": null,
      "outputs": []
    },
    {
      "cell_type": "code",
      "source": [
        "learner.lr_find(suggest_funcs=[slide, valley])"
      ],
      "metadata": {
        "colab": {
          "base_uri": "https://localhost:8080/",
          "height": 471
        },
        "id": "rizL92uKVd9O",
        "outputId": "1fd8429b-6482-4276-ca16-2c400ee649d9"
      },
      "execution_count": null,
      "outputs": [
        {
          "output_type": "display_data",
          "data": {
            "text/plain": [
              "<IPython.core.display.HTML object>"
            ],
            "text/html": [
              "\n",
              "<style>\n",
              "    /* Turns off some styling */\n",
              "    progress {\n",
              "        /* gets rid of default border in Firefox and Opera. */\n",
              "        border: none;\n",
              "        /* Needs to be in here for Safari polyfill so background images work as expected. */\n",
              "        background-size: auto;\n",
              "    }\n",
              "    progress:not([value]), progress:not([value])::-webkit-progress-bar {\n",
              "        background: repeating-linear-gradient(45deg, #7e7e7e, #7e7e7e 10px, #5c5c5c 10px, #5c5c5c 20px);\n",
              "    }\n",
              "    .progress-bar-interrupted, .progress-bar-interrupted::-webkit-progress-bar {\n",
              "        background: #F44336;\n",
              "    }\n",
              "</style>\n"
            ]
          },
          "metadata": {}
        },
        {
          "output_type": "display_data",
          "data": {
            "text/plain": [
              "<IPython.core.display.HTML object>"
            ],
            "text/html": []
          },
          "metadata": {}
        },
        {
          "output_type": "execute_result",
          "data": {
            "text/plain": [
              "SuggestedLRs(slide=0.0004786300996784121, valley=5.754399353463668e-06)"
            ]
          },
          "metadata": {},
          "execution_count": 38
        },
        {
          "output_type": "display_data",
          "data": {
            "text/plain": [
              "<Figure size 640x480 with 1 Axes>"
            ],
            "image/png": "[encoded data removed]"
          },
          "metadata": {}
        }
      ]
    },
    {
      "cell_type": "code",
      "source": [
        "doc(slice)"
      ],
      "metadata": {
        "colab": {
          "base_uri": "https://localhost:8080/",
          "height": 131
        },
        "id": "GFmU4Yo9XnQ7",
        "outputId": "0127c0ca-fbe1-455d-88e7-2ffeab7a6364"
      },
      "execution_count": null,
      "outputs": [
        {
          "output_type": "display_data",
          "data": {
            "text/plain": [
              "<IPython.core.display.HTML object>"
            ],
            "text/html": [
              "<hr/>\n",
              "<h3>slice</h3>\n",
              "<blockquote><pre><code>slice</code></pre></blockquote><p>Create a slice object.  This is used for extended slicing (e.g. a[0:10:2]).</p>"
            ]
          },
          "metadata": {}
        }
      ]
    },
    {
      "cell_type": "code",
      "source": [
        "learner.fit_one_cycle(3,2e-4)"
      ],
      "metadata": {
        "colab": {
          "base_uri": "https://localhost:8080/",
          "height": 143
        },
        "id": "q5idkSyJVeVv",
        "outputId": "c4985d6a-c60d-429d-860b-d68d3b156cda"
      },
      "execution_count": null,
      "outputs": [
        {
          "output_type": "display_data",
          "data": {
            "text/plain": [
              "<IPython.core.display.HTML object>"
            ],
            "text/html": [
              "\n",
              "<style>\n",
              "    /* Turns off some styling */\n",
              "    progress {\n",
              "        /* gets rid of default border in Firefox and Opera. */\n",
              "        border: none;\n",
              "        /* Needs to be in here for Safari polyfill so background images work as expected. */\n",
              "        background-size: auto;\n",
              "    }\n",
              "    progress:not([value]), progress:not([value])::-webkit-progress-bar {\n",
              "        background: repeating-linear-gradient(45deg, #7e7e7e, #7e7e7e 10px, #5c5c5c 10px, #5c5c5c 20px);\n",
              "    }\n",
              "    .progress-bar-interrupted, .progress-bar-interrupted::-webkit-progress-bar {\n",
              "        background: #F44336;\n",
              "    }\n",
              "</style>\n"
            ]
          },
          "metadata": {}
        },
        {
          "output_type": "display_data",
          "data": {
            "text/plain": [
              "<IPython.core.display.HTML object>"
            ],
            "text/html": [
              "<table border=\"1\" class=\"dataframe\">\n",
              "  <thead>\n",
              "    <tr style=\"text-align: left;\">\n",
              "      <th>epoch</th>\n",
              "      <th>train_loss</th>\n",
              "      <th>valid_loss</th>\n",
              "      <th>accuracy_multi</th>\n",
              "      <th>time</th>\n",
              "    </tr>\n",
              "  </thead>\n",
              "  <tbody>\n",
              "    <tr>\n",
              "      <td>0</td>\n",
              "      <td>0.009207</td>\n",
              "      <td>0.008268</td>\n",
              "      <td>0.997893</td>\n",
              "      <td>04:17</td>\n",
              "    </tr>\n",
              "    <tr>\n",
              "      <td>1</td>\n",
              "      <td>0.005522</td>\n",
              "      <td>0.004844</td>\n",
              "      <td>0.998702</td>\n",
              "      <td>04:13</td>\n",
              "    </tr>\n",
              "    <tr>\n",
              "      <td>2</td>\n",
              "      <td>0.003922</td>\n",
              "      <td>0.003965</td>\n",
              "      <td>0.998917</td>\n",
              "      <td>04:11</td>\n",
              "    </tr>\n",
              "  </tbody>\n",
              "</table>"
            ]
          },
          "metadata": {}
        }
      ]
    },
    {
      "cell_type": "code",
      "source": [
        "learner.save(\"quote-classifier-stage-1\")"
      ],
      "metadata": {
        "colab": {
          "base_uri": "https://localhost:8080/"
        },
        "id": "n1K_PpWjVgfr",
        "outputId": "dfcf7fc8-46cf-447c-b654-635c76e3cb56"
      },
      "execution_count": null,
      "outputs": [
        {
          "output_type": "execute_result",
          "data": {
            "text/plain": [
              "Path('models/quote-classifier-stage-1.pth')"
            ]
          },
          "metadata": {},
          "execution_count": 45
        }
      ]
    },
    {
      "cell_type": "code",
      "source": [
        "learner.export(\"models/quote-classifier-stage-1.pkl\")"
      ],
      "metadata": {
        "id": "gFH3zsxmViFO"
      },
      "execution_count": null,
      "outputs": []
    },
    {
      "cell_type": "code",
      "source": [],
      "metadata": {
        "id": "ua_md2a2ZlMb"
      },
      "execution_count": null,
      "outputs": []
    }
  ]
}